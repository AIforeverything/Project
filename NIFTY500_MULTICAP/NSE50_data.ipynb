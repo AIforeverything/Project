{
 "cells": [
  {
   "cell_type": "code",
   "execution_count": 1,
   "metadata": {},
   "outputs": [],
   "source": [
    "# %pip install -r requirements.txt"
   ]
  },
  {
   "cell_type": "code",
   "execution_count": 2,
   "metadata": {},
   "outputs": [],
   "source": [
    "import datetime as dt\n",
    "import pandas as pd\n",
    "import pandas_datareader as pdr\n",
    "import datetime as dt\n",
    "import time\n",
    "import yfinance as yf"
   ]
  },
  {
   "cell_type": "code",
   "execution_count": 3,
   "metadata": {},
   "outputs": [
    {
     "data": {
      "text/html": [
       "<div>\n",
       "<style scoped>\n",
       "    .dataframe tbody tr th:only-of-type {\n",
       "        vertical-align: middle;\n",
       "    }\n",
       "\n",
       "    .dataframe tbody tr th {\n",
       "        vertical-align: top;\n",
       "    }\n",
       "\n",
       "    .dataframe thead th {\n",
       "        text-align: right;\n",
       "    }\n",
       "</style>\n",
       "<table border=\"1\" class=\"dataframe\">\n",
       "  <thead>\n",
       "    <tr style=\"text-align: right;\">\n",
       "      <th></th>\n",
       "      <th>SYMBOL \\n</th>\n",
       "      <th>OPEN \\n</th>\n",
       "      <th>HIGH \\n</th>\n",
       "      <th>LOW \\n</th>\n",
       "      <th>PREV. CLOSE \\n</th>\n",
       "      <th>LTP \\n</th>\n",
       "      <th>INDICATIVE CLOSE \\n</th>\n",
       "      <th>CHNG \\n</th>\n",
       "      <th>%CHNG \\n</th>\n",
       "      <th>VOLUME \\n(shares)</th>\n",
       "      <th>VALUE \\n (₹ Crores)</th>\n",
       "      <th>52W H \\n</th>\n",
       "      <th>52W L \\n</th>\n",
       "      <th>30 D   %CHNG \\n</th>\n",
       "      <th>365 D % CHNG \\n 09-Feb-2024</th>\n",
       "    </tr>\n",
       "  </thead>\n",
       "  <tbody>\n",
       "    <tr>\n",
       "      <th>0</th>\n",
       "      <td>NIFTY500 MULTICAP 50:25:25</td>\n",
       "      <td>15,036.40</td>\n",
       "      <td>15,052.45</td>\n",
       "      <td>14,762.10</td>\n",
       "      <td>15,043.40</td>\n",
       "      <td>14,816.20</td>\n",
       "      <td>-</td>\n",
       "      <td>-227.20</td>\n",
       "      <td>-1.51</td>\n",
       "      <td>1,46,38,44,282</td>\n",
       "      <td>59,900.50</td>\n",
       "      <td>17,112.15</td>\n",
       "      <td>5,531.55</td>\n",
       "      <td>-1.57</td>\n",
       "      <td>8.37</td>\n",
       "    </tr>\n",
       "    <tr>\n",
       "      <th>1</th>\n",
       "      <td>REDINGTON</td>\n",
       "      <td>233.00</td>\n",
       "      <td>244.80</td>\n",
       "      <td>229.40</td>\n",
       "      <td>231.80</td>\n",
       "      <td>242.50</td>\n",
       "      <td>-</td>\n",
       "      <td>10.70</td>\n",
       "      <td>4.62</td>\n",
       "      <td>3,43,12,634</td>\n",
       "      <td>821.44</td>\n",
       "      <td>244.80</td>\n",
       "      <td>158.61</td>\n",
       "      <td>13.57</td>\n",
       "      <td>21.81</td>\n",
       "    </tr>\n",
       "    <tr>\n",
       "      <th>2</th>\n",
       "      <td>SIGNATURE</td>\n",
       "      <td>1,265.90</td>\n",
       "      <td>1,339.50</td>\n",
       "      <td>1,250.50</td>\n",
       "      <td>1,262.55</td>\n",
       "      <td>1,311.00</td>\n",
       "      <td>-</td>\n",
       "      <td>48.45</td>\n",
       "      <td>3.84</td>\n",
       "      <td>14,07,759</td>\n",
       "      <td>182.66</td>\n",
       "      <td>1,647.00</td>\n",
       "      <td>1,040.00</td>\n",
       "      <td>0.77</td>\n",
       "      <td>-4.13</td>\n",
       "    </tr>\n",
       "    <tr>\n",
       "      <th>3</th>\n",
       "      <td>VARROC</td>\n",
       "      <td>540.00</td>\n",
       "      <td>573.75</td>\n",
       "      <td>492.85</td>\n",
       "      <td>543.50</td>\n",
       "      <td>561.00</td>\n",
       "      <td>-</td>\n",
       "      <td>17.50</td>\n",
       "      <td>3.22</td>\n",
       "      <td>14,16,683</td>\n",
       "      <td>74.39</td>\n",
       "      <td>716.90</td>\n",
       "      <td>433.00</td>\n",
       "      <td>-9.93</td>\n",
       "      <td>2.06</td>\n",
       "    </tr>\n",
       "    <tr>\n",
       "      <th>4</th>\n",
       "      <td>AVANTIFEED</td>\n",
       "      <td>720.05</td>\n",
       "      <td>750.00</td>\n",
       "      <td>718.55</td>\n",
       "      <td>720.10</td>\n",
       "      <td>742.60</td>\n",
       "      <td>-</td>\n",
       "      <td>22.50</td>\n",
       "      <td>3.12</td>\n",
       "      <td>12,56,853</td>\n",
       "      <td>92.35</td>\n",
       "      <td>793.00</td>\n",
       "      <td>472.00</td>\n",
       "      <td>19.04</td>\n",
       "      <td>35.34</td>\n",
       "    </tr>\n",
       "  </tbody>\n",
       "</table>\n",
       "</div>"
      ],
      "text/plain": [
       "                    SYMBOL \\n    OPEN \\n    HIGH \\n     LOW \\n PREV. CLOSE \\n  \\\n",
       "0  NIFTY500 MULTICAP 50:25:25  15,036.40  15,052.45  14,762.10      15,043.40   \n",
       "1                   REDINGTON     233.00     244.80     229.40         231.80   \n",
       "2                   SIGNATURE   1,265.90   1,339.50   1,250.50       1,262.55   \n",
       "3                      VARROC     540.00     573.75     492.85         543.50   \n",
       "4                  AVANTIFEED     720.05     750.00     718.55         720.10   \n",
       "\n",
       "      LTP \\n INDICATIVE CLOSE \\n  CHNG \\n  %CHNG \\n VOLUME \\n(shares)  \\\n",
       "0  14,816.20                   -  -227.20     -1.51    1,46,38,44,282   \n",
       "1     242.50                   -    10.70      4.62       3,43,12,634   \n",
       "2   1,311.00                   -    48.45      3.84         14,07,759   \n",
       "3     561.00                   -    17.50      3.22         14,16,683   \n",
       "4     742.60                   -    22.50      3.12         12,56,853   \n",
       "\n",
       "  VALUE \\n (₹ Crores)   52W H \\n  52W L \\n 30 D   %CHNG \\n  \\\n",
       "0           59,900.50  17,112.15  5,531.55           -1.57   \n",
       "1              821.44     244.80    158.61           13.57   \n",
       "2              182.66   1,647.00  1,040.00            0.77   \n",
       "3               74.39     716.90    433.00           -9.93   \n",
       "4               92.35     793.00    472.00           19.04   \n",
       "\n",
       "  365 D % CHNG \\n 09-Feb-2024  \n",
       "0                        8.37  \n",
       "1                       21.81  \n",
       "2                       -4.13  \n",
       "3                        2.06  \n",
       "4                       35.34  "
      ]
     },
     "execution_count": 3,
     "metadata": {},
     "output_type": "execute_result"
    }
   ],
   "source": [
    "df_nifty500=pd.read_csv(\"MW-NIFTY500-MULTICAP-50_25_25-10-Feb-2025.csv\")\n",
    "df_nifty500.head()"
   ]
  },
  {
   "cell_type": "code",
   "execution_count": 5,
   "metadata": {},
   "outputs": [
    {
     "name": "stdout",
     "output_type": "stream",
     "text": [
      "['REDINGTON', 'SIGNATURE', 'VARROC', 'AVANTIFEED', 'ANANTRAJ', 'DOMS', 'BAJAJHLDNG', 'ENGINERSIN', 'PNCINFRA', 'AKUMS', 'KOTAKBANK', 'PTCIL', 'BERGEPAINT', 'UNOMINDA', 'BHARTIARTL', 'LATENTVIEW', 'BALRAMCHIN', 'PAGEIND', 'ESCORTS', 'BRITANNIA', 'SOLARINDS', 'ISEC', 'TIMKEN', 'FLUOROCHEM', 'GAEL', 'TATACONSUM', 'CUMMINSIND', 'HCLTECH', 'AMBER', 'UBL', 'TECHM', 'CGCL', 'CRAFTSMAN', 'DABUR', 'BATAINDIA', 'WIPRO', 'SHRIRAMFIN', 'PATANJALI', 'JBCHEPHARM', 'ICICIBANK', 'TBOTEK', 'TCS', 'INDIAMART', 'GESHIP', '3MINDIA', 'ANANDRATHI', 'APOLLOHOSP', 'SONACOMS', 'GODFRYPHLP', 'KEC', 'PIDILITIND', 'IRCTC', 'JUBLPHARMA', 'ASIANPAINT', 'NESTLEIND', 'COCHINSHIP', 'RAMCOCEM', 'SBIN', 'TTML', 'INOXWIND', 'VINATIORGA', 'IRCON', 'NCC', 'KSB', 'BHEL', 'APLLTD', 'CAMPUS', 'HDFCLIFE', 'ADANIPORTS', 'ICICIGI', 'GNFC', 'CASTROLIND', 'HINDUNILVR', 'NAVINFLUOR', 'AIAENG', 'JINDALSTEL', 'METROBRAND', 'LT', 'BHARATFORG', 'M&MFIN', 'NH', 'COROMANDEL', 'DEVYANI', 'BANKBARODA', 'KIRLOSENG', 'EMAMILTD', 'BAJAJFINSV', 'SHREECEM', 'PIIND', 'GRSE', 'AAVAS', 'MANKIND', 'RAILTEL', 'POWERINDIA', 'FSL', 'BDL', 'FEDERALBNK', 'SANOFI', 'KPRMILL', 'UNITDSPR', 'NUVAMA', 'PETRONET', 'ABBOTINDIA', 'KPITTECH', 'ITC', 'CHENNPETRO', 'APOLLOTYRE', 'LTF', 'NAUKRI', 'CEATLTD', 'VGUARD', 'ADANIPOWER', 'FINEORG', 'ASTRAZEN', 'RRKABEL', 'EICHERMOT', 'MARICO', 'ASAHIINDIA', 'TATAELXSI', 'TATATECH', 'SRF', 'INDUSINDBK', 'INDIGO', 'SUNPHARMA', 'MAHLIFE', 'HDFCBANK', 'CANBK', 'DMART', 'RELIANCE', 'ELECON', 'AUROPHARMA', 'BBTC', 'TATAINVEST', 'TITAGARH', 'TRIVENI', 'PNB', 'NSLNISP', 'LICI', 'KPIL', 'RENUKA', 'RAINBOW', 'JSWINFRA', 'MANYAVAR', 'HAL', 'HAVELLS', 'SAREGAMA', 'UPL', 'CIPLA', 'JUBLFOOD', 'BEL', 'ROUTE', 'ZFCVINDIA', 'ULTRACEMCO', 'TANLA', 'HINDPETRO', 'AXISBANK', 'AMBUJACEM', 'INDIACEM', 'JPPOWER', 'MARUTI', 'HINDZINC', 'PVRINOX', 'BAJAJ-AUTO', 'FINPIPE', 'WELSPUNLIV', 'MMTC', 'INFY', 'SJVN', 'SCHNEIDER', 'MAZDOCK', 'PHOENIXLTD', 'GPIL', 'ABCAPITAL', 'ATUL', 'RAJESHEXPO', 'BOSCHLTD', 'GMRAIRPORT', 'CESC', 'SUZLON', 'RBLBANK', 'GODREJCP', 'DRREDDY', 'ASHOKLEY', 'COLPAL', 'DALBHARAT', 'OBEROIRLTY', 'AFFLE', 'GRASIM', 'IOC', 'SYRMA', 'ASTERDM', 'JKCEMENT', 'KNRCON', 'CUB', 'ALKYLAMINE', 'OLECTRA', 'MAHABANK', 'CELLO', 'NHPC', 'VOLTAS', 'LALPATHLAB', 'BSE', 'CHAMBLFERT', 'SYNGENE', 'EXIDEIND', 'TIINDIA', 'TRITURBINE', 'ABREL', 'TATAMOTORS', 'DBREALTY', 'CYIENT', 'KAJARIACER', 'CENTRALBK', 'HEROMOTOCO', 'COFORGE', 'ASTRAL', 'LTTS', 'MRF', 'ALOKINDS', 'TEJASNET', 'NYKAA', 'HDFCAMC', 'EIHOTEL', 'SPARC', 'IOB', 'LUPIN', 'SBILIFE', 'HEG', 'ECLERX', 'IRFC', 'SKFINDIA', 'GILLETTE', 'SBFC', 'IDFCFIRSTB', 'GAIL', 'PRESTIGE', 'SWSOLAR', 'IGL', 'IIFL', 'BPCL', 'GODIGIT', 'ENDURANCE', 'CONCOR', 'BASF', 'UCOBANK', 'JSL', 'BEML', 'INOXINDIA', 'BSOFT', 'JYOTHYLAB', 'MOTHERSON', 'INDHOTEL', 'ZENSARTECH', 'CHEMPLASTS', 'HINDALCO', 'VBL', 'NTPC', 'OFSS', 'COALINDIA', 'EASEMYTRIP', 'APLAPOLLO', 'JKTYRE', 'RITES', 'MRPL', 'BALKRISIND', 'ACC', 'MUTHOOTFIN', 'AUBANK', 'BANKINDIA', 'EQUITASBNK', 'SCHAEFFLER', 'INDGN', 'GLAND', 'MFSL', 'FINCABLES', 'M&M', 'JSWENERGY', 'GSFC', 'JSWSTEEL', 'LEMONTREE', 'KARURVYSYA', 'RATNAMANI', 'TRIDENT', 'CHALET', 'VTL', 'CRISIL', 'ABB', 'ADANIENT', 'AARTIIND', 'TATACOMM', 'MASTEK', 'TORNTPHARM', 'SBICARD', 'MSUMI', 'BAJFINANCE', 'HAPPSTMNDS', 'CCL', 'TVSMOTOR', 'TATACHEM', 'IREDA', 'RAYMOND', 'JWL', 'BANDHANBNK', 'DIXON', 'GLENMARK', 'METROPOLIS', 'ICICIPRULI', 'TATAPOWER', 'POONAWALLA', 'PEL', 'ELGIEQUIP', 'BIOCON', 'JUSTDIAL', 'ONGC', 'ACE', 'GRANULES', 'BAYERCROP', 'GVT&D', 'QUESS', 'LAURUSLABS', 'NETWORK18', 'PPLPHARMA', 'JIOFIN', 'MGL', 'J&KBANK', 'RADICO', 'CERA', 'YESBANK', 'CREDITACC', 'NBCC', 'MANAPPURAM', 'APTUS', 'ANGELONE', 'SIEMENS', 'IRB', 'IFCI', 'DEEPAKNTR', 'HOMEFIRST', 'CHOLAFIN', 'JUBLINGREA', 'SUPREMEIND', 'HFCL', 'MOTILALOFS', 'CLEAN', 'SHYAMMETL', 'UNIONBANK', 'DATAPATTNS', 'ARE&M', 'NATCOPHARM', 'NUVOCO', 'PRAJIND', 'MAHSEAMLES', 'CDSL', 'PGHH', '360ONE', 'NIACL', 'MPHASIS', 'LICHSGFIN', 'BLUESTARCO', 'PFIZER', 'ZYDUSLIFE', 'GPPL', 'IEX', 'PNBHOUSING', 'TITAN', 'KEI', 'GSPL', 'MEDANTA', 'ZOMATO', 'GRINFRA', 'SUNDARMFIN', 'LINDEINDIA', 'LTIM', 'KALYANKJIL', 'KIRLOSBROS', 'JINDALSAW', 'MAPMYINDIA', 'INTELLECT', 'BLUEDART', 'KIMS', 'CHOLAHLDNG', 'GRAPHITE', 'BLS', 'POLYMED', 'HONASA', 'WESTLIFE', 'RHIM', 'INDUSTOWER', 'EMCURE', 'UTIAMC', 'HINDCOPPER', 'TATASTEEL', 'KANSAINER', 'RTNINDIA', 'HUDCO', 'HONAUT', 'BIKAJI', 'CANFINHOME', 'GODREJAGRO', 'DIVISLAB', 'POWERGRID', 'WELCORP', 'NAM-INDIA', 'ABSLAMC', 'VIJAYA', 'TVSSCS', 'GLAXO', 'AEGISLOG', 'AWL', 'SAPPHIRE', 'PFC', 'HSCL', 'CIEINDIA', 'GODREJPROP', 'IDBI', 'VIPIND', 'BIRLACORPN', 'AJANTPHARM', 'FORTIS', 'ADANIGREEN', 'LLOYDSME', 'ATGL', 'JBMA', 'GRINDWELL', 'INDIANB', 'BALAMINES', 'IDEA', 'DLF', 'RKFORGE', 'RVNL', 'STARHEALTH', 'NLCINDIA', 'CAMS', 'NEWGEN', 'PCBL', 'ITI', 'GUJGASLTD', 'POLICYBZR', 'MCX', 'POLYCAB', 'THERMAX', 'HBLENGINE', 'FACT', 'SUNDRMFAST', 'DEEPAKFERT', 'PERSISTENT', 'KAYNES', 'RCF', 'NMDC', 'AADHARHFC', 'GODREJIND', 'TORNTPOWER', 'SUVENPHAR', 'SUNTV', 'BRIGADE', 'MINDACORP', 'IPCALAB', 'ZEEL', 'ADANIENSOL', 'CGPOWER', 'RECLTD', 'PAYTM', 'SWANENERGY', 'EIDPARRY', 'WHIRLPOOL', 'GICRE', 'VEDL', 'SAMMAANCAP', 'USHAMART', 'ABFRL', 'GMDCLTD', 'TRENT', 'SONATSOFTW', 'CROMPTON', 'JKLAKSHMI', 'TECHNOE', 'LODHA', 'CAPLIPOINT', 'SAIL', 'CENTURYPLY', 'NATIONALUM', 'CONCORDBIO', 'ERIS', 'OIL', 'JYOTICNC', 'CARBORUNIV', 'SUMICHEM', 'APARINDS', 'ACI', 'KFINTECH', 'DELHIVERY', 'SCI', 'FIVESTAR', 'MAXHEALTH', 'SOBHA', 'BHARTIHEXA', 'ALKEM', 'UJJIVANSFB', 'JMFINANCIL', 'NETWEB']\n"
     ]
    }
   ],
   "source": [
    "nifty500Symbols=list(df_nifty500[\"SYMBOL \\n\"])\n",
    "nifty500Symbols=nifty500Symbols[1:] #removing NIFTY 500 symbol\n",
    "print(nifty500Symbols)"
   ]
  },
  {
   "cell_type": "code",
   "execution_count": 6,
   "metadata": {},
   "outputs": [
    {
     "name": "stdout",
     "output_type": "stream",
     "text": [
      "['REDINGTON.ns', 'SIGNATURE.ns', 'VARROC.ns', 'AVANTIFEED.ns', 'ANANTRAJ.ns', 'DOMS.ns', 'BAJAJHLDNG.ns', 'ENGINERSIN.ns', 'PNCINFRA.ns', 'AKUMS.ns', 'KOTAKBANK.ns', 'PTCIL.ns', 'BERGEPAINT.ns', 'UNOMINDA.ns', 'BHARTIARTL.ns', 'LATENTVIEW.ns', 'BALRAMCHIN.ns', 'PAGEIND.ns', 'ESCORTS.ns', 'BRITANNIA.ns', 'SOLARINDS.ns', 'ISEC.ns', 'TIMKEN.ns', 'FLUOROCHEM.ns', 'GAEL.ns', 'TATACONSUM.ns', 'CUMMINSIND.ns', 'HCLTECH.ns', 'AMBER.ns', 'UBL.ns', 'TECHM.ns', 'CGCL.ns', 'CRAFTSMAN.ns', 'DABUR.ns', 'BATAINDIA.ns', 'WIPRO.ns', 'SHRIRAMFIN.ns', 'PATANJALI.ns', 'JBCHEPHARM.ns', 'ICICIBANK.ns', 'TBOTEK.ns', 'TCS.ns', 'INDIAMART.ns', 'GESHIP.ns', '3MINDIA.ns', 'ANANDRATHI.ns', 'APOLLOHOSP.ns', 'SONACOMS.ns', 'GODFRYPHLP.ns', 'KEC.ns', 'PIDILITIND.ns', 'IRCTC.ns', 'JUBLPHARMA.ns', 'ASIANPAINT.ns', 'NESTLEIND.ns', 'COCHINSHIP.ns', 'RAMCOCEM.ns', 'SBIN.ns', 'TTML.ns', 'INOXWIND.ns', 'VINATIORGA.ns', 'IRCON.ns', 'NCC.ns', 'KSB.ns', 'BHEL.ns', 'APLLTD.ns', 'CAMPUS.ns', 'HDFCLIFE.ns', 'ADANIPORTS.ns', 'ICICIGI.ns', 'GNFC.ns', 'CASTROLIND.ns', 'HINDUNILVR.ns', 'NAVINFLUOR.ns', 'AIAENG.ns', 'JINDALSTEL.ns', 'METROBRAND.ns', 'LT.ns', 'BHARATFORG.ns', 'M&MFIN.ns', 'NH.ns', 'COROMANDEL.ns', 'DEVYANI.ns', 'BANKBARODA.ns', 'KIRLOSENG.ns', 'EMAMILTD.ns', 'BAJAJFINSV.ns', 'SHREECEM.ns', 'PIIND.ns', 'GRSE.ns', 'AAVAS.ns', 'MANKIND.ns', 'RAILTEL.ns', 'POWERINDIA.ns', 'FSL.ns', 'BDL.ns', 'FEDERALBNK.ns', 'SANOFI.ns', 'KPRMILL.ns', 'UNITDSPR.ns', 'NUVAMA.ns', 'PETRONET.ns', 'ABBOTINDIA.ns', 'KPITTECH.ns', 'ITC.ns', 'CHENNPETRO.ns', 'APOLLOTYRE.ns', 'LTF.ns', 'NAUKRI.ns', 'CEATLTD.ns', 'VGUARD.ns', 'ADANIPOWER.ns', 'FINEORG.ns', 'ASTRAZEN.ns', 'RRKABEL.ns', 'EICHERMOT.ns', 'MARICO.ns', 'ASAHIINDIA.ns', 'TATAELXSI.ns', 'TATATECH.ns', 'SRF.ns', 'INDUSINDBK.ns', 'INDIGO.ns', 'SUNPHARMA.ns', 'MAHLIFE.ns', 'HDFCBANK.ns', 'CANBK.ns', 'DMART.ns', 'RELIANCE.ns', 'ELECON.ns', 'AUROPHARMA.ns', 'BBTC.ns', 'TATAINVEST.ns', 'TITAGARH.ns', 'TRIVENI.ns', 'PNB.ns', 'NSLNISP.ns', 'LICI.ns', 'KPIL.ns', 'RENUKA.ns', 'RAINBOW.ns', 'JSWINFRA.ns', 'MANYAVAR.ns', 'HAL.ns', 'HAVELLS.ns', 'SAREGAMA.ns', 'UPL.ns', 'CIPLA.ns', 'JUBLFOOD.ns', 'BEL.ns', 'ROUTE.ns', 'ZFCVINDIA.ns', 'ULTRACEMCO.ns', 'TANLA.ns', 'HINDPETRO.ns', 'AXISBANK.ns', 'AMBUJACEM.ns', 'INDIACEM.ns', 'JPPOWER.ns', 'MARUTI.ns', 'HINDZINC.ns', 'PVRINOX.ns', 'BAJAJ-AUTO.ns', 'FINPIPE.ns', 'WELSPUNLIV.ns', 'MMTC.ns', 'INFY.ns', 'SJVN.ns', 'SCHNEIDER.ns', 'MAZDOCK.ns', 'PHOENIXLTD.ns', 'GPIL.ns', 'ABCAPITAL.ns', 'ATUL.ns', 'RAJESHEXPO.ns', 'BOSCHLTD.ns', 'GMRAIRPORT.ns', 'CESC.ns', 'SUZLON.ns', 'RBLBANK.ns', 'GODREJCP.ns', 'DRREDDY.ns', 'ASHOKLEY.ns', 'COLPAL.ns', 'DALBHARAT.ns', 'OBEROIRLTY.ns', 'AFFLE.ns', 'GRASIM.ns', 'IOC.ns', 'SYRMA.ns', 'ASTERDM.ns', 'JKCEMENT.ns', 'KNRCON.ns', 'CUB.ns', 'ALKYLAMINE.ns', 'OLECTRA.ns', 'MAHABANK.ns', 'CELLO.ns', 'NHPC.ns', 'VOLTAS.ns', 'LALPATHLAB.ns', 'BSE.ns', 'CHAMBLFERT.ns', 'SYNGENE.ns', 'EXIDEIND.ns', 'TIINDIA.ns', 'TRITURBINE.ns', 'ABREL.ns', 'TATAMOTORS.ns', 'DBREALTY.ns', 'CYIENT.ns', 'KAJARIACER.ns', 'CENTRALBK.ns', 'HEROMOTOCO.ns', 'COFORGE.ns', 'ASTRAL.ns', 'LTTS.ns', 'MRF.ns', 'ALOKINDS.ns', 'TEJASNET.ns', 'NYKAA.ns', 'HDFCAMC.ns', 'EIHOTEL.ns', 'SPARC.ns', 'IOB.ns', 'LUPIN.ns', 'SBILIFE.ns', 'HEG.ns', 'ECLERX.ns', 'IRFC.ns', 'SKFINDIA.ns', 'GILLETTE.ns', 'SBFC.ns', 'IDFCFIRSTB.ns', 'GAIL.ns', 'PRESTIGE.ns', 'SWSOLAR.ns', 'IGL.ns', 'IIFL.ns', 'BPCL.ns', 'GODIGIT.ns', 'ENDURANCE.ns', 'CONCOR.ns', 'BASF.ns', 'UCOBANK.ns', 'JSL.ns', 'BEML.ns', 'INOXINDIA.ns', 'BSOFT.ns', 'JYOTHYLAB.ns', 'MOTHERSON.ns', 'INDHOTEL.ns', 'ZENSARTECH.ns', 'CHEMPLASTS.ns', 'HINDALCO.ns', 'VBL.ns', 'NTPC.ns', 'OFSS.ns', 'COALINDIA.ns', 'EASEMYTRIP.ns', 'APLAPOLLO.ns', 'JKTYRE.ns', 'RITES.ns', 'MRPL.ns', 'BALKRISIND.ns', 'ACC.ns', 'MUTHOOTFIN.ns', 'AUBANK.ns', 'BANKINDIA.ns', 'EQUITASBNK.ns', 'SCHAEFFLER.ns', 'INDGN.ns', 'GLAND.ns', 'MFSL.ns', 'FINCABLES.ns', 'M&M.ns', 'JSWENERGY.ns', 'GSFC.ns', 'JSWSTEEL.ns', 'LEMONTREE.ns', 'KARURVYSYA.ns', 'RATNAMANI.ns', 'TRIDENT.ns', 'CHALET.ns', 'VTL.ns', 'CRISIL.ns', 'ABB.ns', 'ADANIENT.ns', 'AARTIIND.ns', 'TATACOMM.ns', 'MASTEK.ns', 'TORNTPHARM.ns', 'SBICARD.ns', 'MSUMI.ns', 'BAJFINANCE.ns', 'HAPPSTMNDS.ns', 'CCL.ns', 'TVSMOTOR.ns', 'TATACHEM.ns', 'IREDA.ns', 'RAYMOND.ns', 'JWL.ns', 'BANDHANBNK.ns', 'DIXON.ns', 'GLENMARK.ns', 'METROPOLIS.ns', 'ICICIPRULI.ns', 'TATAPOWER.ns', 'POONAWALLA.ns', 'PEL.ns', 'ELGIEQUIP.ns', 'BIOCON.ns', 'JUSTDIAL.ns', 'ONGC.ns', 'ACE.ns', 'GRANULES.ns', 'BAYERCROP.ns', 'GVT&D.ns', 'QUESS.ns', 'LAURUSLABS.ns', 'NETWORK18.ns', 'PPLPHARMA.ns', 'JIOFIN.ns', 'MGL.ns', 'J&KBANK.ns', 'RADICO.ns', 'CERA.ns', 'YESBANK.ns', 'CREDITACC.ns', 'NBCC.ns', 'MANAPPURAM.ns', 'APTUS.ns', 'ANGELONE.ns', 'SIEMENS.ns', 'IRB.ns', 'IFCI.ns', 'DEEPAKNTR.ns', 'HOMEFIRST.ns', 'CHOLAFIN.ns', 'JUBLINGREA.ns', 'SUPREMEIND.ns', 'HFCL.ns', 'MOTILALOFS.ns', 'CLEAN.ns', 'SHYAMMETL.ns', 'UNIONBANK.ns', 'DATAPATTNS.ns', 'ARE&M.ns', 'NATCOPHARM.ns', 'NUVOCO.ns', 'PRAJIND.ns', 'MAHSEAMLES.ns', 'CDSL.ns', 'PGHH.ns', '360ONE.ns', 'NIACL.ns', 'MPHASIS.ns', 'LICHSGFIN.ns', 'BLUESTARCO.ns', 'PFIZER.ns', 'ZYDUSLIFE.ns', 'GPPL.ns', 'IEX.ns', 'PNBHOUSING.ns', 'TITAN.ns', 'KEI.ns', 'GSPL.ns', 'MEDANTA.ns', 'ZOMATO.ns', 'GRINFRA.ns', 'SUNDARMFIN.ns', 'LINDEINDIA.ns', 'LTIM.ns', 'KALYANKJIL.ns', 'KIRLOSBROS.ns', 'JINDALSAW.ns', 'MAPMYINDIA.ns', 'INTELLECT.ns', 'BLUEDART.ns', 'KIMS.ns', 'CHOLAHLDNG.ns', 'GRAPHITE.ns', 'BLS.ns', 'POLYMED.ns', 'HONASA.ns', 'WESTLIFE.ns', 'RHIM.ns', 'INDUSTOWER.ns', 'EMCURE.ns', 'UTIAMC.ns', 'HINDCOPPER.ns', 'TATASTEEL.ns', 'KANSAINER.ns', 'RTNINDIA.ns', 'HUDCO.ns', 'HONAUT.ns', 'BIKAJI.ns', 'CANFINHOME.ns', 'GODREJAGRO.ns', 'DIVISLAB.ns', 'POWERGRID.ns', 'WELCORP.ns', 'NAM-INDIA.ns', 'ABSLAMC.ns', 'VIJAYA.ns', 'TVSSCS.ns', 'GLAXO.ns', 'AEGISLOG.ns', 'AWL.ns', 'SAPPHIRE.ns', 'PFC.ns', 'HSCL.ns', 'CIEINDIA.ns', 'GODREJPROP.ns', 'IDBI.ns', 'VIPIND.ns', 'BIRLACORPN.ns', 'AJANTPHARM.ns', 'FORTIS.ns', 'ADANIGREEN.ns', 'LLOYDSME.ns', 'ATGL.ns', 'JBMA.ns', 'GRINDWELL.ns', 'INDIANB.ns', 'BALAMINES.ns', 'IDEA.ns', 'DLF.ns', 'RKFORGE.ns', 'RVNL.ns', 'STARHEALTH.ns', 'NLCINDIA.ns', 'CAMS.ns', 'NEWGEN.ns', 'PCBL.ns', 'ITI.ns', 'GUJGASLTD.ns', 'POLICYBZR.ns', 'MCX.ns', 'POLYCAB.ns', 'THERMAX.ns', 'HBLENGINE.ns', 'FACT.ns', 'SUNDRMFAST.ns', 'DEEPAKFERT.ns', 'PERSISTENT.ns', 'KAYNES.ns', 'RCF.ns', 'NMDC.ns', 'AADHARHFC.ns', 'GODREJIND.ns', 'TORNTPOWER.ns', 'SUVENPHAR.ns', 'SUNTV.ns', 'BRIGADE.ns', 'MINDACORP.ns', 'IPCALAB.ns', 'ZEEL.ns', 'ADANIENSOL.ns', 'CGPOWER.ns', 'RECLTD.ns', 'PAYTM.ns', 'SWANENERGY.ns', 'EIDPARRY.ns', 'WHIRLPOOL.ns', 'GICRE.ns', 'VEDL.ns', 'SAMMAANCAP.ns', 'USHAMART.ns', 'ABFRL.ns', 'GMDCLTD.ns', 'TRENT.ns', 'SONATSOFTW.ns', 'CROMPTON.ns', 'JKLAKSHMI.ns', 'TECHNOE.ns', 'LODHA.ns', 'CAPLIPOINT.ns', 'SAIL.ns', 'CENTURYPLY.ns', 'NATIONALUM.ns', 'CONCORDBIO.ns', 'ERIS.ns', 'OIL.ns', 'JYOTICNC.ns', 'CARBORUNIV.ns', 'SUMICHEM.ns', 'APARINDS.ns', 'ACI.ns', 'KFINTECH.ns', 'DELHIVERY.ns', 'SCI.ns', 'FIVESTAR.ns', 'MAXHEALTH.ns', 'SOBHA.ns', 'BHARTIHEXA.ns', 'ALKEM.ns', 'UJJIVANSFB.ns', 'JMFINANCIL.ns', 'NETWEB.ns']\n"
     ]
    }
   ],
   "source": [
    "#converting every stock name as .NSE to get yahoo finance info\n",
    "for i in range(len(nifty500Symbols)):\n",
    "    nifty500Symbols[i]+='.ns'\n",
    "    \n",
    "print(nifty500Symbols)  "
   ]
  },
  {
   "cell_type": "code",
   "execution_count": 7,
   "metadata": {},
   "outputs": [],
   "source": [
    "#checking the stock details\n",
    "def get_info(ticker):\n",
    "    stock=yf.Ticker(ticker)\n",
    "    print(stock.info)"
   ]
  },
  {
   "cell_type": "code",
   "execution_count": null,
   "metadata": {},
   "outputs": [],
   "source": [
    "# for i in nifty500Symbols:\n",
    "#     print(get_info(i))"
   ]
  },
  {
   "cell_type": "code",
   "execution_count": 9,
   "metadata": {},
   "outputs": [],
   "source": [
    "def save_csv(stock_name):\n",
    "    stock=yf.Ticker(stock_name)\n",
    "    df=stock.history(period=\"20y\")[\"Close\"]\n",
    "    file=stock_name.replace(\".\",\"_\")+\".csv\"\n",
    "    df.to_csv(file)"
   ]
  },
  {
   "cell_type": "code",
   "execution_count": 10,
   "metadata": {},
   "outputs": [
    {
     "name": "stderr",
     "output_type": "stream",
     "text": [
      "Could not get exchangeTimezoneName for ticker 'EASEMYTRIP.NS' reason: 'chart'\n",
      "$EASEMYTRIP.NS: possibly delisted; no price data found  (period=20y)\n"
     ]
    }
   ],
   "source": [
    "for stock in nifty500Symbols:\n",
    "    save_csv(stock)"
   ]
  }
 ],
 "metadata": {
  "kernelspec": {
   "display_name": "Python 3",
   "language": "python",
   "name": "python3"
  },
  "language_info": {
   "codemirror_mode": {
    "name": "ipython",
    "version": 3
   },
   "file_extension": ".py",
   "mimetype": "text/x-python",
   "name": "python",
   "nbconvert_exporter": "python",
   "pygments_lexer": "ipython3",
   "version": "3.12.0"
  }
 },
 "nbformat": 4,
 "nbformat_minor": 2
}
