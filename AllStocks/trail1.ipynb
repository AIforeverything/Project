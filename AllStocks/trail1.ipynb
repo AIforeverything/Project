{
 "cells": [
  {
   "cell_type": "code",
   "execution_count": 318,
   "metadata": {},
   "outputs": [],
   "source": [
    "import numpy as np\n",
    "import pandas as pd\n",
    "import matplotlib.pyplot as plt\n",
    "import seaborn as sns\n",
    "\n",
    "import warnings\n",
    "warnings.filterwarnings(\"ignore\")\n",
    "import pickle\n",
    "\n",
    "from sklearn.preprocessing import StandardScaler\n",
    "from sklearn.preprocessing import MinMaxScaler\n",
    "from sklearn.model_selection import train_test_split\n",
    "\n",
    "import tensorflow as tf\n",
    "from tensorflow.keras import layers,models\n"
   ]
  },
  {
   "cell_type": "code",
   "execution_count": 319,
   "metadata": {},
   "outputs": [
    {
     "name": "stdout",
     "output_type": "stream",
     "text": [
      "<class 'pandas.core.frame.DataFrame'>\n",
      "RangeIndex: 4938 entries, 0 to 4937\n",
      "Data columns (total 2 columns):\n",
      " #   Column  Non-Null Count  Dtype  \n",
      "---  ------  --------------  -----  \n",
      " 0   Date    4938 non-null   object \n",
      " 1   Close   4938 non-null   float64\n",
      "dtypes: float64(1), object(1)\n",
      "memory usage: 77.3+ KB\n"
     ]
    }
   ],
   "source": [
    "APOLLOHOSP=pd.read_csv(\"APOLLOHOSP_ns.csv\")\n",
    "APOLLOHOSP.info()"
   ]
  },
  {
   "cell_type": "code",
   "execution_count": null,
   "metadata": {},
   "outputs": [
    {
     "data": {
      "text/html": [
       "<div>\n",
       "<style scoped>\n",
       "    .dataframe tbody tr th:only-of-type {\n",
       "        vertical-align: middle;\n",
       "    }\n",
       "\n",
       "    .dataframe tbody tr th {\n",
       "        vertical-align: top;\n",
       "    }\n",
       "\n",
       "    .dataframe thead th {\n",
       "        text-align: right;\n",
       "    }\n",
       "</style>\n",
       "<table border=\"1\" class=\"dataframe\">\n",
       "  <thead>\n",
       "    <tr style=\"text-align: right;\">\n",
       "      <th></th>\n",
       "      <th>Date</th>\n",
       "      <th>Close</th>\n",
       "    </tr>\n",
       "  </thead>\n",
       "  <tbody>\n",
       "    <tr>\n",
       "      <th>0</th>\n",
       "      <td>2005-01-24 00:00:00+05:30</td>\n",
       "      <td>107.121407</td>\n",
       "    </tr>\n",
       "    <tr>\n",
       "      <th>1</th>\n",
       "      <td>2005-01-25 00:00:00+05:30</td>\n",
       "      <td>107.473495</td>\n",
       "    </tr>\n",
       "    <tr>\n",
       "      <th>2</th>\n",
       "      <td>2005-01-27 00:00:00+05:30</td>\n",
       "      <td>108.683792</td>\n",
       "    </tr>\n",
       "    <tr>\n",
       "      <th>3</th>\n",
       "      <td>2005-01-28 00:00:00+05:30</td>\n",
       "      <td>112.028587</td>\n",
       "    </tr>\n",
       "    <tr>\n",
       "      <th>4</th>\n",
       "      <td>2005-01-31 00:00:00+05:30</td>\n",
       "      <td>113.766998</td>\n",
       "    </tr>\n",
       "  </tbody>\n",
       "</table>\n",
       "</div>"
      ],
      "text/plain": [
       "                        Date       Close\n",
       "0  2005-01-24 00:00:00+05:30  107.121407\n",
       "1  2005-01-25 00:00:00+05:30  107.473495\n",
       "2  2005-01-27 00:00:00+05:30  108.683792\n",
       "3  2005-01-28 00:00:00+05:30  112.028587\n",
       "4  2005-01-31 00:00:00+05:30  113.766998"
      ]
     },
     "execution_count": 320,
     "metadata": {},
     "output_type": "execute_result"
    }
   ],
   "source": [
    "APOLLOHOSP.head()  "
   ]
  },
  {
   "cell_type": "code",
   "execution_count": 321,
   "metadata": {},
   "outputs": [
    {
     "data": {
      "text/html": [
       "<div>\n",
       "<style scoped>\n",
       "    .dataframe tbody tr th:only-of-type {\n",
       "        vertical-align: middle;\n",
       "    }\n",
       "\n",
       "    .dataframe tbody tr th {\n",
       "        vertical-align: top;\n",
       "    }\n",
       "\n",
       "    .dataframe thead th {\n",
       "        text-align: right;\n",
       "    }\n",
       "</style>\n",
       "<table border=\"1\" class=\"dataframe\">\n",
       "  <thead>\n",
       "    <tr style=\"text-align: right;\">\n",
       "      <th></th>\n",
       "      <th>Date</th>\n",
       "      <th>Close</th>\n",
       "    </tr>\n",
       "  </thead>\n",
       "  <tbody>\n",
       "    <tr>\n",
       "      <th>0</th>\n",
       "      <td>2005-01-24 00:00:00+05:30</td>\n",
       "      <td>26.359833</td>\n",
       "    </tr>\n",
       "    <tr>\n",
       "      <th>1</th>\n",
       "      <td>2005-01-25 00:00:00+05:30</td>\n",
       "      <td>26.839895</td>\n",
       "    </tr>\n",
       "    <tr>\n",
       "      <th>2</th>\n",
       "      <td>2005-01-27 00:00:00+05:30</td>\n",
       "      <td>27.820045</td>\n",
       "    </tr>\n",
       "    <tr>\n",
       "      <th>3</th>\n",
       "      <td>2005-01-28 00:00:00+05:30</td>\n",
       "      <td>27.852049</td>\n",
       "    </tr>\n",
       "    <tr>\n",
       "      <th>4</th>\n",
       "      <td>2005-01-31 00:00:00+05:30</td>\n",
       "      <td>28.792189</td>\n",
       "    </tr>\n",
       "  </tbody>\n",
       "</table>\n",
       "</div>"
      ],
      "text/plain": [
       "                        Date      Close\n",
       "0  2005-01-24 00:00:00+05:30  26.359833\n",
       "1  2005-01-25 00:00:00+05:30  26.839895\n",
       "2  2005-01-27 00:00:00+05:30  27.820045\n",
       "3  2005-01-28 00:00:00+05:30  27.852049\n",
       "4  2005-01-31 00:00:00+05:30  28.792189"
      ]
     },
     "execution_count": 321,
     "metadata": {},
     "output_type": "execute_result"
    }
   ],
   "source": [
    "ASIANPAINT=pd.read_csv(\"ASIANPAINT_ns.csv\")\n",
    "ASIANPAINT.head()"
   ]
  },
  {
   "cell_type": "code",
   "execution_count": 322,
   "metadata": {},
   "outputs": [
    {
     "data": {
      "text/plain": [
       "0       1106505000\n",
       "1       1106591400\n",
       "2       1106764200\n",
       "3       1106850600\n",
       "4       1107109800\n",
       "           ...    \n",
       "4933    1737311400\n",
       "4934    1737397800\n",
       "4935    1737484200\n",
       "4936    1737570600\n",
       "4937    1737657000\n",
       "Name: Date, Length: 4938, dtype: int64"
      ]
     },
     "execution_count": 322,
     "metadata": {},
     "output_type": "execute_result"
    }
   ],
   "source": [
    "ASIANPAINT.Date=pd.to_datetime(ASIANPAINT.Date)\n",
    "ASIANPAINT.Date.astype('int64')//10**9"
   ]
  },
  {
   "cell_type": "code",
   "execution_count": 323,
   "metadata": {},
   "outputs": [],
   "source": [
    "df_Apollo_Asian=pd.DataFrame()"
   ]
  },
  {
   "cell_type": "code",
   "execution_count": 324,
   "metadata": {},
   "outputs": [
    {
     "data": {
      "text/html": [
       "<div>\n",
       "<style scoped>\n",
       "    .dataframe tbody tr th:only-of-type {\n",
       "        vertical-align: middle;\n",
       "    }\n",
       "\n",
       "    .dataframe tbody tr th {\n",
       "        vertical-align: top;\n",
       "    }\n",
       "\n",
       "    .dataframe thead th {\n",
       "        text-align: right;\n",
       "    }\n",
       "</style>\n",
       "<table border=\"1\" class=\"dataframe\">\n",
       "  <thead>\n",
       "    <tr style=\"text-align: right;\">\n",
       "      <th></th>\n",
       "      <th>date</th>\n",
       "    </tr>\n",
       "  </thead>\n",
       "  <tbody>\n",
       "    <tr>\n",
       "      <th>0</th>\n",
       "      <td>1106505000</td>\n",
       "    </tr>\n",
       "    <tr>\n",
       "      <th>1</th>\n",
       "      <td>1106591400</td>\n",
       "    </tr>\n",
       "  </tbody>\n",
       "</table>\n",
       "</div>"
      ],
      "text/plain": [
       "         date\n",
       "0  1106505000\n",
       "1  1106591400"
      ]
     },
     "execution_count": 324,
     "metadata": {},
     "output_type": "execute_result"
    }
   ],
   "source": [
    "APOLLOHOSP[\"Date\"]=pd.to_datetime(APOLLOHOSP[\"Date\"])\n",
    "df_Apollo_Asian[\"date\"]=APOLLOHOSP.Date.astype('int64')//10**9\n",
    "df_Apollo_Asian.head(2)"
   ]
  },
  {
   "cell_type": "code",
   "execution_count": 325,
   "metadata": {},
   "outputs": [],
   "source": [
    "df_Apollo_Asian[\"APOLLOHOSP\"]=APOLLOHOSP.Close.round(2)\n",
    "df_Apollo_Asian[\"ASIANPAINT\"]=ASIANPAINT.Close.round(2)"
   ]
  },
  {
   "cell_type": "code",
   "execution_count": 326,
   "metadata": {},
   "outputs": [
    {
     "data": {
      "text/html": [
       "<div>\n",
       "<style scoped>\n",
       "    .dataframe tbody tr th:only-of-type {\n",
       "        vertical-align: middle;\n",
       "    }\n",
       "\n",
       "    .dataframe tbody tr th {\n",
       "        vertical-align: top;\n",
       "    }\n",
       "\n",
       "    .dataframe thead th {\n",
       "        text-align: right;\n",
       "    }\n",
       "</style>\n",
       "<table border=\"1\" class=\"dataframe\">\n",
       "  <thead>\n",
       "    <tr style=\"text-align: right;\">\n",
       "      <th></th>\n",
       "      <th>date</th>\n",
       "      <th>APOLLOHOSP</th>\n",
       "      <th>ASIANPAINT</th>\n",
       "    </tr>\n",
       "  </thead>\n",
       "  <tbody>\n",
       "    <tr>\n",
       "      <th>0</th>\n",
       "      <td>1106505000</td>\n",
       "      <td>107.12</td>\n",
       "      <td>26.36</td>\n",
       "    </tr>\n",
       "    <tr>\n",
       "      <th>1</th>\n",
       "      <td>1106591400</td>\n",
       "      <td>107.47</td>\n",
       "      <td>26.84</td>\n",
       "    </tr>\n",
       "    <tr>\n",
       "      <th>2</th>\n",
       "      <td>1106764200</td>\n",
       "      <td>108.68</td>\n",
       "      <td>27.82</td>\n",
       "    </tr>\n",
       "    <tr>\n",
       "      <th>3</th>\n",
       "      <td>1106850600</td>\n",
       "      <td>112.03</td>\n",
       "      <td>27.85</td>\n",
       "    </tr>\n",
       "    <tr>\n",
       "      <th>4</th>\n",
       "      <td>1107109800</td>\n",
       "      <td>113.77</td>\n",
       "      <td>28.79</td>\n",
       "    </tr>\n",
       "    <tr>\n",
       "      <th>...</th>\n",
       "      <td>...</td>\n",
       "      <td>...</td>\n",
       "      <td>...</td>\n",
       "    </tr>\n",
       "    <tr>\n",
       "      <th>4933</th>\n",
       "      <td>1737311400</td>\n",
       "      <td>6780.85</td>\n",
       "      <td>2280.55</td>\n",
       "    </tr>\n",
       "    <tr>\n",
       "      <th>4934</th>\n",
       "      <td>1737397800</td>\n",
       "      <td>6919.15</td>\n",
       "      <td>2260.35</td>\n",
       "    </tr>\n",
       "    <tr>\n",
       "      <th>4935</th>\n",
       "      <td>1737484200</td>\n",
       "      <td>6892.90</td>\n",
       "      <td>2262.10</td>\n",
       "    </tr>\n",
       "    <tr>\n",
       "      <th>4936</th>\n",
       "      <td>1737570600</td>\n",
       "      <td>6920.85</td>\n",
       "      <td>2276.35</td>\n",
       "    </tr>\n",
       "    <tr>\n",
       "      <th>4937</th>\n",
       "      <td>1737657000</td>\n",
       "      <td>6745.05</td>\n",
       "      <td>2262.40</td>\n",
       "    </tr>\n",
       "  </tbody>\n",
       "</table>\n",
       "<p>4938 rows × 3 columns</p>\n",
       "</div>"
      ],
      "text/plain": [
       "            date  APOLLOHOSP  ASIANPAINT\n",
       "0     1106505000      107.12       26.36\n",
       "1     1106591400      107.47       26.84\n",
       "2     1106764200      108.68       27.82\n",
       "3     1106850600      112.03       27.85\n",
       "4     1107109800      113.77       28.79\n",
       "...          ...         ...         ...\n",
       "4933  1737311400     6780.85     2280.55\n",
       "4934  1737397800     6919.15     2260.35\n",
       "4935  1737484200     6892.90     2262.10\n",
       "4936  1737570600     6920.85     2276.35\n",
       "4937  1737657000     6745.05     2262.40\n",
       "\n",
       "[4938 rows x 3 columns]"
      ]
     },
     "execution_count": 326,
     "metadata": {},
     "output_type": "execute_result"
    }
   ],
   "source": [
    "df_Apollo_Asian"
   ]
  },
  {
   "cell_type": "code",
   "execution_count": 327,
   "metadata": {},
   "outputs": [],
   "source": [
    "# max_date=max(df_Apollo_Asian.date)\n",
    "# Apmax=max(df_Apollo_Asian.APOLLOHOSP)\n",
    "# Asmax=max(df_Apollo_Asian.ASIANPAINT)\n",
    "# print(max_date,Apmax,Asmax)"
   ]
  },
  {
   "cell_type": "code",
   "execution_count": 328,
   "metadata": {},
   "outputs": [
    {
     "data": {
      "text/plain": [
       "0       1106505000\n",
       "1       1106591400\n",
       "2       1106764200\n",
       "3       1106850600\n",
       "4       1107109800\n",
       "           ...    \n",
       "4933    1737311400\n",
       "4934    1737397800\n",
       "4935    1737484200\n",
       "4936    1737570600\n",
       "4937    1737657000\n",
       "Name: date, Length: 4938, dtype: int64"
      ]
     },
     "execution_count": 328,
     "metadata": {},
     "output_type": "execute_result"
    }
   ],
   "source": [
    "df_Apollo_Asian.date"
   ]
  },
  {
   "cell_type": "code",
   "execution_count": 329,
   "metadata": {},
   "outputs": [],
   "source": [
    "# date is standardized using maximum value\n",
    "# df_Apollo_Asian.date=(df_Apollo_Asian.date/max(df_Apollo_Asian.date))\n",
    "# df_Apollo_Asian.APOLLOHOSP=df_Apollo_Asian.APOLLOHOSP/max(df_Apollo_Asian.APOLLOHOSP)\n",
    "# df_Apollo_Asian.ASIANPAINT=df_Apollo_Asian.ASIANPAINT/max(df_Apollo_Asian.ASIANPAINT)"
   ]
  },
  {
   "cell_type": "code",
   "execution_count": 330,
   "metadata": {},
   "outputs": [
    {
     "data": {
      "text/html": [
       "<div>\n",
       "<style scoped>\n",
       "    .dataframe tbody tr th:only-of-type {\n",
       "        vertical-align: middle;\n",
       "    }\n",
       "\n",
       "    .dataframe tbody tr th {\n",
       "        vertical-align: top;\n",
       "    }\n",
       "\n",
       "    .dataframe thead th {\n",
       "        text-align: right;\n",
       "    }\n",
       "</style>\n",
       "<table border=\"1\" class=\"dataframe\">\n",
       "  <thead>\n",
       "    <tr style=\"text-align: right;\">\n",
       "      <th></th>\n",
       "      <th>date</th>\n",
       "      <th>APOLLOHOSP</th>\n",
       "      <th>ASIANPAINT</th>\n",
       "    </tr>\n",
       "  </thead>\n",
       "  <tbody>\n",
       "    <tr>\n",
       "      <th>0</th>\n",
       "      <td>1106505000</td>\n",
       "      <td>107.12</td>\n",
       "      <td>26.36</td>\n",
       "    </tr>\n",
       "    <tr>\n",
       "      <th>1</th>\n",
       "      <td>1106591400</td>\n",
       "      <td>107.47</td>\n",
       "      <td>26.84</td>\n",
       "    </tr>\n",
       "  </tbody>\n",
       "</table>\n",
       "</div>"
      ],
      "text/plain": [
       "         date  APOLLOHOSP  ASIANPAINT\n",
       "0  1106505000      107.12       26.36\n",
       "1  1106591400      107.47       26.84"
      ]
     },
     "execution_count": 330,
     "metadata": {},
     "output_type": "execute_result"
    }
   ],
   "source": [
    "df_Apollo_Asian.head(2)"
   ]
  },
  {
   "cell_type": "code",
   "execution_count": 331,
   "metadata": {},
   "outputs": [],
   "source": [
    "#standardizing inputs using standard scaler\n",
    "# def stand(s):\n",
    "#     Standard=StandardScaler()\n",
    "#     Standard.fit_transform(s)\n",
    "#     return s\n",
    "# df_Apollo_Asian[\"date\"].apply(stand)"
   ]
  },
  {
   "cell_type": "code",
   "execution_count": 332,
   "metadata": {},
   "outputs": [
    {
     "data": {
      "text/plain": [
       "date          0\n",
       "APOLLOHOSP    0\n",
       "ASIANPAINT    0\n",
       "dtype: int64"
      ]
     },
     "execution_count": 332,
     "metadata": {},
     "output_type": "execute_result"
    }
   ],
   "source": [
    "df_Apollo_Asian.isnull().sum() #No null values were found"
   ]
  },
  {
   "cell_type": "code",
   "execution_count": 333,
   "metadata": {},
   "outputs": [],
   "source": [
    "X=df_Apollo_Asian.date\n",
    "y=df_Apollo_Asian.drop(\"date\",axis=1)"
   ]
  },
  {
   "cell_type": "code",
   "execution_count": 334,
   "metadata": {},
   "outputs": [],
   "source": [
    "# Scaler=MinMaxScaler()\n",
    "# Scaler.fit_transform([X])\n",
    "# Scaler.fit_transform(y)\n",
    "# Min-Max Scaler transforms each feature (column) individually using the following formula:\n",
    "\n",
    "X = (X - min(X)) / (max(X) - min(X))"
   ]
  },
  {
   "cell_type": "code",
   "execution_count": 335,
   "metadata": {},
   "outputs": [
    {
     "data": {
      "text/plain": [
       "0       0.000000\n",
       "1       0.000137\n",
       "2       0.000411\n",
       "3       0.000548\n",
       "4       0.000958\n",
       "          ...   \n",
       "4933    0.999452\n",
       "4934    0.999589\n",
       "4935    0.999726\n",
       "4936    0.999863\n",
       "4937    1.000000\n",
       "Name: date, Length: 4938, dtype: float64"
      ]
     },
     "execution_count": 335,
     "metadata": {},
     "output_type": "execute_result"
    }
   ],
   "source": [
    "X"
   ]
  },
  {
   "cell_type": "code",
   "execution_count": 336,
   "metadata": {},
   "outputs": [],
   "source": [
    "y[\"APOLLOHOSP\"]=(y[\"APOLLOHOSP\"]-min(y[\"APOLLOHOSP\"]))/(max(y[\"APOLLOHOSP\"])-min(y[\"APOLLOHOSP\"]))\n",
    "y[\"ASIANPAINT\"]=(y[\"ASIANPAINT\"]-min(y[\"ASIANPAINT\"]))/(max(y[\"ASIANPAINT\"])-min(y[\"ASIANPAINT\"]))"
   ]
  },
  {
   "cell_type": "code",
   "execution_count": 337,
   "metadata": {},
   "outputs": [
    {
     "data": {
      "text/html": [
       "<div>\n",
       "<style scoped>\n",
       "    .dataframe tbody tr th:only-of-type {\n",
       "        vertical-align: middle;\n",
       "    }\n",
       "\n",
       "    .dataframe tbody tr th {\n",
       "        vertical-align: top;\n",
       "    }\n",
       "\n",
       "    .dataframe thead th {\n",
       "        text-align: right;\n",
       "    }\n",
       "</style>\n",
       "<table border=\"1\" class=\"dataframe\">\n",
       "  <thead>\n",
       "    <tr style=\"text-align: right;\">\n",
       "      <th></th>\n",
       "      <th>APOLLOHOSP</th>\n",
       "      <th>ASIANPAINT</th>\n",
       "    </tr>\n",
       "  </thead>\n",
       "  <tbody>\n",
       "    <tr>\n",
       "      <th>0</th>\n",
       "      <td>0.000000</td>\n",
       "      <td>0.000000</td>\n",
       "    </tr>\n",
       "    <tr>\n",
       "      <th>1</th>\n",
       "      <td>0.000048</td>\n",
       "      <td>0.000138</td>\n",
       "    </tr>\n",
       "    <tr>\n",
       "      <th>2</th>\n",
       "      <td>0.000213</td>\n",
       "      <td>0.000421</td>\n",
       "    </tr>\n",
       "    <tr>\n",
       "      <th>3</th>\n",
       "      <td>0.000670</td>\n",
       "      <td>0.000429</td>\n",
       "    </tr>\n",
       "    <tr>\n",
       "      <th>4</th>\n",
       "      <td>0.000907</td>\n",
       "      <td>0.000700</td>\n",
       "    </tr>\n",
       "    <tr>\n",
       "      <th>...</th>\n",
       "      <td>...</td>\n",
       "      <td>...</td>\n",
       "    </tr>\n",
       "    <tr>\n",
       "      <th>4933</th>\n",
       "      <td>0.910514</td>\n",
       "      <td>0.649385</td>\n",
       "    </tr>\n",
       "    <tr>\n",
       "      <th>4934</th>\n",
       "      <td>0.929383</td>\n",
       "      <td>0.643566</td>\n",
       "    </tr>\n",
       "    <tr>\n",
       "      <th>4935</th>\n",
       "      <td>0.925801</td>\n",
       "      <td>0.644070</td>\n",
       "    </tr>\n",
       "    <tr>\n",
       "      <th>4936</th>\n",
       "      <td>0.929614</td>\n",
       "      <td>0.648175</td>\n",
       "    </tr>\n",
       "    <tr>\n",
       "      <th>4937</th>\n",
       "      <td>0.905630</td>\n",
       "      <td>0.644156</td>\n",
       "    </tr>\n",
       "  </tbody>\n",
       "</table>\n",
       "<p>4938 rows × 2 columns</p>\n",
       "</div>"
      ],
      "text/plain": [
       "      APOLLOHOSP  ASIANPAINT\n",
       "0       0.000000    0.000000\n",
       "1       0.000048    0.000138\n",
       "2       0.000213    0.000421\n",
       "3       0.000670    0.000429\n",
       "4       0.000907    0.000700\n",
       "...          ...         ...\n",
       "4933    0.910514    0.649385\n",
       "4934    0.929383    0.643566\n",
       "4935    0.925801    0.644070\n",
       "4936    0.929614    0.648175\n",
       "4937    0.905630    0.644156\n",
       "\n",
       "[4938 rows x 2 columns]"
      ]
     },
     "execution_count": 337,
     "metadata": {},
     "output_type": "execute_result"
    }
   ],
   "source": [
    "y"
   ]
  },
  {
   "cell_type": "code",
   "execution_count": 338,
   "metadata": {},
   "outputs": [],
   "source": [
    "X_train, X_test, y_train, y_test= train_test_split(X,y,test_size=0.3,random_state=42)"
   ]
  },
  {
   "cell_type": "code",
   "execution_count": 339,
   "metadata": {},
   "outputs": [
    {
     "data": {
      "text/plain": [
       "56      0.011088\n",
       "1309    0.265435\n",
       "695     0.139220\n",
       "1881    0.379877\n",
       "4044    0.819576\n",
       "          ...   \n",
       "4426    0.896235\n",
       "466     0.093224\n",
       "3092    0.626283\n",
       "3772    0.765229\n",
       "860     0.172758\n",
       "Name: date, Length: 3456, dtype: float64"
      ]
     },
     "execution_count": 339,
     "metadata": {},
     "output_type": "execute_result"
    }
   ],
   "source": [
    "X_train"
   ]
  },
  {
   "cell_type": "code",
   "execution_count": 340,
   "metadata": {},
   "outputs": [
    {
     "data": {
      "text/html": [
       "<div>\n",
       "<style scoped>\n",
       "    .dataframe tbody tr th:only-of-type {\n",
       "        vertical-align: middle;\n",
       "    }\n",
       "\n",
       "    .dataframe tbody tr th {\n",
       "        vertical-align: top;\n",
       "    }\n",
       "\n",
       "    .dataframe thead th {\n",
       "        text-align: right;\n",
       "    }\n",
       "</style>\n",
       "<table border=\"1\" class=\"dataframe\">\n",
       "  <thead>\n",
       "    <tr style=\"text-align: right;\">\n",
       "      <th></th>\n",
       "      <th>APOLLOHOSP</th>\n",
       "      <th>ASIANPAINT</th>\n",
       "    </tr>\n",
       "  </thead>\n",
       "  <tbody>\n",
       "    <tr>\n",
       "      <th>56</th>\n",
       "      <td>0.005711</td>\n",
       "      <td>0.001394</td>\n",
       "    </tr>\n",
       "    <tr>\n",
       "      <th>1309</th>\n",
       "      <td>0.030590</td>\n",
       "      <td>0.046170</td>\n",
       "    </tr>\n",
       "    <tr>\n",
       "      <th>695</th>\n",
       "      <td>0.013905</td>\n",
       "      <td>0.018224</td>\n",
       "    </tr>\n",
       "    <tr>\n",
       "      <th>1881</th>\n",
       "      <td>0.067874</td>\n",
       "      <td>0.088760</td>\n",
       "    </tr>\n",
       "    <tr>\n",
       "      <th>4044</th>\n",
       "      <td>0.429996</td>\n",
       "      <td>0.837941</td>\n",
       "    </tr>\n",
       "    <tr>\n",
       "      <th>...</th>\n",
       "      <td>...</td>\n",
       "      <td>...</td>\n",
       "    </tr>\n",
       "    <tr>\n",
       "      <th>4426</th>\n",
       "      <td>0.606780</td>\n",
       "      <td>0.874703</td>\n",
       "    </tr>\n",
       "    <tr>\n",
       "      <th>466</th>\n",
       "      <td>0.012939</td>\n",
       "      <td>0.009772</td>\n",
       "    </tr>\n",
       "    <tr>\n",
       "      <th>3092</th>\n",
       "      <td>0.152251</td>\n",
       "      <td>0.307634</td>\n",
       "    </tr>\n",
       "    <tr>\n",
       "      <th>3772</th>\n",
       "      <td>0.168010</td>\n",
       "      <td>0.424202</td>\n",
       "    </tr>\n",
       "    <tr>\n",
       "      <th>860</th>\n",
       "      <td>0.016645</td>\n",
       "      <td>0.017999</td>\n",
       "    </tr>\n",
       "  </tbody>\n",
       "</table>\n",
       "<p>3456 rows × 2 columns</p>\n",
       "</div>"
      ],
      "text/plain": [
       "      APOLLOHOSP  ASIANPAINT\n",
       "56      0.005711    0.001394\n",
       "1309    0.030590    0.046170\n",
       "695     0.013905    0.018224\n",
       "1881    0.067874    0.088760\n",
       "4044    0.429996    0.837941\n",
       "...          ...         ...\n",
       "4426    0.606780    0.874703\n",
       "466     0.012939    0.009772\n",
       "3092    0.152251    0.307634\n",
       "3772    0.168010    0.424202\n",
       "860     0.016645    0.017999\n",
       "\n",
       "[3456 rows x 2 columns]"
      ]
     },
     "execution_count": 340,
     "metadata": {},
     "output_type": "execute_result"
    }
   ],
   "source": [
    "y_train"
   ]
  },
  {
   "cell_type": "code",
   "execution_count": 341,
   "metadata": {},
   "outputs": [],
   "source": [
    "model=models.Sequential([\n",
    "    layers.Dense(256,kernel_initializer=\"normal\",activation=\"relu\"),\n",
    "    layers.Dense(64,kernel_initializer=\"normal\",activation=\"relu\"),\n",
    "    layers.Dense(32,kernel_initializer=\"normal\",activation=\"relu\"),\n",
    "    layers.Dense(16,kernel_initializer=\"normal\",activation=\"relu\"),\n",
    "    layers.Dense(8,kernel_initializer=\"normal\",activation=\"relu\"),\n",
    "    layers.Dense(4,kernel_initializer=\"normal\",activation=\"relu\"),\n",
    "    layers.Dense(2,kernel_initializer=\"normal\",activation=\"relu\"),\n",
    "    # layers.Dense(1,kernel_initializer=\"normal\",activation=\"relu\"),\n",
    "])"
   ]
  },
  {
   "cell_type": "code",
   "execution_count": 342,
   "metadata": {},
   "outputs": [],
   "source": [
    "model.compile(\n",
    "    optimizer=\"adam\",loss=\"mean_squared_error\",metrics=[\"root_mean_squared_error\"]\n",
    ")"
   ]
  },
  {
   "cell_type": "code",
   "execution_count": 343,
   "metadata": {},
   "outputs": [
    {
     "data": {
      "text/html": [
       "<pre style=\"white-space:pre;overflow-x:auto;line-height:normal;font-family:Menlo,'DejaVu Sans Mono',consolas,'Courier New',monospace\"><span style=\"font-weight: bold\">Model: \"sequential_6\"</span>\n",
       "</pre>\n"
      ],
      "text/plain": [
       "\u001b[1mModel: \"sequential_6\"\u001b[0m\n"
      ]
     },
     "metadata": {},
     "output_type": "display_data"
    },
    {
     "data": {
      "text/html": [
       "<pre style=\"white-space:pre;overflow-x:auto;line-height:normal;font-family:Menlo,'DejaVu Sans Mono',consolas,'Courier New',monospace\">┏━━━━━━━━━━━━━━━━━━━━━━━━━━━━━━━━━┳━━━━━━━━━━━━━━━━━━━━━━━━┳━━━━━━━━━━━━━━━┓\n",
       "┃<span style=\"font-weight: bold\"> Layer (type)                    </span>┃<span style=\"font-weight: bold\"> Output Shape           </span>┃<span style=\"font-weight: bold\">       Param # </span>┃\n",
       "┡━━━━━━━━━━━━━━━━━━━━━━━━━━━━━━━━━╇━━━━━━━━━━━━━━━━━━━━━━━━╇━━━━━━━━━━━━━━━┩\n",
       "│ dense_43 (<span style=\"color: #0087ff; text-decoration-color: #0087ff\">Dense</span>)                │ ?                      │   <span style=\"color: #00af00; text-decoration-color: #00af00\">0</span> (unbuilt) │\n",
       "├─────────────────────────────────┼────────────────────────┼───────────────┤\n",
       "│ dense_44 (<span style=\"color: #0087ff; text-decoration-color: #0087ff\">Dense</span>)                │ ?                      │   <span style=\"color: #00af00; text-decoration-color: #00af00\">0</span> (unbuilt) │\n",
       "├─────────────────────────────────┼────────────────────────┼───────────────┤\n",
       "│ dense_45 (<span style=\"color: #0087ff; text-decoration-color: #0087ff\">Dense</span>)                │ ?                      │   <span style=\"color: #00af00; text-decoration-color: #00af00\">0</span> (unbuilt) │\n",
       "├─────────────────────────────────┼────────────────────────┼───────────────┤\n",
       "│ dense_46 (<span style=\"color: #0087ff; text-decoration-color: #0087ff\">Dense</span>)                │ ?                      │   <span style=\"color: #00af00; text-decoration-color: #00af00\">0</span> (unbuilt) │\n",
       "├─────────────────────────────────┼────────────────────────┼───────────────┤\n",
       "│ dense_47 (<span style=\"color: #0087ff; text-decoration-color: #0087ff\">Dense</span>)                │ ?                      │   <span style=\"color: #00af00; text-decoration-color: #00af00\">0</span> (unbuilt) │\n",
       "├─────────────────────────────────┼────────────────────────┼───────────────┤\n",
       "│ dense_48 (<span style=\"color: #0087ff; text-decoration-color: #0087ff\">Dense</span>)                │ ?                      │   <span style=\"color: #00af00; text-decoration-color: #00af00\">0</span> (unbuilt) │\n",
       "├─────────────────────────────────┼────────────────────────┼───────────────┤\n",
       "│ dense_49 (<span style=\"color: #0087ff; text-decoration-color: #0087ff\">Dense</span>)                │ ?                      │   <span style=\"color: #00af00; text-decoration-color: #00af00\">0</span> (unbuilt) │\n",
       "└─────────────────────────────────┴────────────────────────┴───────────────┘\n",
       "</pre>\n"
      ],
      "text/plain": [
       "┏━━━━━━━━━━━━━━━━━━━━━━━━━━━━━━━━━┳━━━━━━━━━━━━━━━━━━━━━━━━┳━━━━━━━━━━━━━━━┓\n",
       "┃\u001b[1m \u001b[0m\u001b[1mLayer (type)                   \u001b[0m\u001b[1m \u001b[0m┃\u001b[1m \u001b[0m\u001b[1mOutput Shape          \u001b[0m\u001b[1m \u001b[0m┃\u001b[1m \u001b[0m\u001b[1m      Param #\u001b[0m\u001b[1m \u001b[0m┃\n",
       "┡━━━━━━━━━━━━━━━━━━━━━━━━━━━━━━━━━╇━━━━━━━━━━━━━━━━━━━━━━━━╇━━━━━━━━━━━━━━━┩\n",
       "│ dense_43 (\u001b[38;5;33mDense\u001b[0m)                │ ?                      │   \u001b[38;5;34m0\u001b[0m (unbuilt) │\n",
       "├─────────────────────────────────┼────────────────────────┼───────────────┤\n",
       "│ dense_44 (\u001b[38;5;33mDense\u001b[0m)                │ ?                      │   \u001b[38;5;34m0\u001b[0m (unbuilt) │\n",
       "├─────────────────────────────────┼────────────────────────┼───────────────┤\n",
       "│ dense_45 (\u001b[38;5;33mDense\u001b[0m)                │ ?                      │   \u001b[38;5;34m0\u001b[0m (unbuilt) │\n",
       "├─────────────────────────────────┼────────────────────────┼───────────────┤\n",
       "│ dense_46 (\u001b[38;5;33mDense\u001b[0m)                │ ?                      │   \u001b[38;5;34m0\u001b[0m (unbuilt) │\n",
       "├─────────────────────────────────┼────────────────────────┼───────────────┤\n",
       "│ dense_47 (\u001b[38;5;33mDense\u001b[0m)                │ ?                      │   \u001b[38;5;34m0\u001b[0m (unbuilt) │\n",
       "├─────────────────────────────────┼────────────────────────┼───────────────┤\n",
       "│ dense_48 (\u001b[38;5;33mDense\u001b[0m)                │ ?                      │   \u001b[38;5;34m0\u001b[0m (unbuilt) │\n",
       "├─────────────────────────────────┼────────────────────────┼───────────────┤\n",
       "│ dense_49 (\u001b[38;5;33mDense\u001b[0m)                │ ?                      │   \u001b[38;5;34m0\u001b[0m (unbuilt) │\n",
       "└─────────────────────────────────┴────────────────────────┴───────────────┘\n"
      ]
     },
     "metadata": {},
     "output_type": "display_data"
    },
    {
     "data": {
      "text/html": [
       "<pre style=\"white-space:pre;overflow-x:auto;line-height:normal;font-family:Menlo,'DejaVu Sans Mono',consolas,'Courier New',monospace\"><span style=\"font-weight: bold\"> Total params: </span><span style=\"color: #00af00; text-decoration-color: #00af00\">0</span> (0.00 B)\n",
       "</pre>\n"
      ],
      "text/plain": [
       "\u001b[1m Total params: \u001b[0m\u001b[38;5;34m0\u001b[0m (0.00 B)\n"
      ]
     },
     "metadata": {},
     "output_type": "display_data"
    },
    {
     "data": {
      "text/html": [
       "<pre style=\"white-space:pre;overflow-x:auto;line-height:normal;font-family:Menlo,'DejaVu Sans Mono',consolas,'Courier New',monospace\"><span style=\"font-weight: bold\"> Trainable params: </span><span style=\"color: #00af00; text-decoration-color: #00af00\">0</span> (0.00 B)\n",
       "</pre>\n"
      ],
      "text/plain": [
       "\u001b[1m Trainable params: \u001b[0m\u001b[38;5;34m0\u001b[0m (0.00 B)\n"
      ]
     },
     "metadata": {},
     "output_type": "display_data"
    },
    {
     "data": {
      "text/html": [
       "<pre style=\"white-space:pre;overflow-x:auto;line-height:normal;font-family:Menlo,'DejaVu Sans Mono',consolas,'Courier New',monospace\"><span style=\"font-weight: bold\"> Non-trainable params: </span><span style=\"color: #00af00; text-decoration-color: #00af00\">0</span> (0.00 B)\n",
       "</pre>\n"
      ],
      "text/plain": [
       "\u001b[1m Non-trainable params: \u001b[0m\u001b[38;5;34m0\u001b[0m (0.00 B)\n"
      ]
     },
     "metadata": {},
     "output_type": "display_data"
    }
   ],
   "source": [
    "model.summary()"
   ]
  },
  {
   "cell_type": "code",
   "execution_count": 345,
   "metadata": {},
   "outputs": [
    {
     "name": "stdout",
     "output_type": "stream",
     "text": [
      "Epoch 1/50\n",
      "\u001b[1m108/108\u001b[0m \u001b[32m━━━━━━━━━━━━━━━━━━━━\u001b[0m\u001b[37m\u001b[0m \u001b[1m0s\u001b[0m 2ms/step - loss: 0.0021 - root_mean_squared_error: 0.0460\n",
      "Epoch 2/50\n",
      "\u001b[1m108/108\u001b[0m \u001b[32m━━━━━━━━━━━━━━━━━━━━\u001b[0m\u001b[37m\u001b[0m \u001b[1m0s\u001b[0m 2ms/step - loss: 0.0022 - root_mean_squared_error: 0.0467\n",
      "Epoch 3/50\n",
      "\u001b[1m108/108\u001b[0m \u001b[32m━━━━━━━━━━━━━━━━━━━━\u001b[0m\u001b[37m\u001b[0m \u001b[1m0s\u001b[0m 2ms/step - loss: 0.0018 - root_mean_squared_error: 0.0425\n",
      "Epoch 4/50\n",
      "\u001b[1m108/108\u001b[0m \u001b[32m━━━━━━━━━━━━━━━━━━━━\u001b[0m\u001b[37m\u001b[0m \u001b[1m0s\u001b[0m 2ms/step - loss: 0.0020 - root_mean_squared_error: 0.0442\n",
      "Epoch 5/50\n",
      "\u001b[1m108/108\u001b[0m \u001b[32m━━━━━━━━━━━━━━━━━━━━\u001b[0m\u001b[37m\u001b[0m \u001b[1m0s\u001b[0m 2ms/step - loss: 0.0017 - root_mean_squared_error: 0.0417\n",
      "Epoch 6/50\n",
      "\u001b[1m108/108\u001b[0m \u001b[32m━━━━━━━━━━━━━━━━━━━━\u001b[0m\u001b[37m\u001b[0m \u001b[1m0s\u001b[0m 2ms/step - loss: 0.0017 - root_mean_squared_error: 0.0409\n",
      "Epoch 7/50\n",
      "\u001b[1m108/108\u001b[0m \u001b[32m━━━━━━━━━━━━━━━━━━━━\u001b[0m\u001b[37m\u001b[0m \u001b[1m0s\u001b[0m 2ms/step - loss: 0.0019 - root_mean_squared_error: 0.0431\n",
      "Epoch 8/50\n",
      "\u001b[1m108/108\u001b[0m \u001b[32m━━━━━━━━━━━━━━━━━━━━\u001b[0m\u001b[37m\u001b[0m \u001b[1m0s\u001b[0m 2ms/step - loss: 0.0018 - root_mean_squared_error: 0.0429\n",
      "Epoch 9/50\n",
      "\u001b[1m108/108\u001b[0m \u001b[32m━━━━━━━━━━━━━━━━━━━━\u001b[0m\u001b[37m\u001b[0m \u001b[1m0s\u001b[0m 3ms/step - loss: 0.0019 - root_mean_squared_error: 0.0439\n",
      "Epoch 10/50\n",
      "\u001b[1m108/108\u001b[0m \u001b[32m━━━━━━━━━━━━━━━━━━━━\u001b[0m\u001b[37m\u001b[0m \u001b[1m0s\u001b[0m 2ms/step - loss: 0.0017 - root_mean_squared_error: 0.0410\n",
      "Epoch 11/50\n",
      "\u001b[1m108/108\u001b[0m \u001b[32m━━━━━━━━━━━━━━━━━━━━\u001b[0m\u001b[37m\u001b[0m \u001b[1m0s\u001b[0m 3ms/step - loss: 0.0018 - root_mean_squared_error: 0.0427\n",
      "Epoch 12/50\n",
      "\u001b[1m108/108\u001b[0m \u001b[32m━━━━━━━━━━━━━━━━━━━━\u001b[0m\u001b[37m\u001b[0m \u001b[1m0s\u001b[0m 2ms/step - loss: 0.0018 - root_mean_squared_error: 0.0424\n",
      "Epoch 13/50\n",
      "\u001b[1m108/108\u001b[0m \u001b[32m━━━━━━━━━━━━━━━━━━━━\u001b[0m\u001b[37m\u001b[0m \u001b[1m0s\u001b[0m 2ms/step - loss: 0.0017 - root_mean_squared_error: 0.0417\n",
      "Epoch 14/50\n",
      "\u001b[1m108/108\u001b[0m \u001b[32m━━━━━━━━━━━━━━━━━━━━\u001b[0m\u001b[37m\u001b[0m \u001b[1m0s\u001b[0m 2ms/step - loss: 0.0019 - root_mean_squared_error: 0.0430\n",
      "Epoch 15/50\n",
      "\u001b[1m108/108\u001b[0m \u001b[32m━━━━━━━━━━━━━━━━━━━━\u001b[0m\u001b[37m\u001b[0m \u001b[1m0s\u001b[0m 2ms/step - loss: 0.0018 - root_mean_squared_error: 0.0420\n",
      "Epoch 16/50\n",
      "\u001b[1m108/108\u001b[0m \u001b[32m━━━━━━━━━━━━━━━━━━━━\u001b[0m\u001b[37m\u001b[0m \u001b[1m0s\u001b[0m 2ms/step - loss: 0.0019 - root_mean_squared_error: 0.0440\n",
      "Epoch 17/50\n",
      "\u001b[1m108/108\u001b[0m \u001b[32m━━━━━━━━━━━━━━━━━━━━\u001b[0m\u001b[37m\u001b[0m \u001b[1m0s\u001b[0m 2ms/step - loss: 0.0018 - root_mean_squared_error: 0.0428\n",
      "Epoch 18/50\n",
      "\u001b[1m108/108\u001b[0m \u001b[32m━━━━━━━━━━━━━━━━━━━━\u001b[0m\u001b[37m\u001b[0m \u001b[1m0s\u001b[0m 2ms/step - loss: 0.0017 - root_mean_squared_error: 0.0415\n",
      "Epoch 19/50\n",
      "\u001b[1m108/108\u001b[0m \u001b[32m━━━━━━━━━━━━━━━━━━━━\u001b[0m\u001b[37m\u001b[0m \u001b[1m0s\u001b[0m 2ms/step - loss: 0.0018 - root_mean_squared_error: 0.0425\n",
      "Epoch 20/50\n",
      "\u001b[1m108/108\u001b[0m \u001b[32m━━━━━━━━━━━━━━━━━━━━\u001b[0m\u001b[37m\u001b[0m \u001b[1m0s\u001b[0m 2ms/step - loss: 0.0016 - root_mean_squared_error: 0.0397\n",
      "Epoch 21/50\n",
      "\u001b[1m108/108\u001b[0m \u001b[32m━━━━━━━━━━━━━━━━━━━━\u001b[0m\u001b[37m\u001b[0m \u001b[1m0s\u001b[0m 2ms/step - loss: 0.0017 - root_mean_squared_error: 0.0416\n",
      "Epoch 22/50\n",
      "\u001b[1m108/108\u001b[0m \u001b[32m━━━━━━━━━━━━━━━━━━━━\u001b[0m\u001b[37m\u001b[0m \u001b[1m0s\u001b[0m 2ms/step - loss: 0.0017 - root_mean_squared_error: 0.0416\n",
      "Epoch 23/50\n",
      "\u001b[1m108/108\u001b[0m \u001b[32m━━━━━━━━━━━━━━━━━━━━\u001b[0m\u001b[37m\u001b[0m \u001b[1m0s\u001b[0m 3ms/step - loss: 0.0015 - root_mean_squared_error: 0.0393\n",
      "Epoch 24/50\n",
      "\u001b[1m108/108\u001b[0m \u001b[32m━━━━━━━━━━━━━━━━━━━━\u001b[0m\u001b[37m\u001b[0m \u001b[1m0s\u001b[0m 2ms/step - loss: 0.0016 - root_mean_squared_error: 0.0396\n",
      "Epoch 25/50\n",
      "\u001b[1m108/108\u001b[0m \u001b[32m━━━━━━━━━━━━━━━━━━━━\u001b[0m\u001b[37m\u001b[0m \u001b[1m0s\u001b[0m 2ms/step - loss: 0.0016 - root_mean_squared_error: 0.0400\n",
      "Epoch 26/50\n",
      "\u001b[1m108/108\u001b[0m \u001b[32m━━━━━━━━━━━━━━━━━━━━\u001b[0m\u001b[37m\u001b[0m \u001b[1m0s\u001b[0m 2ms/step - loss: 0.0016 - root_mean_squared_error: 0.0400\n",
      "Epoch 27/50\n",
      "\u001b[1m108/108\u001b[0m \u001b[32m━━━━━━━━━━━━━━━━━━━━\u001b[0m\u001b[37m\u001b[0m \u001b[1m0s\u001b[0m 2ms/step - loss: 0.0017 - root_mean_squared_error: 0.0407\n",
      "Epoch 28/50\n",
      "\u001b[1m108/108\u001b[0m \u001b[32m━━━━━━━━━━━━━━━━━━━━\u001b[0m\u001b[37m\u001b[0m \u001b[1m0s\u001b[0m 2ms/step - loss: 0.0017 - root_mean_squared_error: 0.0416\n",
      "Epoch 29/50\n",
      "\u001b[1m108/108\u001b[0m \u001b[32m━━━━━━━━━━━━━━━━━━━━\u001b[0m\u001b[37m\u001b[0m \u001b[1m0s\u001b[0m 2ms/step - loss: 0.0016 - root_mean_squared_error: 0.0400\n",
      "Epoch 30/50\n",
      "\u001b[1m108/108\u001b[0m \u001b[32m━━━━━━━━━━━━━━━━━━━━\u001b[0m\u001b[37m\u001b[0m \u001b[1m0s\u001b[0m 2ms/step - loss: 0.0016 - root_mean_squared_error: 0.0400\n",
      "Epoch 31/50\n",
      "\u001b[1m108/108\u001b[0m \u001b[32m━━━━━━━━━━━━━━━━━━━━\u001b[0m\u001b[37m\u001b[0m \u001b[1m0s\u001b[0m 2ms/step - loss: 0.0014 - root_mean_squared_error: 0.0380\n",
      "Epoch 32/50\n",
      "\u001b[1m108/108\u001b[0m \u001b[32m━━━━━━━━━━━━━━━━━━━━\u001b[0m\u001b[37m\u001b[0m \u001b[1m0s\u001b[0m 2ms/step - loss: 0.0014 - root_mean_squared_error: 0.0379\n",
      "Epoch 33/50\n",
      "\u001b[1m108/108\u001b[0m \u001b[32m━━━━━━━━━━━━━━━━━━━━\u001b[0m\u001b[37m\u001b[0m \u001b[1m0s\u001b[0m 2ms/step - loss: 0.0014 - root_mean_squared_error: 0.0380\n",
      "Epoch 34/50\n",
      "\u001b[1m108/108\u001b[0m \u001b[32m━━━━━━━━━━━━━━━━━━━━\u001b[0m\u001b[37m\u001b[0m \u001b[1m0s\u001b[0m 2ms/step - loss: 0.0014 - root_mean_squared_error: 0.0379\n",
      "Epoch 35/50\n",
      "\u001b[1m108/108\u001b[0m \u001b[32m━━━━━━━━━━━━━━━━━━━━\u001b[0m\u001b[37m\u001b[0m \u001b[1m0s\u001b[0m 2ms/step - loss: 0.0013 - root_mean_squared_error: 0.0355\n",
      "Epoch 36/50\n",
      "\u001b[1m108/108\u001b[0m \u001b[32m━━━━━━━━━━━━━━━━━━━━\u001b[0m\u001b[37m\u001b[0m \u001b[1m0s\u001b[0m 2ms/step - loss: 0.0014 - root_mean_squared_error: 0.0377\n",
      "Epoch 37/50\n",
      "\u001b[1m108/108\u001b[0m \u001b[32m━━━━━━━━━━━━━━━━━━━━\u001b[0m\u001b[37m\u001b[0m \u001b[1m0s\u001b[0m 2ms/step - loss: 0.0014 - root_mean_squared_error: 0.0380\n",
      "Epoch 38/50\n",
      "\u001b[1m108/108\u001b[0m \u001b[32m━━━━━━━━━━━━━━━━━━━━\u001b[0m\u001b[37m\u001b[0m \u001b[1m0s\u001b[0m 2ms/step - loss: 0.0014 - root_mean_squared_error: 0.0374\n",
      "Epoch 39/50\n",
      "\u001b[1m108/108\u001b[0m \u001b[32m━━━━━━━━━━━━━━━━━━━━\u001b[0m\u001b[37m\u001b[0m \u001b[1m0s\u001b[0m 2ms/step - loss: 0.0015 - root_mean_squared_error: 0.0385\n",
      "Epoch 40/50\n",
      "\u001b[1m108/108\u001b[0m \u001b[32m━━━━━━━━━━━━━━━━━━━━\u001b[0m\u001b[37m\u001b[0m \u001b[1m0s\u001b[0m 2ms/step - loss: 0.0017 - root_mean_squared_error: 0.0407\n",
      "Epoch 41/50\n",
      "\u001b[1m108/108\u001b[0m \u001b[32m━━━━━━━━━━━━━━━━━━━━\u001b[0m\u001b[37m\u001b[0m \u001b[1m0s\u001b[0m 2ms/step - loss: 0.0014 - root_mean_squared_error: 0.0368\n",
      "Epoch 42/50\n",
      "\u001b[1m108/108\u001b[0m \u001b[32m━━━━━━━━━━━━━━━━━━━━\u001b[0m\u001b[37m\u001b[0m \u001b[1m0s\u001b[0m 2ms/step - loss: 0.0013 - root_mean_squared_error: 0.0356\n",
      "Epoch 43/50\n",
      "\u001b[1m108/108\u001b[0m \u001b[32m━━━━━━━━━━━━━━━━━━━━\u001b[0m\u001b[37m\u001b[0m \u001b[1m0s\u001b[0m 2ms/step - loss: 0.0013 - root_mean_squared_error: 0.0359\n",
      "Epoch 44/50\n",
      "\u001b[1m108/108\u001b[0m \u001b[32m━━━━━━━━━━━━━━━━━━━━\u001b[0m\u001b[37m\u001b[0m \u001b[1m0s\u001b[0m 2ms/step - loss: 0.0012 - root_mean_squared_error: 0.0345\n",
      "Epoch 45/50\n",
      "\u001b[1m108/108\u001b[0m \u001b[32m━━━━━━━━━━━━━━━━━━━━\u001b[0m\u001b[37m\u001b[0m \u001b[1m0s\u001b[0m 2ms/step - loss: 0.0013 - root_mean_squared_error: 0.0358\n",
      "Epoch 46/50\n",
      "\u001b[1m108/108\u001b[0m \u001b[32m━━━━━━━━━━━━━━━━━━━━\u001b[0m\u001b[37m\u001b[0m \u001b[1m0s\u001b[0m 2ms/step - loss: 0.0013 - root_mean_squared_error: 0.0366\n",
      "Epoch 47/50\n",
      "\u001b[1m108/108\u001b[0m \u001b[32m━━━━━━━━━━━━━━━━━━━━\u001b[0m\u001b[37m\u001b[0m \u001b[1m0s\u001b[0m 2ms/step - loss: 0.0013 - root_mean_squared_error: 0.0362\n",
      "Epoch 48/50\n",
      "\u001b[1m108/108\u001b[0m \u001b[32m━━━━━━━━━━━━━━━━━━━━\u001b[0m\u001b[37m\u001b[0m \u001b[1m0s\u001b[0m 2ms/step - loss: 0.0013 - root_mean_squared_error: 0.0364\n",
      "Epoch 49/50\n",
      "\u001b[1m108/108\u001b[0m \u001b[32m━━━━━━━━━━━━━━━━━━━━\u001b[0m\u001b[37m\u001b[0m \u001b[1m0s\u001b[0m 2ms/step - loss: 0.0013 - root_mean_squared_error: 0.0366\n",
      "Epoch 50/50\n",
      "\u001b[1m108/108\u001b[0m \u001b[32m━━━━━━━━━━━━━━━━━━━━\u001b[0m\u001b[37m\u001b[0m \u001b[1m0s\u001b[0m 2ms/step - loss: 0.0011 - root_mean_squared_error: 0.0329\n"
     ]
    },
    {
     "data": {
      "text/plain": [
       "<keras.src.callbacks.history.History at 0x1b87e652a20>"
      ]
     },
     "execution_count": 345,
     "metadata": {},
     "output_type": "execute_result"
    }
   ],
   "source": [
    "model.fit(X_train,y_train,epochs=50)"
   ]
  },
  {
   "cell_type": "code",
   "execution_count": 346,
   "metadata": {},
   "outputs": [
    {
     "name": "stdout",
     "output_type": "stream",
     "text": [
      "\u001b[1m47/47\u001b[0m \u001b[32m━━━━━━━━━━━━━━━━━━━━\u001b[0m\u001b[37m\u001b[0m \u001b[1m0s\u001b[0m 2ms/step - loss: 0.0014 - root_mean_squared_error: 0.0373\n"
     ]
    },
    {
     "data": {
      "text/plain": [
       "[0.001380306202918291, 0.037152472883462906]"
      ]
     },
     "execution_count": 346,
     "metadata": {},
     "output_type": "execute_result"
    }
   ],
   "source": [
    "model.evaluate(X_test,y_test)"
   ]
  },
  {
   "cell_type": "code",
   "execution_count": 347,
   "metadata": {},
   "outputs": [],
   "source": [
    "with open(\"model1.pkl\",\"wb\") as f:\n",
    "    pickle.dump(model,f)"
   ]
  },
  {
   "cell_type": "code",
   "execution_count": 348,
   "metadata": {},
   "outputs": [
    {
     "data": {
      "text/plain": [
       "[<KerasVariable shape=(1, 256), dtype=float32, path=sequential_6/dense_43/kernel>,\n",
       " <KerasVariable shape=(256,), dtype=float32, path=sequential_6/dense_43/bias>,\n",
       " <KerasVariable shape=(256, 64), dtype=float32, path=sequential_6/dense_44/kernel>,\n",
       " <KerasVariable shape=(64,), dtype=float32, path=sequential_6/dense_44/bias>,\n",
       " <KerasVariable shape=(64, 32), dtype=float32, path=sequential_6/dense_45/kernel>,\n",
       " <KerasVariable shape=(32,), dtype=float32, path=sequential_6/dense_45/bias>,\n",
       " <KerasVariable shape=(32, 16), dtype=float32, path=sequential_6/dense_46/kernel>,\n",
       " <KerasVariable shape=(16,), dtype=float32, path=sequential_6/dense_46/bias>,\n",
       " <KerasVariable shape=(16, 8), dtype=float32, path=sequential_6/dense_47/kernel>,\n",
       " <KerasVariable shape=(8,), dtype=float32, path=sequential_6/dense_47/bias>,\n",
       " <KerasVariable shape=(8, 4), dtype=float32, path=sequential_6/dense_48/kernel>,\n",
       " <KerasVariable shape=(4,), dtype=float32, path=sequential_6/dense_48/bias>,\n",
       " <KerasVariable shape=(4, 2), dtype=float32, path=sequential_6/dense_49/kernel>,\n",
       " <KerasVariable shape=(2,), dtype=float32, path=sequential_6/dense_49/bias>]"
      ]
     },
     "execution_count": 348,
     "metadata": {},
     "output_type": "execute_result"
    }
   ],
   "source": [
    "model.weights"
   ]
  },
  {
   "cell_type": "code",
   "execution_count": 349,
   "metadata": {},
   "outputs": [
    {
     "data": {
      "text/plain": [
       "[array([[-8.56940299e-02,  2.76851864e-03,  2.65165389e-01,\n",
       "          1.83756426e-01,  2.09911287e-01, -5.17091481e-03,\n",
       "          1.97925031e-01, -6.64345324e-02, -2.40052417e-02,\n",
       "          1.32535899e-03, -7.68125174e-05, -5.93283959e-03,\n",
       "         -4.51877415e-02, -1.30476849e-02,  2.16227427e-01,\n",
       "          1.83640793e-01,  1.58178866e-01,  1.72778010e-01,\n",
       "         -3.75460684e-02, -6.90919086e-02,  2.40897294e-03,\n",
       "         -6.78866133e-02,  6.28054095e-03, -2.11506635e-02,\n",
       "          1.68487787e-01,  6.43668696e-04,  1.87819660e-01,\n",
       "         -1.09741464e-02, -1.19434698e-02, -1.02359941e-02,\n",
       "         -5.94040342e-02, -3.72016728e-02, -4.19764817e-02,\n",
       "         -5.63407950e-02, -2.70797107e-02,  8.79500154e-03,\n",
       "         -3.17439553e-03,  2.73556054e-01, -1.14729134e-02,\n",
       "         -6.72917739e-02,  1.25238840e-02,  1.31930575e-01,\n",
       "          1.77639917e-01,  1.60333946e-01,  1.94312945e-01,\n",
       "          2.10559383e-01,  3.42822610e-03, -6.63512200e-02,\n",
       "          1.53722614e-01,  2.37368807e-01, -1.19508235e-02,\n",
       "         -4.59344648e-02,  1.97321445e-01, -8.21808353e-02,\n",
       "         -7.47097507e-02, -2.23293420e-04,  1.67556465e-01,\n",
       "         -5.27756475e-02,  2.10485712e-01, -3.88360745e-03,\n",
       "         -6.96772933e-02,  1.73852250e-01, -2.49334169e-03,\n",
       "          1.34628907e-01, -2.96892952e-02, -1.09302218e-03,\n",
       "          1.83667362e-01, -9.36322671e-04,  2.18451887e-01,\n",
       "         -3.37581756e-03,  1.94389775e-01, -4.04825807e-02,\n",
       "          1.72391638e-01, -4.57345508e-02, -5.66083519e-03,\n",
       "          2.04550937e-01, -1.66817419e-02, -1.04156742e-02,\n",
       "          1.89156055e-01, -8.62346515e-02,  5.37156360e-03,\n",
       "         -7.61884972e-02, -1.62925583e-03,  1.53494418e-01,\n",
       "         -1.99925806e-02, -1.73967388e-02, -1.07725583e-01,\n",
       "          2.29603216e-01,  2.23707318e-01,  8.77135806e-03,\n",
       "          1.59674555e-01,  2.07985029e-01,  1.40786171e-01,\n",
       "          1.82202980e-01, -3.40849981e-02,  2.09885344e-01,\n",
       "          1.79949388e-01, -2.86787632e-03, -4.76112217e-03,\n",
       "          1.78085104e-01, -2.76783053e-02, -4.14749496e-02,\n",
       "         -7.04299752e-03, -5.97234182e-02, -6.62856502e-03,\n",
       "         -6.24492355e-02, -6.59967735e-02,  1.16753054e-03,\n",
       "         -6.87490925e-02, -5.13084307e-02, -1.01104632e-01,\n",
       "          1.95756018e-01,  1.56898633e-01,  1.93811044e-01,\n",
       "         -3.47425453e-02,  2.53635943e-01,  2.26533995e-03,\n",
       "         -3.29766683e-02,  1.56123683e-01,  4.32671187e-03,\n",
       "          1.27429530e-01,  2.30153203e-01,  1.70816332e-01,\n",
       "         -4.23455872e-02, -1.56815816e-02, -3.30010764e-02,\n",
       "          2.55993396e-01, -5.32457139e-04,  1.83566630e-01,\n",
       "         -6.06334917e-02,  1.01594217e-01, -4.79147620e-02,\n",
       "          1.92490771e-01,  1.98407739e-01, -9.43908561e-03,\n",
       "         -5.43263257e-02,  1.72627479e-01, -5.82927431e-04,\n",
       "          1.36233464e-01,  1.49780303e-01, -1.26561115e-03,\n",
       "          1.89704299e-01, -3.00098713e-02,  1.52491838e-01,\n",
       "         -6.55389354e-02,  1.56637400e-01,  1.94374651e-01,\n",
       "          1.85362518e-01, -3.20409350e-02, -1.78643584e-01,\n",
       "         -3.60670872e-02,  1.96484149e-01,  1.10963965e-03,\n",
       "          1.98821560e-01, -9.06636864e-02, -7.12969825e-02,\n",
       "          1.65587351e-01,  1.00595066e-02,  1.29522666e-01,\n",
       "         -8.90317187e-02, -8.39834940e-03,  1.69972017e-01,\n",
       "          1.76643908e-01, -1.14820963e-02,  1.61627859e-01,\n",
       "          1.44746274e-01,  1.94489270e-01,  1.49831638e-01,\n",
       "          1.91746578e-01, -3.07855252e-02, -2.45600976e-02,\n",
       "          1.75661445e-01, -7.03027546e-02,  1.68803677e-01,\n",
       "         -4.40153070e-02,  1.84987560e-01, -2.67607123e-02,\n",
       "          1.93132401e-01,  1.82101697e-01,  1.66608423e-01,\n",
       "         -4.60931398e-02,  1.23457005e-02,  1.77485406e-01,\n",
       "          4.91794152e-03, -4.16820385e-02,  1.74104095e-01,\n",
       "          2.13883609e-01,  8.20589624e-03, -3.32849883e-02,\n",
       "          1.82080001e-01,  1.10642854e-02, -8.77241492e-02,\n",
       "         -8.86300951e-02, -1.29114185e-02, -3.53366137e-02,\n",
       "         -4.53732349e-03,  1.99633271e-01,  1.77441403e-01,\n",
       "          1.58703044e-01, -6.96641430e-02,  1.79078296e-01,\n",
       "         -7.00873286e-02,  1.79231435e-01, -6.71023428e-02,\n",
       "         -3.11536919e-02,  1.33503079e-01, -1.73600540e-02,\n",
       "          1.53977677e-01, -1.25480387e-02, -9.11086947e-02,\n",
       "         -9.57247987e-02, -3.15380655e-02, -2.48120166e-03,\n",
       "         -7.12062651e-03, -3.01525113e-03,  1.73627853e-01,\n",
       "          2.32435063e-01,  5.10562072e-03, -8.63045733e-03,\n",
       "          1.43663615e-01, -2.11153161e-02,  1.92199886e-01,\n",
       "         -4.67178822e-02, -3.57003920e-02,  1.82625905e-01,\n",
       "          1.15569076e-02,  2.00898066e-01, -8.08564350e-02,\n",
       "         -1.01266941e-02, -4.96884435e-02,  2.08363011e-01,\n",
       "          1.83756605e-01, -6.26718104e-02, -1.05762845e-02,\n",
       "         -9.40929260e-03,  1.86013311e-01,  1.43554702e-01,\n",
       "          2.62429863e-01,  2.04826117e-01,  1.46099657e-01,\n",
       "         -3.75534408e-02, -4.57703993e-02, -2.81976890e-02,\n",
       "          2.00919613e-01,  8.82212538e-03, -3.43010835e-02,\n",
       "         -7.47102639e-03, -4.30208165e-03,  2.11299479e-01,\n",
       "          1.67983115e-01,  1.75268665e-01, -2.67990329e-03,\n",
       "         -2.39599170e-03, -6.87246695e-02,  1.68549553e-01,\n",
       "         -9.92385298e-02]], dtype=float32),\n",
       " array([ 0.        , -0.01533287, -0.02898974, -0.14234081, -0.15098247,\n",
       "         0.        , -0.14247787,  0.        ,  0.        , -0.01423277,\n",
       "        -0.01189781,  0.        ,  0.        ,  0.        , -0.1554959 ,\n",
       "        -0.06122831, -0.1349021 , -0.04657391,  0.        ,  0.        ,\n",
       "        -0.01194675,  0.        , -0.01697873,  0.        , -0.12208097,\n",
       "        -0.0081971 , -0.1354339 ,  0.        ,  0.        ,  0.        ,\n",
       "         0.        ,  0.        ,  0.        ,  0.        ,  0.        ,\n",
       "        -0.02776533,  0.        , -0.05410816,  0.        ,  0.        ,\n",
       "        -0.02445419, -0.03652336, -0.03296345, -0.11595109, -0.03816229,\n",
       "        -0.03993033, -0.01836018,  0.        , -0.02991611, -0.04298589,\n",
       "         0.        ,  0.        , -0.15267047,  0.        ,  0.        ,\n",
       "         0.        , -0.11376537,  0.        , -0.15127648,  0.        ,\n",
       "         0.        , -0.08005811, -0.00491288, -0.05704742,  0.        ,\n",
       "        -0.00875191, -0.08474728, -0.00324587, -0.0434912 ,  0.        ,\n",
       "        -0.05599648,  0.        , -0.13334608,  0.        ,  0.        ,\n",
       "        -0.05421116,  0.        ,  0.        , -0.14632826,  0.        ,\n",
       "        -0.02195692,  0.        , -0.00362249, -0.07300756,  0.        ,\n",
       "         0.        ,  0.        , -0.12715416, -0.04402745, -0.02723685,\n",
       "        -0.08856978, -0.14936522, -0.02413554, -0.14091772,  0.        ,\n",
       "        -0.15089016, -0.13899548,  0.        ,  0.        , -0.10973822,\n",
       "         0.        ,  0.        ,  0.        ,  0.        ,  0.        ,\n",
       "         0.        ,  0.        , -0.01622752,  0.        ,  0.        ,\n",
       "         0.        , -0.05178653, -0.03174482, -0.14984006,  0.        ,\n",
       "        -0.04539759, -0.00975694,  0.        , -0.12816486, -0.02274735,\n",
       "        -0.02606766, -0.06342912, -0.13186266,  0.        ,  0.        ,\n",
       "         0.        , -0.17736135, -0.00899092, -0.14192696,  0.        ,\n",
       "        -0.06324444,  0.        , -0.13865094, -0.15358496,  0.        ,\n",
       "         0.        , -0.14138134, -0.01180763, -0.02799808, -0.10903858,\n",
       "        -0.00904862, -0.14708383,  0.        , -0.06935371,  0.        ,\n",
       "        -0.0709097 , -0.08903216, -0.00698998,  0.        ,  0.        ,\n",
       "         0.        , -0.08968096, -0.01324664, -0.14315663,  0.        ,\n",
       "         0.        , -0.04416752, -0.03099078, -0.05999349,  0.        ,\n",
       "         0.        , -0.0589091 , -0.09839296,  0.        , -0.133448  ,\n",
       "        -0.01480131, -0.15050377, -0.12432703, -0.08763731,  0.        ,\n",
       "         0.        , -0.1358517 ,  0.        , -0.05556824,  0.        ,\n",
       "        -0.04954226,  0.        , -0.0886062 , -0.14103982, -0.13652949,\n",
       "         0.        , -0.03345191, -0.07471726, -0.01806723,  0.        ,\n",
       "        -0.13452305, -0.15385059, -0.02399152,  0.        , -0.03611838,\n",
       "        -0.03312313,  0.        ,  0.        ,  0.        ,  0.        ,\n",
       "         0.        , -0.14343579, -0.05515271, -0.1300972 ,  0.        ,\n",
       "        -0.05095636,  0.        , -0.13873419,  0.        ,  0.        ,\n",
       "        -0.05589063,  0.        , -0.07210813,  0.        ,  0.        ,\n",
       "         0.        ,  0.        , -0.00822809,  0.        ,  0.        ,\n",
       "        -0.14373405, -0.06295195, -0.02235886,  0.        , -0.0406704 ,\n",
       "         0.        , -0.10631253,  0.        ,  0.        , -0.00477815,\n",
       "        -0.03307557, -0.03750617,  0.        ,  0.        ,  0.        ,\n",
       "        -0.14967024, -0.14220254,  0.        ,  0.        ,  0.        ,\n",
       "        -0.14373483, -0.01354627, -0.05129789, -0.14743666, -0.06147406,\n",
       "         0.        ,  0.        ,  0.        , -0.09206301, -0.0268033 ,\n",
       "         0.        ,  0.        ,  0.        , -0.0967322 , -0.03456947,\n",
       "        -0.06450047,  0.        , -0.01021858,  0.        , -0.07678804,\n",
       "         0.        ], dtype=float32),\n",
       " array([[-0.01767601,  0.0411683 , -0.059012  , ..., -0.08684028,\n",
       "         -0.05098649, -0.02202369],\n",
       "        [-0.07940516, -0.05618419,  0.04644497, ...,  0.0344671 ,\n",
       "          0.04128562,  0.00160748],\n",
       "        [-0.04590162,  0.06719901,  0.04267172, ...,  0.11037312,\n",
       "          0.11558226,  0.06893615],\n",
       "        ...,\n",
       "        [ 0.00541081, -0.04482166, -0.00697591, ...,  0.05037497,\n",
       "         -0.01329023,  0.09327716],\n",
       "        [-0.08277913,  0.08040595,  0.01404107, ...,  0.02337553,\n",
       "         -0.02397894,  0.09042609],\n",
       "        [-0.0098802 , -0.0410663 ,  0.02055669, ...,  0.00821282,\n",
       "          0.03513012, -0.02328435]], dtype=float32),\n",
       " array([ 0.32424033,  0.01580856, -0.03185475,  0.2642032 , -0.01551214,\n",
       "         0.30099633, -0.03422326, -0.00860513, -0.00633051,  0.1482063 ,\n",
       "        -0.01910618,  0.15639354,  0.01846228,  0.01874595,  0.25919536,\n",
       "         0.2556859 ,  0.        , -0.01844546, -0.00039287,  0.01320779,\n",
       "         0.21657749, -0.00832606,  0.17542215,  0.02135809, -0.00704728,\n",
       "        -0.18350782, -0.01734375, -0.02396368, -0.01043868,  0.01222533,\n",
       "         0.02726125, -0.00947435,  0.25688922, -0.01330877,  0.00350036,\n",
       "         0.        , -0.04483368,  0.00305403, -0.0274833 ,  0.01283437,\n",
       "         0.0780777 ,  0.08719043,  0.29361993, -0.0071533 , -0.00862888,\n",
       "         0.01635315, -0.01577136,  0.01024223, -0.00769736,  0.2635382 ,\n",
       "         0.02488838,  0.32832095,  0.16680335,  0.00828555, -0.01140414,\n",
       "        -0.02821509,  0.25128254, -0.01592929,  0.02269694,  0.1769717 ,\n",
       "        -0.20764618, -0.00135733,  0.00811509, -0.08015905], dtype=float32),\n",
       " array([[ 0.52717173,  0.4343133 ,  0.54220307, ...,  0.00871818,\n",
       "         -0.16890112,  0.03270066],\n",
       "        [ 0.10072368,  0.06184272,  0.00978703, ..., -0.00965396,\n",
       "          0.05489726,  0.04111712],\n",
       "        [-0.02413696,  0.07200239, -0.01589783, ..., -0.00242103,\n",
       "         -0.01462144, -0.03670373],\n",
       "        ...,\n",
       "        [-0.02597979, -0.02846107, -0.00404479, ..., -0.04256303,\n",
       "         -0.00806184, -0.16702521],\n",
       "        [ 0.19094285,  0.09433701,  0.03486626, ...,  0.02522682,\n",
       "          0.13784249,  0.08126076],\n",
       "        [ 0.15237069, -0.00937201, -0.00261734, ..., -0.00888988,\n",
       "          0.07224605,  0.09477751]], dtype=float32),\n",
       " array([ 0.02672373,  0.01309591,  0.04334978,  0.05587664,  0.5524662 ,\n",
       "         0.04732322,  0.        ,  0.04590018,  0.00289876,  0.05482625,\n",
       "         0.03164847, -0.07836514, -0.01216143,  0.04626315,  0.05329225,\n",
       "        -0.02027279,  0.06801689,  0.04664663, -0.02090232,  0.04023823,\n",
       "         0.1457354 , -0.01592729,  0.15328914, -0.01149048, -0.05090681,\n",
       "         0.05200569,  0.03547791,  0.        , -0.01020488, -0.03115597,\n",
       "        -0.17633273, -0.05203762], dtype=float32),\n",
       " array([[ 5.25748171e-02,  1.61611870e-01, -7.00980425e-02,\n",
       "          8.25839341e-02,  1.15415223e-01, -3.70984167e-01,\n",
       "          6.28429949e-02,  9.95287448e-02,  1.67134374e-01,\n",
       "         -3.18729319e-03,  1.51309222e-01,  8.40324759e-02,\n",
       "         -2.80875992e-02,  2.29856372e-01,  1.97768152e-01,\n",
       "          8.34042858e-03],\n",
       "        [ 1.39640883e-01,  1.12940766e-01, -8.17035735e-02,\n",
       "          5.70341051e-02,  3.07224765e-02, -3.54470283e-01,\n",
       "          2.39990801e-01,  1.35031685e-01,  1.24396786e-01,\n",
       "         -2.21521836e-02,  9.73020494e-02,  1.55882984e-01,\n",
       "         -1.95394792e-02,  1.36927530e-01,  8.00270811e-02,\n",
       "         -2.96801720e-02],\n",
       "        [ 2.23409623e-01,  1.00032784e-01,  1.46813970e-02,\n",
       "          6.27927557e-02,  1.26491725e-01, -3.27429771e-01,\n",
       "          9.79149044e-02,  5.02061211e-02,  1.70491740e-01,\n",
       "         -5.60889803e-02,  7.80640244e-02,  3.56169976e-02,\n",
       "          3.69739942e-02,  1.60465509e-01,  1.80113614e-01,\n",
       "         -1.48941770e-01],\n",
       "        [ 2.13371977e-01,  2.18651339e-01, -8.20628405e-02,\n",
       "          7.28485882e-02,  1.17201388e-01, -5.49712777e-01,\n",
       "          1.86845183e-01,  1.52244255e-01,  3.28515992e-02,\n",
       "          1.19372554e-01,  7.17488825e-02, -1.23216016e-02,\n",
       "          8.21191445e-03,  1.73784435e-01,  1.33364215e-01,\n",
       "         -1.31262988e-01],\n",
       "        [ 2.77840607e-02,  2.51900792e-01, -1.17000289e-01,\n",
       "          1.68587685e-01,  2.14775681e-01,  3.94960970e-01,\n",
       "          2.39275113e-01,  4.42006886e-01,  3.08622301e-01,\n",
       "         -2.36815602e-01,  2.51223594e-01,  1.12406242e+00,\n",
       "          2.44521737e-01,  2.56167531e-01,  1.89827025e-01,\n",
       "          1.13022076e-02],\n",
       "        [ 7.62449950e-02,  1.71623737e-01, -1.17440969e-01,\n",
       "          3.34941559e-02,  2.23760709e-01, -4.33132857e-01,\n",
       "          1.89168751e-01,  1.53290108e-01,  1.89567730e-01,\n",
       "          2.46792678e-02,  1.78456724e-01, -2.23232266e-02,\n",
       "         -1.30993187e-01,  1.15346052e-01,  2.46252418e-01,\n",
       "         -6.64746091e-02],\n",
       "        [-9.20655355e-02, -1.08225465e-01, -2.73613036e-02,\n",
       "         -2.88836807e-02,  1.04827218e-01,  5.70802055e-02,\n",
       "         -2.75094490e-02,  1.21426724e-01,  3.96898622e-03,\n",
       "         -7.43914321e-02,  4.40006517e-02,  2.86340993e-02,\n",
       "          2.24081445e-02, -4.67502773e-02, -7.48272613e-02,\n",
       "          2.65846085e-02],\n",
       "        [ 1.42323628e-01,  2.50929952e-01,  5.96091263e-02,\n",
       "          1.20644242e-01,  3.53196226e-02, -1.49938151e-01,\n",
       "          1.73122913e-01,  8.00153390e-02,  1.53347567e-01,\n",
       "          9.79727507e-02,  1.23591572e-01,  2.02221796e-02,\n",
       "         -3.68893705e-02,  1.66569009e-01,  4.06053141e-02,\n",
       "         -1.79251414e-02],\n",
       "        [-6.39737910e-03,  3.73112448e-02,  4.16790508e-02,\n",
       "         -3.56349116e-03,  6.53803174e-04, -6.86249584e-02,\n",
       "          2.89337914e-02,  1.98411122e-02,  1.26838479e-02,\n",
       "          3.60909626e-02,  4.19155993e-02, -1.21623747e-01,\n",
       "         -3.22803892e-02,  4.42121811e-02, -1.32412240e-02,\n",
       "         -2.17952561e-02],\n",
       "        [ 1.93235561e-01,  1.41235933e-01,  2.06758566e-02,\n",
       "          1.53303206e-01,  1.16144888e-01, -3.31832528e-01,\n",
       "          1.56972945e-01,  1.68434739e-01,  1.62849277e-01,\n",
       "         -2.58368887e-02,  1.88314885e-01,  7.79659227e-02,\n",
       "         -8.29674527e-02,  1.62373766e-01,  9.52586681e-02,\n",
       "         -5.16334027e-02],\n",
       "        [ 1.58888593e-01,  1.81461528e-01, -7.37799034e-02,\n",
       "          5.54937795e-02,  1.30290046e-01, -5.10937810e-01,\n",
       "          9.20901000e-02,  1.26644224e-01,  1.95515081e-01,\n",
       "         -1.26228496e-01,  1.19736820e-01, -1.64317843e-02,\n",
       "          4.03807722e-02,  2.55758494e-01,  1.55468106e-01,\n",
       "          3.08436081e-02],\n",
       "        [-3.06283105e-02,  1.20430760e-01, -1.40610099e+00,\n",
       "          8.55968073e-02, -5.53251915e-02,  4.99978988e-03,\n",
       "          1.05299443e-01,  6.73079714e-02,  2.01152727e-01,\n",
       "         -1.73124778e+00,  1.19040161e-01,  1.16102129e-01,\n",
       "         -5.85735328e-02,  2.35353455e-01,  1.29380405e-01,\n",
       "         -4.18798625e-02],\n",
       "        [ 8.17025080e-02,  7.08128372e-03, -7.82765262e-03,\n",
       "          7.55033968e-03, -4.31823023e-02, -2.79565249e-02,\n",
       "         -2.95428727e-02,  4.46052570e-03, -2.60625668e-02,\n",
       "          6.58632889e-02, -1.71512701e-02,  4.62877825e-02,\n",
       "         -2.16723159e-02,  6.44893125e-02,  6.41589239e-02,\n",
       "         -2.36454569e-02],\n",
       "        [ 1.40540361e-01,  3.98146585e-02, -8.89472514e-02,\n",
       "          6.94425404e-02,  2.09868893e-01, -5.03596604e-01,\n",
       "          1.67709231e-01,  1.64515585e-01,  1.12776175e-01,\n",
       "          1.83120626e-03,  1.68122649e-01,  4.19013947e-03,\n",
       "         -8.89581814e-02,  8.48504454e-02,  2.11772218e-01,\n",
       "          1.66699234e-02],\n",
       "        [ 1.75037041e-01,  1.47622809e-01,  8.91724415e-03,\n",
       "          4.97835502e-02,  7.15483651e-02, -2.95275062e-01,\n",
       "          2.20892981e-01,  1.75601512e-01,  1.56554312e-01,\n",
       "          6.62611127e-02,  1.36847600e-01, -4.85397736e-03,\n",
       "         -4.69895266e-02,  1.31909832e-01,  1.17349289e-01,\n",
       "          1.14154648e-02],\n",
       "        [-8.55962217e-01, -9.63367462e-01, -1.22649074e+00,\n",
       "         -8.03529799e-01, -8.99320126e-01,  2.20352912e+00,\n",
       "         -1.04130661e+00, -1.07272959e+00, -1.06676614e+00,\n",
       "         -2.53586888e-01, -1.17005730e+00, -7.37989128e-01,\n",
       "          1.69442117e+00, -9.56468880e-01, -9.48569536e-01,\n",
       "          1.23847216e-01],\n",
       "        [ 2.71415144e-01,  1.35580957e-01, -1.99991520e-02,\n",
       "          1.63189039e-01,  1.17403977e-01, -4.61532265e-01,\n",
       "          6.15132302e-02,  1.12757139e-01,  3.00310347e-02,\n",
       "          4.75539751e-02,  1.39917970e-01, -2.52115466e-02,\n",
       "         -7.53600821e-02,  1.72226459e-01,  2.26425186e-01,\n",
       "          1.89882796e-02],\n",
       "        [ 1.64116710e-01,  1.19308114e-01,  1.45745715e-02,\n",
       "          3.73314805e-02,  1.36568919e-01, -2.08457291e-01,\n",
       "          1.33092031e-01,  1.21839777e-01,  1.10051766e-01,\n",
       "          6.16735518e-02,  1.05336949e-01,  1.08022764e-01,\n",
       "          6.00862615e-02,  1.54980600e-01,  2.08975539e-01,\n",
       "         -3.44882905e-02],\n",
       "        [-4.68699709e-02, -8.54166821e-02, -1.87565647e-02,\n",
       "         -2.92825419e-02, -7.88999647e-02,  2.43238434e-02,\n",
       "          8.87076277e-03,  7.58081488e-03, -1.00891620e-01,\n",
       "         -1.20177455e-01,  5.16371354e-02, -1.07732095e-01,\n",
       "          1.82966068e-02,  3.83078232e-02,  1.07309043e-01,\n",
       "         -8.56868457e-03],\n",
       "        [ 1.89517200e-01,  1.35065004e-01, -4.44854833e-02,\n",
       "          7.61513934e-02,  1.03818573e-01, -3.40989172e-01,\n",
       "          1.29052043e-01,  1.38822556e-01,  1.00869797e-01,\n",
       "         -8.76757726e-02,  1.94439992e-01,  6.25923872e-02,\n",
       "          7.50163123e-02,  1.54550567e-01,  1.07054017e-01,\n",
       "          1.34774027e-02],\n",
       "        [-1.87322944e-01, -3.29516500e-01,  5.40111959e-01,\n",
       "         -2.08583400e-01, -1.67464107e-01,  2.50176400e-01,\n",
       "         -3.41133595e-01, -3.06024551e-01, -4.22345489e-01,\n",
       "          4.60280716e-01, -2.87509829e-01,  1.00768082e-01,\n",
       "         -7.21393973e-02, -4.09794867e-01, -4.17604268e-01,\n",
       "          3.76443900e-02],\n",
       "        [ 1.14896810e-02,  2.62073800e-03,  4.85761501e-02,\n",
       "          1.52454805e-02,  4.91914041e-02,  2.42622476e-02,\n",
       "         -4.90980186e-02,  2.21955385e-02, -1.21969152e-02,\n",
       "         -3.79427262e-02,  2.57668886e-02, -4.92090322e-02,\n",
       "          3.29275131e-02, -2.84608547e-02, -5.28366081e-02,\n",
       "          1.56990569e-02],\n",
       "        [-1.86403468e-01, -4.32146043e-01,  5.67775846e-01,\n",
       "         -1.72867447e-01, -1.20057151e-01,  2.71898687e-01,\n",
       "         -2.76656806e-01, -3.36593121e-01, -4.92327720e-01,\n",
       "          4.53171998e-01, -3.31050813e-01, -1.07519373e-01,\n",
       "         -3.69458228e-01, -4.55154866e-01, -4.07486647e-01,\n",
       "          1.92332100e-02],\n",
       "        [-1.21211691e-03, -3.08663640e-02, -5.76856621e-02,\n",
       "          5.30408025e-02,  2.01473553e-02, -6.09000213e-02,\n",
       "          3.74810249e-02, -1.83892213e-02, -1.11181326e-01,\n",
       "          3.23921032e-02, -4.44541015e-02, -6.62070885e-03,\n",
       "          4.78241546e-03, -1.33120883e-02,  1.49036606e-03,\n",
       "          3.29346471e-02],\n",
       "        [-7.89638683e-02, -3.22836377e-02, -8.27709362e-02,\n",
       "          1.01936404e-02,  6.26929104e-02,  5.27208969e-02,\n",
       "         -6.33740216e-04,  3.36829200e-02, -7.74118602e-02,\n",
       "          5.74030541e-02, -5.04275709e-02, -3.43635008e-02,\n",
       "         -1.67605244e-02, -6.52289614e-02, -3.18952687e-02,\n",
       "          1.67904906e-02],\n",
       "        [ 2.24171117e-01,  1.63231164e-01, -1.34107038e-01,\n",
       "          1.24180064e-01,  2.18343332e-01, -3.63957733e-01,\n",
       "          1.56444669e-01,  2.04899967e-01,  1.13339752e-01,\n",
       "         -6.87454417e-02,  2.05301955e-01,  1.15979719e-03,\n",
       "          2.64783893e-02,  1.05188906e-01,  9.80835482e-02,\n",
       "          1.16467094e-02],\n",
       "        [ 2.09314570e-01,  1.78394973e-01, -2.57285424e-02,\n",
       "          1.52793229e-01,  8.92999843e-02, -5.05257428e-01,\n",
       "          1.71521693e-01,  1.74427107e-01,  1.23580046e-01,\n",
       "         -1.55372843e-01,  1.20531701e-01, -2.02462934e-02,\n",
       "         -7.17096999e-02,  1.54394833e-02,  1.27840236e-01,\n",
       "         -1.14165461e-02],\n",
       "        [ 2.28471253e-02,  3.16429622e-02,  1.89435165e-02,\n",
       "         -2.86543947e-02, -4.96864542e-02, -6.79996470e-03,\n",
       "         -9.87838395e-03,  3.73261273e-02,  7.35486532e-03,\n",
       "         -5.62287457e-02, -3.36127393e-02, -3.73851992e-02,\n",
       "         -2.41039898e-02, -1.02697067e-01, -1.89317167e-02,\n",
       "         -7.49413297e-02],\n",
       "        [-8.94773658e-03, -5.98955061e-03, -4.35175523e-02,\n",
       "          8.31861515e-03,  8.59465729e-03,  2.39929110e-02,\n",
       "         -1.83307100e-02, -6.99774176e-02, -3.12055349e-02,\n",
       "          1.06007487e-01, -6.80734739e-02,  2.46211868e-02,\n",
       "         -6.64258078e-02, -4.50123735e-02, -7.12371543e-02,\n",
       "         -2.34957486e-02],\n",
       "        [ 2.61324383e-02,  3.56497685e-03, -3.63128893e-02,\n",
       "         -5.92839345e-02,  7.64241666e-02, -3.06439325e-02,\n",
       "         -3.66739668e-02,  4.51300666e-02,  7.80329341e-04,\n",
       "          7.47532621e-02, -5.06082587e-02, -1.12219285e-02,\n",
       "          6.49918541e-02, -4.09812555e-02, -4.13028225e-02,\n",
       "         -5.51598035e-02],\n",
       "        [ 2.48594671e-01,  3.50311548e-01, -6.78289711e-01,\n",
       "          2.20686972e-01,  1.33960247e-01,  9.09152701e-02,\n",
       "          2.40838498e-01,  2.43949637e-01,  4.07186419e-01,\n",
       "         -1.04964864e+00,  2.86451697e-01,  1.75543234e-01,\n",
       "          3.20534594e-02,  3.79105687e-01,  3.24457586e-01,\n",
       "         -4.88238968e-02],\n",
       "        [ 1.75324559e-01,  1.48301393e-01, -2.63080925e-01,\n",
       "          1.94259763e-01,  1.18918270e-01, -1.02208331e-01,\n",
       "          1.38791174e-01,  1.32867798e-01,  1.83775172e-01,\n",
       "         -5.06249189e-01,  5.14959060e-02, -5.35603054e-02,\n",
       "         -2.63556212e-01,  1.67884722e-01,  1.98892429e-01,\n",
       "          5.00097685e-02]], dtype=float32),\n",
       " array([ 0.16246308,  0.06624891,  0.21511173,  0.09434339,  0.22816263,\n",
       "         0.09119748,  0.07359141,  0.10827153, -0.03286126,  0.2606581 ,\n",
       "         0.06322695,  0.1087683 , -0.00574468,  0.029233  ,  0.03816826,\n",
       "        -0.02033474], dtype=float32),\n",
       " array([[ 6.05082698e-02,  1.21090285e-01,  1.81559086e-01,\n",
       "         -1.39581993e-01,  1.44737558e-02,  4.02887650e-02,\n",
       "          2.72391379e-01, -9.30644646e-02],\n",
       "        [-8.67864713e-02,  2.55652696e-01,  1.86249599e-01,\n",
       "          2.60438118e-03, -1.10801198e-02, -8.69843289e-02,\n",
       "          1.36424124e-01, -2.08580196e-02],\n",
       "        [-1.77861657e-02,  2.69877106e-01,  1.93600863e-01,\n",
       "          2.70762574e-02,  2.26601195e-02, -2.22046245e-02,\n",
       "          8.35532606e-01, -1.12011575e-03],\n",
       "        [ 4.45733033e-03,  9.56433415e-02,  8.84757936e-02,\n",
       "          1.29368290e-01, -4.46115732e-02,  4.11305986e-02,\n",
       "          1.15218587e-01, -4.00615968e-02],\n",
       "        [-7.71501437e-02,  1.25003934e-01,  5.11079840e-02,\n",
       "         -6.62256544e-03, -6.42776350e-03, -3.94844636e-02,\n",
       "          1.73750430e-01,  7.45063741e-03],\n",
       "        [-4.50441204e-02, -1.61276197e+00, -1.72042227e+00,\n",
       "         -3.48831862e-02, -2.02105030e-01, -9.26793069e-02,\n",
       "         -1.30339491e+00, -1.54968545e-01],\n",
       "        [-8.30270257e-03,  1.61545247e-01,  2.09217414e-01,\n",
       "         -8.44035298e-03, -3.01132072e-02, -8.09859559e-02,\n",
       "          1.53117031e-01, -1.70997474e-02],\n",
       "        [ 4.12896238e-02,  1.38201192e-01,  1.52237028e-01,\n",
       "          5.32033816e-02, -4.70215827e-02,  1.94439031e-02,\n",
       "          1.34899959e-01,  3.31449509e-02],\n",
       "        [ 3.34796533e-02,  1.45955414e-01,  3.06645691e-01,\n",
       "          6.84395432e-02, -8.99824724e-02,  2.58091427e-02,\n",
       "          8.26584399e-02, -5.80701753e-02],\n",
       "        [-2.04917099e-02,  5.12416482e-01,  2.96107262e-01,\n",
       "          4.37625162e-02, -5.93084656e-02, -6.39419258e-03,\n",
       "          9.64557230e-01, -1.51621580e-01],\n",
       "        [ 9.15383454e-03,  2.72991568e-01,  1.42877951e-01,\n",
       "         -5.04227765e-02,  1.62930712e-02,  7.50928931e-03,\n",
       "          1.12637982e-01, -9.42567177e-03],\n",
       "        [-6.32898733e-02,  1.74670801e-01,  2.50970304e-01,\n",
       "         -1.80072431e-02,  2.49621160e-02, -6.78355154e-03,\n",
       "         -2.42287684e-02,  6.84366047e-01],\n",
       "        [-3.05992011e-02, -2.45459363e-01, -1.76905006e-01,\n",
       "          2.41949409e-02, -4.44077887e-02,  1.10527225e-01,\n",
       "         -1.89055726e-01, -1.02043450e-01],\n",
       "        [-1.47115756e-02,  1.80057004e-01,  2.59703785e-01,\n",
       "         -2.93401163e-02, -7.34223798e-02, -5.68752885e-02,\n",
       "          1.18717521e-01, -5.54110184e-02],\n",
       "        [-3.66913411e-03,  1.29452541e-01,  2.85230130e-01,\n",
       "         -1.36375930e-02, -2.30315644e-02, -6.24553151e-02,\n",
       "          1.60693660e-01, -1.05549492e-01],\n",
       "        [-6.51692897e-02,  5.69088720e-02,  3.24648917e-02,\n",
       "         -6.49548024e-02,  7.49433115e-02,  8.83589033e-03,\n",
       "          2.61554383e-02,  1.23569496e-01]], dtype=float32),\n",
       " array([ 0.        , -0.01775037, -0.25149396, -0.01961234,  0.04959717,\n",
       "        -0.01326857,  0.47290248,  0.35393745], dtype=float32),\n",
       " array([[-3.2575045e-02, -2.4633897e-02,  1.4839922e-01,  1.0880088e-02],\n",
       "        [-3.4807786e-02, -1.6221268e-02,  5.3585634e-02,  2.5832668e-01],\n",
       "        [-5.9513036e-02, -5.2010577e-02,  2.5941397e-04,  2.9336342e-01],\n",
       "        [ 4.8318088e-02,  9.5569275e-02, -7.2870436e-03,  6.9465928e-02],\n",
       "        [-4.9117901e-03,  2.1471435e-02,  1.6032198e-02, -1.2249669e-01],\n",
       "        [-5.5978682e-02,  9.5419819e-03, -5.4825034e-02,  3.5015538e-02],\n",
       "        [ 5.0750349e-02, -1.1496621e-03,  1.9718127e-01,  2.0941576e-01],\n",
       "        [-1.4590546e-02, -1.0787577e-01, -5.5730736e-01,  1.5301523e-01]],\n",
       "       dtype=float32),\n",
       " array([-0.00692445, -0.0168028 ,  0.97892886, -0.44458392], dtype=float32),\n",
       " array([[ 0.04540873, -0.06534939],\n",
       "        [ 0.04330827,  0.07168794],\n",
       "        [-0.06033104,  0.3584624 ],\n",
       "        [ 0.29314616, -0.02262412]], dtype=float32),\n",
       " array([-0.500911  ,  0.01421678], dtype=float32)]"
      ]
     },
     "execution_count": 349,
     "metadata": {},
     "output_type": "execute_result"
    }
   ],
   "source": [
    "model.get_weights()"
   ]
  },
  {
   "cell_type": "code",
   "execution_count": null,
   "metadata": {},
   "outputs": [],
   "source": [
    "# converting to seconds from date\n",
    "#Eg: 2005-01-24 00:00:00+05:30 to 1106505000"
   ]
  },
  {
   "cell_type": "code",
   "execution_count": 356,
   "metadata": {},
   "outputs": [],
   "source": [
    "d=pd.DataFrame()\n",
    "d[\"date\"]=[1.2]"
   ]
  },
  {
   "cell_type": "code",
   "execution_count": 366,
   "metadata": {},
   "outputs": [
    {
     "data": {
      "text/plain": [
       "1.2"
      ]
     },
     "execution_count": 366,
     "metadata": {},
     "output_type": "execute_result"
    }
   ],
   "source": [
    "d[\"date\"][0]"
   ]
  },
  {
   "cell_type": "code",
   "execution_count": 369,
   "metadata": {},
   "outputs": [
    {
     "name": "stdout",
     "output_type": "stream",
     "text": [
      "\u001b[1m1/1\u001b[0m \u001b[32m━━━━━━━━━━━━━━━━━━━━\u001b[0m\u001b[37m\u001b[0m \u001b[1m0s\u001b[0m 26ms/step\n"
     ]
    }
   ],
   "source": [
    "p=model.predict(d[\"date\"])"
   ]
  },
  {
   "cell_type": "code",
   "execution_count": 370,
   "metadata": {},
   "outputs": [
    {
     "name": "stdout",
     "output_type": "stream",
     "text": [
      "[[1.5686026 1.0524331]]\n"
     ]
    }
   ],
   "source": [
    "print(p)"
   ]
  },
  {
   "cell_type": "code",
   "execution_count": 373,
   "metadata": {},
   "outputs": [
    {
     "name": "stdout",
     "output_type": "stream",
     "text": [
      "Value of Apollo: 11665.305102586746\n",
      "Value of Asian Paints: 3681.0216994130615\n"
     ]
    }
   ],
   "source": [
    "print(f\"Value of Apollo: {p[0][0]*max(df_Apollo_Asian[\"APOLLOHOSP\"])}\")\n",
    "print(f\"Value of Asian Paints: {p[0][1]*max(df_Apollo_Asian[\"ASIANPAINT\"])}\")"
   ]
  },
  {
   "cell_type": "code",
   "execution_count": null,
   "metadata": {},
   "outputs": [],
   "source": []
  }
 ],
 "metadata": {
  "kernelspec": {
   "display_name": "Python 3",
   "language": "python",
   "name": "python3"
  },
  "language_info": {
   "codemirror_mode": {
    "name": "ipython",
    "version": 3
   },
   "file_extension": ".py",
   "mimetype": "text/x-python",
   "name": "python",
   "nbconvert_exporter": "python",
   "pygments_lexer": "ipython3",
   "version": "3.12.0"
  }
 },
 "nbformat": 4,
 "nbformat_minor": 2
}
