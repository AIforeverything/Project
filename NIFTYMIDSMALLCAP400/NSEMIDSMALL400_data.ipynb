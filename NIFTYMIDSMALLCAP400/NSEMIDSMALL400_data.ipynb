{
 "cells": [
  {
   "cell_type": "code",
   "execution_count": 1,
   "metadata": {},
   "outputs": [],
   "source": [
    "# %pip install -r requirements.txt"
   ]
  },
  {
   "cell_type": "code",
   "execution_count": 1,
   "metadata": {},
   "outputs": [],
   "source": [
    "import datetime as dt\n",
    "import pandas as pd\n",
    "import pandas_datareader as pdr\n",
    "import datetime as dt\n",
    "import time\n",
    "import yfinance as yf"
   ]
  },
  {
   "cell_type": "code",
   "execution_count": 2,
   "metadata": {},
   "outputs": [
    {
     "data": {
      "text/html": [
       "<div>\n",
       "<style scoped>\n",
       "    .dataframe tbody tr th:only-of-type {\n",
       "        vertical-align: middle;\n",
       "    }\n",
       "\n",
       "    .dataframe tbody tr th {\n",
       "        vertical-align: top;\n",
       "    }\n",
       "\n",
       "    .dataframe thead th {\n",
       "        text-align: right;\n",
       "    }\n",
       "</style>\n",
       "<table border=\"1\" class=\"dataframe\">\n",
       "  <thead>\n",
       "    <tr style=\"text-align: right;\">\n",
       "      <th></th>\n",
       "      <th>SYMBOL \\n</th>\n",
       "      <th>OPEN \\n</th>\n",
       "      <th>HIGH \\n</th>\n",
       "      <th>LOW \\n</th>\n",
       "      <th>PREV. CLOSE \\n</th>\n",
       "      <th>LTP \\n</th>\n",
       "      <th>INDICATIVE CLOSE \\n</th>\n",
       "      <th>CHNG \\n</th>\n",
       "      <th>%CHNG \\n</th>\n",
       "      <th>VOLUME \\n(shares)</th>\n",
       "      <th>VALUE \\n (₹ Crores)</th>\n",
       "      <th>52W H \\n</th>\n",
       "      <th>52W L \\n</th>\n",
       "      <th>30 D   %CHNG \\n</th>\n",
       "      <th>365 D % CHNG \\n 09-Feb-2024</th>\n",
       "    </tr>\n",
       "  </thead>\n",
       "  <tbody>\n",
       "    <tr>\n",
       "      <th>0</th>\n",
       "      <td>NIFTY MIDSMALLCAP 400</td>\n",
       "      <td>18,473.90</td>\n",
       "      <td>18,504.40</td>\n",
       "      <td>18,019.25</td>\n",
       "      <td>18,480.10</td>\n",
       "      <td>18,091.95</td>\n",
       "      <td>-</td>\n",
       "      <td>-388.15</td>\n",
       "      <td>-2.10</td>\n",
       "      <td>98,75,82,631</td>\n",
       "      <td>29,276.23</td>\n",
       "      <td>21,177.60</td>\n",
       "      <td>15,493.80</td>\n",
       "      <td>-3.08</td>\n",
       "      <td>8.61</td>\n",
       "    </tr>\n",
       "    <tr>\n",
       "      <th>1</th>\n",
       "      <td>REDINGTON</td>\n",
       "      <td>233.00</td>\n",
       "      <td>244.80</td>\n",
       "      <td>229.40</td>\n",
       "      <td>231.80</td>\n",
       "      <td>242.50</td>\n",
       "      <td>-</td>\n",
       "      <td>10.70</td>\n",
       "      <td>4.62</td>\n",
       "      <td>3,43,10,073</td>\n",
       "      <td>821.38</td>\n",
       "      <td>244.80</td>\n",
       "      <td>158.61</td>\n",
       "      <td>13.57</td>\n",
       "      <td>21.81</td>\n",
       "    </tr>\n",
       "    <tr>\n",
       "      <th>2</th>\n",
       "      <td>SIGNATURE</td>\n",
       "      <td>1,265.90</td>\n",
       "      <td>1,339.50</td>\n",
       "      <td>1,250.50</td>\n",
       "      <td>1,262.55</td>\n",
       "      <td>1,311.00</td>\n",
       "      <td>-</td>\n",
       "      <td>48.45</td>\n",
       "      <td>3.84</td>\n",
       "      <td>14,07,600</td>\n",
       "      <td>182.64</td>\n",
       "      <td>1,647.00</td>\n",
       "      <td>1,040.00</td>\n",
       "      <td>0.77</td>\n",
       "      <td>-4.13</td>\n",
       "    </tr>\n",
       "    <tr>\n",
       "      <th>3</th>\n",
       "      <td>VARROC</td>\n",
       "      <td>540.00</td>\n",
       "      <td>573.75</td>\n",
       "      <td>492.85</td>\n",
       "      <td>543.50</td>\n",
       "      <td>561.00</td>\n",
       "      <td>-</td>\n",
       "      <td>17.50</td>\n",
       "      <td>3.22</td>\n",
       "      <td>14,16,591</td>\n",
       "      <td>74.38</td>\n",
       "      <td>716.90</td>\n",
       "      <td>433.00</td>\n",
       "      <td>-9.93</td>\n",
       "      <td>2.06</td>\n",
       "    </tr>\n",
       "    <tr>\n",
       "      <th>4</th>\n",
       "      <td>AVANTIFEED</td>\n",
       "      <td>720.05</td>\n",
       "      <td>750.00</td>\n",
       "      <td>718.55</td>\n",
       "      <td>720.10</td>\n",
       "      <td>742.60</td>\n",
       "      <td>-</td>\n",
       "      <td>22.50</td>\n",
       "      <td>3.12</td>\n",
       "      <td>12,52,783</td>\n",
       "      <td>92.04</td>\n",
       "      <td>793.00</td>\n",
       "      <td>472.00</td>\n",
       "      <td>19.04</td>\n",
       "      <td>35.34</td>\n",
       "    </tr>\n",
       "  </tbody>\n",
       "</table>\n",
       "</div>"
      ],
      "text/plain": [
       "               SYMBOL \\n    OPEN \\n    HIGH \\n     LOW \\n PREV. CLOSE \\n  \\\n",
       "0  NIFTY MIDSMALLCAP 400  18,473.90  18,504.40  18,019.25      18,480.10   \n",
       "1              REDINGTON     233.00     244.80     229.40         231.80   \n",
       "2              SIGNATURE   1,265.90   1,339.50   1,250.50       1,262.55   \n",
       "3                 VARROC     540.00     573.75     492.85         543.50   \n",
       "4             AVANTIFEED     720.05     750.00     718.55         720.10   \n",
       "\n",
       "      LTP \\n INDICATIVE CLOSE \\n  CHNG \\n  %CHNG \\n VOLUME \\n(shares)  \\\n",
       "0  18,091.95                   -  -388.15     -2.10      98,75,82,631   \n",
       "1     242.50                   -    10.70      4.62       3,43,10,073   \n",
       "2   1,311.00                   -    48.45      3.84         14,07,600   \n",
       "3     561.00                   -    17.50      3.22         14,16,591   \n",
       "4     742.60                   -    22.50      3.12         12,52,783   \n",
       "\n",
       "  VALUE \\n (₹ Crores)   52W H \\n   52W L \\n 30 D   %CHNG \\n  \\\n",
       "0           29,276.23  21,177.60  15,493.80           -3.08   \n",
       "1              821.38     244.80     158.61           13.57   \n",
       "2              182.64   1,647.00   1,040.00            0.77   \n",
       "3               74.38     716.90     433.00           -9.93   \n",
       "4               92.04     793.00     472.00           19.04   \n",
       "\n",
       "  365 D % CHNG \\n 09-Feb-2024  \n",
       "0                        8.61  \n",
       "1                       21.81  \n",
       "2                       -4.13  \n",
       "3                        2.06  \n",
       "4                       35.34  "
      ]
     },
     "execution_count": 2,
     "metadata": {},
     "output_type": "execute_result"
    }
   ],
   "source": [
    "df_nifty400=pd.read_csv(\"MW-NIFTY-MIDSMALLCAP-400-10-Feb-2025.csv\")\n",
    "df_nifty400.head()"
   ]
  },
  {
   "cell_type": "code",
   "execution_count": 3,
   "metadata": {},
   "outputs": [
    {
     "name": "stdout",
     "output_type": "stream",
     "text": [
      "['REDINGTON', 'SIGNATURE', 'VARROC', 'AVANTIFEED', 'ANANTRAJ', 'DOMS', 'ENGINERSIN', 'PNCINFRA', 'AKUMS', 'PTCIL', 'BERGEPAINT', 'UNOMINDA', 'LATENTVIEW', 'BALRAMCHIN', 'PAGEIND', 'ESCORTS', 'SOLARINDS', 'ISEC', 'TIMKEN', 'FLUOROCHEM', 'GAEL', 'CUMMINSIND', 'AMBER', 'UBL', 'CGCL', 'CRAFTSMAN', 'BATAINDIA', 'PATANJALI', 'JBCHEPHARM', 'TBOTEK', 'INDIAMART', 'GESHIP', '3MINDIA', 'ANANDRATHI', 'SONACOMS', 'GODFRYPHLP', 'KEC', 'JUBLPHARMA', 'COCHINSHIP', 'RAMCOCEM', 'TTML', 'INOXWIND', 'VINATIORGA', 'IRCON', 'NCC', 'KSB', 'APLLTD', 'CAMPUS', 'GNFC', 'CASTROLIND', 'NAVINFLUOR', 'AIAENG', 'METROBRAND', 'BHARATFORG', 'M&MFIN', 'NH', 'COROMANDEL', 'DEVYANI', 'KIRLOSENG', 'EMAMILTD', 'PIIND', 'GRSE', 'AAVAS', 'MANKIND', 'RAILTEL', 'POWERINDIA', 'FSL', 'BDL', 'FEDERALBNK', 'SANOFI', 'KPRMILL', 'NUVAMA', 'PETRONET', 'ABBOTINDIA', 'KPITTECH', 'CHENNPETRO', 'APOLLOTYRE', 'LTF', 'CEATLTD', 'VGUARD', 'FINEORG', 'ASTRAZEN', 'RRKABEL', 'MARICO', 'ASAHIINDIA', 'TATAELXSI', 'TATATECH', 'SRF', 'MAHLIFE', 'ELECON', 'AUROPHARMA', 'BBTC', 'TATAINVEST', 'TITAGARH', 'TRIVENI', 'NSLNISP', 'KPIL', 'RENUKA', 'RAINBOW', 'JSWINFRA', 'MANYAVAR', 'SAREGAMA', 'UPL', 'JUBLFOOD', 'ROUTE', 'ZFCVINDIA', 'TANLA', 'HINDPETRO', 'INDIACEM', 'JPPOWER', 'HINDZINC', 'PVRINOX', 'FINPIPE', 'WELSPUNLIV', 'MMTC', 'SJVN', 'SCHNEIDER', 'MAZDOCK', 'PHOENIXLTD', 'GPIL', 'ABCAPITAL', 'ATUL', 'RAJESHEXPO', 'GMRAIRPORT', 'CESC', 'SUZLON', 'RBLBANK', 'ASHOKLEY', 'COLPAL', 'DALBHARAT', 'OBEROIRLTY', 'AFFLE', 'SYRMA', 'ASTERDM', 'JKCEMENT', 'KNRCON', 'CUB', 'ALKYLAMINE', 'OLECTRA', 'MAHABANK', 'CELLO', 'VOLTAS', 'LALPATHLAB', 'BSE', 'CHAMBLFERT', 'SYNGENE', 'EXIDEIND', 'TIINDIA', 'TRITURBINE', 'ABREL', 'DBREALTY', 'CYIENT', 'KAJARIACER', 'CENTRALBK', 'COFORGE', 'ASTRAL', 'LTTS', 'MRF', 'ALOKINDS', 'TEJASNET', 'NYKAA', 'HDFCAMC', 'EIHOTEL', 'SPARC', 'IOB', 'LUPIN', 'HEG', 'ECLERX', 'SKFINDIA', 'GILLETTE', 'SBFC', 'IDFCFIRSTB', 'PRESTIGE', 'SWSOLAR', 'IGL', 'IIFL', 'GODIGIT', 'ENDURANCE', 'CONCOR', 'BASF', 'UCOBANK', 'JSL', 'BEML', 'INOXINDIA', 'BSOFT', 'JYOTHYLAB', 'INDHOTEL', 'ZENSARTECH', 'CHEMPLASTS', 'OFSS', 'EASEMYTRIP', 'APLAPOLLO', 'JKTYRE', 'RITES', 'MRPL', 'BALKRISIND', 'ACC', 'MUTHOOTFIN', 'AUBANK', 'BANKINDIA', 'EQUITASBNK', 'SCHAEFFLER', 'INDGN', 'GLAND', 'MFSL', 'FINCABLES', 'GSFC', 'LEMONTREE', 'KARURVYSYA', 'RATNAMANI', 'TRIDENT', 'CHALET', 'VTL', 'CRISIL', 'AARTIIND', 'TATACOMM', 'MASTEK', 'SBICARD', 'MSUMI', 'HAPPSTMNDS', 'CCL', 'TATACHEM', 'IREDA', 'RAYMOND', 'JWL', 'BANDHANBNK', 'DIXON', 'GLENMARK', 'METROPOLIS', 'POONAWALLA', 'PEL', 'ELGIEQUIP', 'BIOCON', 'JUSTDIAL', 'ACE', 'GRANULES', 'BAYERCROP', 'GVT&D', 'QUESS', 'LAURUSLABS', 'NETWORK18', 'PPLPHARMA', 'MGL', 'J&KBANK', 'RADICO', 'CERA', 'YESBANK', 'CREDITACC', 'NBCC', 'MANAPPURAM', 'APTUS', 'ANGELONE', 'IRB', 'IFCI', 'DEEPAKNTR', 'HOMEFIRST', 'JUBLINGREA', 'SUPREMEIND', 'HFCL', 'MOTILALOFS', 'CLEAN', 'SHYAMMETL', 'DATAPATTNS', 'ARE&M', 'NATCOPHARM', 'NUVOCO', 'PRAJIND', 'MAHSEAMLES', 'CDSL', 'PGHH', '360ONE', 'NIACL', 'MPHASIS', 'LICHSGFIN', 'BLUESTARCO', 'PFIZER', 'GPPL', 'IEX', 'PNBHOUSING', 'KEI', 'GSPL', 'MEDANTA', 'GRINFRA', 'SUNDARMFIN', 'LINDEINDIA', 'KALYANKJIL', 'KIRLOSBROS', 'JINDALSAW', 'MAPMYINDIA', 'INTELLECT', 'BLUEDART', 'KIMS', 'CHOLAHLDNG', 'GRAPHITE', 'BLS', 'POLYMED', 'HONASA', 'WESTLIFE', 'RHIM', 'INDUSTOWER', 'EMCURE', 'UTIAMC', 'HINDCOPPER', 'KANSAINER', 'RTNINDIA', 'HUDCO', 'HONAUT', 'BIKAJI', 'CANFINHOME', 'GODREJAGRO', 'WELCORP', 'NAM-INDIA', 'ABSLAMC', 'VIJAYA', 'TVSSCS', 'GLAXO', 'AEGISLOG', 'AWL', 'SAPPHIRE', 'HSCL', 'CIEINDIA', 'GODREJPROP', 'IDBI', 'VIPIND', 'BIRLACORPN', 'AJANTPHARM', 'FORTIS', 'LLOYDSME', 'JBMA', 'GRINDWELL', 'INDIANB', 'BALAMINES', 'IDEA', 'RKFORGE', 'RVNL', 'STARHEALTH', 'NLCINDIA', 'CAMS', 'NEWGEN', 'PCBL', 'ITI', 'GUJGASLTD', 'POLICYBZR', 'MCX', 'POLYCAB', 'THERMAX', 'HBLENGINE', 'FACT', 'SUNDRMFAST', 'DEEPAKFERT', 'PERSISTENT', 'KAYNES', 'RCF', 'NMDC', 'AADHARHFC', 'GODREJIND', 'TORNTPOWER', 'SUVENPHAR', 'SUNTV', 'BRIGADE', 'MINDACORP', 'IPCALAB', 'ZEEL', 'CGPOWER', 'PAYTM', 'SWANENERGY', 'EIDPARRY', 'WHIRLPOOL', 'GICRE', 'SAMMAANCAP', 'USHAMART', 'ABFRL', 'GMDCLTD', 'SONATSOFTW', 'CROMPTON', 'JKLAKSHMI', 'TECHNOE', 'CAPLIPOINT', 'SAIL', 'CENTURYPLY', 'NATIONALUM', 'CONCORDBIO', 'ERIS', 'OIL', 'JYOTICNC', 'CARBORUNIV', 'SUMICHEM', 'APARINDS', 'ACI', 'KFINTECH', 'DELHIVERY', 'SCI', 'FIVESTAR', 'MAXHEALTH', 'SOBHA', 'BHARTIHEXA', 'ALKEM', 'UJJIVANSFB', 'JMFINANCIL', 'NETWEB']\n"
     ]
    }
   ],
   "source": [
    "nifty400Symbols=list(df_nifty400[\"SYMBOL \\n\"])\n",
    "nifty400Symbols=nifty400Symbols[1:] #removing NIFTY 500 symbol\n",
    "print(nifty400Symbols)"
   ]
  },
  {
   "cell_type": "code",
   "execution_count": 4,
   "metadata": {},
   "outputs": [
    {
     "name": "stdout",
     "output_type": "stream",
     "text": [
      "['REDINGTON.ns', 'SIGNATURE.ns', 'VARROC.ns', 'AVANTIFEED.ns', 'ANANTRAJ.ns', 'DOMS.ns', 'ENGINERSIN.ns', 'PNCINFRA.ns', 'AKUMS.ns', 'PTCIL.ns', 'BERGEPAINT.ns', 'UNOMINDA.ns', 'LATENTVIEW.ns', 'BALRAMCHIN.ns', 'PAGEIND.ns', 'ESCORTS.ns', 'SOLARINDS.ns', 'ISEC.ns', 'TIMKEN.ns', 'FLUOROCHEM.ns', 'GAEL.ns', 'CUMMINSIND.ns', 'AMBER.ns', 'UBL.ns', 'CGCL.ns', 'CRAFTSMAN.ns', 'BATAINDIA.ns', 'PATANJALI.ns', 'JBCHEPHARM.ns', 'TBOTEK.ns', 'INDIAMART.ns', 'GESHIP.ns', '3MINDIA.ns', 'ANANDRATHI.ns', 'SONACOMS.ns', 'GODFRYPHLP.ns', 'KEC.ns', 'JUBLPHARMA.ns', 'COCHINSHIP.ns', 'RAMCOCEM.ns', 'TTML.ns', 'INOXWIND.ns', 'VINATIORGA.ns', 'IRCON.ns', 'NCC.ns', 'KSB.ns', 'APLLTD.ns', 'CAMPUS.ns', 'GNFC.ns', 'CASTROLIND.ns', 'NAVINFLUOR.ns', 'AIAENG.ns', 'METROBRAND.ns', 'BHARATFORG.ns', 'M&MFIN.ns', 'NH.ns', 'COROMANDEL.ns', 'DEVYANI.ns', 'KIRLOSENG.ns', 'EMAMILTD.ns', 'PIIND.ns', 'GRSE.ns', 'AAVAS.ns', 'MANKIND.ns', 'RAILTEL.ns', 'POWERINDIA.ns', 'FSL.ns', 'BDL.ns', 'FEDERALBNK.ns', 'SANOFI.ns', 'KPRMILL.ns', 'NUVAMA.ns', 'PETRONET.ns', 'ABBOTINDIA.ns', 'KPITTECH.ns', 'CHENNPETRO.ns', 'APOLLOTYRE.ns', 'LTF.ns', 'CEATLTD.ns', 'VGUARD.ns', 'FINEORG.ns', 'ASTRAZEN.ns', 'RRKABEL.ns', 'MARICO.ns', 'ASAHIINDIA.ns', 'TATAELXSI.ns', 'TATATECH.ns', 'SRF.ns', 'MAHLIFE.ns', 'ELECON.ns', 'AUROPHARMA.ns', 'BBTC.ns', 'TATAINVEST.ns', 'TITAGARH.ns', 'TRIVENI.ns', 'NSLNISP.ns', 'KPIL.ns', 'RENUKA.ns', 'RAINBOW.ns', 'JSWINFRA.ns', 'MANYAVAR.ns', 'SAREGAMA.ns', 'UPL.ns', 'JUBLFOOD.ns', 'ROUTE.ns', 'ZFCVINDIA.ns', 'TANLA.ns', 'HINDPETRO.ns', 'INDIACEM.ns', 'JPPOWER.ns', 'HINDZINC.ns', 'PVRINOX.ns', 'FINPIPE.ns', 'WELSPUNLIV.ns', 'MMTC.ns', 'SJVN.ns', 'SCHNEIDER.ns', 'MAZDOCK.ns', 'PHOENIXLTD.ns', 'GPIL.ns', 'ABCAPITAL.ns', 'ATUL.ns', 'RAJESHEXPO.ns', 'GMRAIRPORT.ns', 'CESC.ns', 'SUZLON.ns', 'RBLBANK.ns', 'ASHOKLEY.ns', 'COLPAL.ns', 'DALBHARAT.ns', 'OBEROIRLTY.ns', 'AFFLE.ns', 'SYRMA.ns', 'ASTERDM.ns', 'JKCEMENT.ns', 'KNRCON.ns', 'CUB.ns', 'ALKYLAMINE.ns', 'OLECTRA.ns', 'MAHABANK.ns', 'CELLO.ns', 'VOLTAS.ns', 'LALPATHLAB.ns', 'BSE.ns', 'CHAMBLFERT.ns', 'SYNGENE.ns', 'EXIDEIND.ns', 'TIINDIA.ns', 'TRITURBINE.ns', 'ABREL.ns', 'DBREALTY.ns', 'CYIENT.ns', 'KAJARIACER.ns', 'CENTRALBK.ns', 'COFORGE.ns', 'ASTRAL.ns', 'LTTS.ns', 'MRF.ns', 'ALOKINDS.ns', 'TEJASNET.ns', 'NYKAA.ns', 'HDFCAMC.ns', 'EIHOTEL.ns', 'SPARC.ns', 'IOB.ns', 'LUPIN.ns', 'HEG.ns', 'ECLERX.ns', 'SKFINDIA.ns', 'GILLETTE.ns', 'SBFC.ns', 'IDFCFIRSTB.ns', 'PRESTIGE.ns', 'SWSOLAR.ns', 'IGL.ns', 'IIFL.ns', 'GODIGIT.ns', 'ENDURANCE.ns', 'CONCOR.ns', 'BASF.ns', 'UCOBANK.ns', 'JSL.ns', 'BEML.ns', 'INOXINDIA.ns', 'BSOFT.ns', 'JYOTHYLAB.ns', 'INDHOTEL.ns', 'ZENSARTECH.ns', 'CHEMPLASTS.ns', 'OFSS.ns', 'EASEMYTRIP.ns', 'APLAPOLLO.ns', 'JKTYRE.ns', 'RITES.ns', 'MRPL.ns', 'BALKRISIND.ns', 'ACC.ns', 'MUTHOOTFIN.ns', 'AUBANK.ns', 'BANKINDIA.ns', 'EQUITASBNK.ns', 'SCHAEFFLER.ns', 'INDGN.ns', 'GLAND.ns', 'MFSL.ns', 'FINCABLES.ns', 'GSFC.ns', 'LEMONTREE.ns', 'KARURVYSYA.ns', 'RATNAMANI.ns', 'TRIDENT.ns', 'CHALET.ns', 'VTL.ns', 'CRISIL.ns', 'AARTIIND.ns', 'TATACOMM.ns', 'MASTEK.ns', 'SBICARD.ns', 'MSUMI.ns', 'HAPPSTMNDS.ns', 'CCL.ns', 'TATACHEM.ns', 'IREDA.ns', 'RAYMOND.ns', 'JWL.ns', 'BANDHANBNK.ns', 'DIXON.ns', 'GLENMARK.ns', 'METROPOLIS.ns', 'POONAWALLA.ns', 'PEL.ns', 'ELGIEQUIP.ns', 'BIOCON.ns', 'JUSTDIAL.ns', 'ACE.ns', 'GRANULES.ns', 'BAYERCROP.ns', 'GVT&D.ns', 'QUESS.ns', 'LAURUSLABS.ns', 'NETWORK18.ns', 'PPLPHARMA.ns', 'MGL.ns', 'J&KBANK.ns', 'RADICO.ns', 'CERA.ns', 'YESBANK.ns', 'CREDITACC.ns', 'NBCC.ns', 'MANAPPURAM.ns', 'APTUS.ns', 'ANGELONE.ns', 'IRB.ns', 'IFCI.ns', 'DEEPAKNTR.ns', 'HOMEFIRST.ns', 'JUBLINGREA.ns', 'SUPREMEIND.ns', 'HFCL.ns', 'MOTILALOFS.ns', 'CLEAN.ns', 'SHYAMMETL.ns', 'DATAPATTNS.ns', 'ARE&M.ns', 'NATCOPHARM.ns', 'NUVOCO.ns', 'PRAJIND.ns', 'MAHSEAMLES.ns', 'CDSL.ns', 'PGHH.ns', '360ONE.ns', 'NIACL.ns', 'MPHASIS.ns', 'LICHSGFIN.ns', 'BLUESTARCO.ns', 'PFIZER.ns', 'GPPL.ns', 'IEX.ns', 'PNBHOUSING.ns', 'KEI.ns', 'GSPL.ns', 'MEDANTA.ns', 'GRINFRA.ns', 'SUNDARMFIN.ns', 'LINDEINDIA.ns', 'KALYANKJIL.ns', 'KIRLOSBROS.ns', 'JINDALSAW.ns', 'MAPMYINDIA.ns', 'INTELLECT.ns', 'BLUEDART.ns', 'KIMS.ns', 'CHOLAHLDNG.ns', 'GRAPHITE.ns', 'BLS.ns', 'POLYMED.ns', 'HONASA.ns', 'WESTLIFE.ns', 'RHIM.ns', 'INDUSTOWER.ns', 'EMCURE.ns', 'UTIAMC.ns', 'HINDCOPPER.ns', 'KANSAINER.ns', 'RTNINDIA.ns', 'HUDCO.ns', 'HONAUT.ns', 'BIKAJI.ns', 'CANFINHOME.ns', 'GODREJAGRO.ns', 'WELCORP.ns', 'NAM-INDIA.ns', 'ABSLAMC.ns', 'VIJAYA.ns', 'TVSSCS.ns', 'GLAXO.ns', 'AEGISLOG.ns', 'AWL.ns', 'SAPPHIRE.ns', 'HSCL.ns', 'CIEINDIA.ns', 'GODREJPROP.ns', 'IDBI.ns', 'VIPIND.ns', 'BIRLACORPN.ns', 'AJANTPHARM.ns', 'FORTIS.ns', 'LLOYDSME.ns', 'JBMA.ns', 'GRINDWELL.ns', 'INDIANB.ns', 'BALAMINES.ns', 'IDEA.ns', 'RKFORGE.ns', 'RVNL.ns', 'STARHEALTH.ns', 'NLCINDIA.ns', 'CAMS.ns', 'NEWGEN.ns', 'PCBL.ns', 'ITI.ns', 'GUJGASLTD.ns', 'POLICYBZR.ns', 'MCX.ns', 'POLYCAB.ns', 'THERMAX.ns', 'HBLENGINE.ns', 'FACT.ns', 'SUNDRMFAST.ns', 'DEEPAKFERT.ns', 'PERSISTENT.ns', 'KAYNES.ns', 'RCF.ns', 'NMDC.ns', 'AADHARHFC.ns', 'GODREJIND.ns', 'TORNTPOWER.ns', 'SUVENPHAR.ns', 'SUNTV.ns', 'BRIGADE.ns', 'MINDACORP.ns', 'IPCALAB.ns', 'ZEEL.ns', 'CGPOWER.ns', 'PAYTM.ns', 'SWANENERGY.ns', 'EIDPARRY.ns', 'WHIRLPOOL.ns', 'GICRE.ns', 'SAMMAANCAP.ns', 'USHAMART.ns', 'ABFRL.ns', 'GMDCLTD.ns', 'SONATSOFTW.ns', 'CROMPTON.ns', 'JKLAKSHMI.ns', 'TECHNOE.ns', 'CAPLIPOINT.ns', 'SAIL.ns', 'CENTURYPLY.ns', 'NATIONALUM.ns', 'CONCORDBIO.ns', 'ERIS.ns', 'OIL.ns', 'JYOTICNC.ns', 'CARBORUNIV.ns', 'SUMICHEM.ns', 'APARINDS.ns', 'ACI.ns', 'KFINTECH.ns', 'DELHIVERY.ns', 'SCI.ns', 'FIVESTAR.ns', 'MAXHEALTH.ns', 'SOBHA.ns', 'BHARTIHEXA.ns', 'ALKEM.ns', 'UJJIVANSFB.ns', 'JMFINANCIL.ns', 'NETWEB.ns']\n"
     ]
    }
   ],
   "source": [
    "#converting every stock name as .NSE to get yahoo finance info\n",
    "for i in range(len(nifty400Symbols)):\n",
    "    nifty400Symbols[i]+='.ns'\n",
    "    \n",
    "print(nifty400Symbols)  "
   ]
  },
  {
   "cell_type": "code",
   "execution_count": 5,
   "metadata": {},
   "outputs": [],
   "source": [
    "#checking the stock details\n",
    "def get_info(ticker):\n",
    "    stock=yf.Ticker(ticker)\n",
    "    print(stock.info)"
   ]
  },
  {
   "cell_type": "code",
   "execution_count": 6,
   "metadata": {},
   "outputs": [],
   "source": [
    "# for i in nifty500Symbols:\n",
    "#     print(get_info(i))"
   ]
  },
  {
   "cell_type": "code",
   "execution_count": 7,
   "metadata": {},
   "outputs": [],
   "source": [
    "def save_csv(stock_name):\n",
    "    stock=yf.Ticker(stock_name)\n",
    "    df=stock.history(period=\"20y\")[\"Close\"]\n",
    "    file=stock_name.replace(\".\",\"_\")+\".csv\"\n",
    "    df.to_csv(file)"
   ]
  },
  {
   "cell_type": "code",
   "execution_count": 8,
   "metadata": {},
   "outputs": [
    {
     "name": "stderr",
     "output_type": "stream",
     "text": [
      "Could not get exchangeTimezoneName for ticker 'EASEMYTRIP.NS' reason: 'chart'\n",
      "$EASEMYTRIP.NS: possibly delisted; no price data found  (period=20y)\n"
     ]
    }
   ],
   "source": [
    "for stock in nifty400Symbols:\n",
    "    save_csv(stock)"
   ]
  }
 ],
 "metadata": {
  "kernelspec": {
   "display_name": "Python 3",
   "language": "python",
   "name": "python3"
  },
  "language_info": {
   "codemirror_mode": {
    "name": "ipython",
    "version": 3
   },
   "file_extension": ".py",
   "mimetype": "text/x-python",
   "name": "python",
   "nbconvert_exporter": "python",
   "pygments_lexer": "ipython3",
   "version": "3.12.0"
  }
 },
 "nbformat": 4,
 "nbformat_minor": 2
}
