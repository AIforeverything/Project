{
 "cells": [
  {
   "cell_type": "code",
   "execution_count": 1,
   "metadata": {},
   "outputs": [],
   "source": [
    "# %pip install -r requirements.txt"
   ]
  },
  {
   "cell_type": "code",
   "execution_count": 2,
   "metadata": {},
   "outputs": [],
   "source": [
    "import datetime as dt\n",
    "import pandas as pd\n",
    "import pandas_datareader as pdr\n",
    "import datetime as dt\n",
    "import time\n",
    "import yfinance as yf"
   ]
  },
  {
   "cell_type": "code",
   "execution_count": 4,
   "metadata": {},
   "outputs": [
    {
     "data": {
      "text/html": [
       "<div>\n",
       "<style scoped>\n",
       "    .dataframe tbody tr th:only-of-type {\n",
       "        vertical-align: middle;\n",
       "    }\n",
       "\n",
       "    .dataframe tbody tr th {\n",
       "        vertical-align: top;\n",
       "    }\n",
       "\n",
       "    .dataframe thead th {\n",
       "        text-align: right;\n",
       "    }\n",
       "</style>\n",
       "<table border=\"1\" class=\"dataframe\">\n",
       "  <thead>\n",
       "    <tr style=\"text-align: right;\">\n",
       "      <th></th>\n",
       "      <th>SYMBOL \\n</th>\n",
       "      <th>OPEN \\n</th>\n",
       "      <th>HIGH \\n</th>\n",
       "      <th>LOW \\n</th>\n",
       "      <th>PREV. CLOSE \\n</th>\n",
       "      <th>LTP \\n</th>\n",
       "      <th>INDICATIVE CLOSE \\n</th>\n",
       "      <th>CHNG \\n</th>\n",
       "      <th>%CHNG \\n</th>\n",
       "      <th>VOLUME \\n(shares)</th>\n",
       "      <th>VALUE \\n (₹ Crores)</th>\n",
       "      <th>52W H \\n</th>\n",
       "      <th>52W L \\n</th>\n",
       "      <th>30 D   %CHNG \\n</th>\n",
       "      <th>365 D % CHNG \\n -</th>\n",
       "    </tr>\n",
       "  </thead>\n",
       "  <tbody>\n",
       "    <tr>\n",
       "      <th>0</th>\n",
       "      <td>NIFTY TOTAL MARKET</td>\n",
       "      <td>12,191.65</td>\n",
       "      <td>12,204.90</td>\n",
       "      <td>11,995.85</td>\n",
       "      <td>12,196.25</td>\n",
       "      <td>12,035.90</td>\n",
       "      <td>-</td>\n",
       "      <td>-160.35</td>\n",
       "      <td>-1.31</td>\n",
       "      <td>1,62,25,80,168</td>\n",
       "      <td>64,436.13</td>\n",
       "      <td>13,842.60</td>\n",
       "      <td>6,252.10</td>\n",
       "      <td>-0.84</td>\n",
       "      <td>8.55</td>\n",
       "    </tr>\n",
       "    <tr>\n",
       "      <th>1</th>\n",
       "      <td>GRWRHITECH</td>\n",
       "      <td>3,404.95</td>\n",
       "      <td>3,693.00</td>\n",
       "      <td>3,241.35</td>\n",
       "      <td>3,383.85</td>\n",
       "      <td>3,682.45</td>\n",
       "      <td>-</td>\n",
       "      <td>298.60</td>\n",
       "      <td>8.82</td>\n",
       "      <td>4,34,925</td>\n",
       "      <td>151.64</td>\n",
       "      <td>5,378.10</td>\n",
       "      <td>1,513.25</td>\n",
       "      <td>-21.05</td>\n",
       "      <td>74.01</td>\n",
       "    </tr>\n",
       "    <tr>\n",
       "      <th>2</th>\n",
       "      <td>REDINGTON</td>\n",
       "      <td>233.00</td>\n",
       "      <td>244.80</td>\n",
       "      <td>229.40</td>\n",
       "      <td>231.80</td>\n",
       "      <td>242.50</td>\n",
       "      <td>-</td>\n",
       "      <td>10.70</td>\n",
       "      <td>4.62</td>\n",
       "      <td>3,43,12,599</td>\n",
       "      <td>821.44</td>\n",
       "      <td>244.80</td>\n",
       "      <td>158.61</td>\n",
       "      <td>13.57</td>\n",
       "      <td>21.81</td>\n",
       "    </tr>\n",
       "    <tr>\n",
       "      <th>3</th>\n",
       "      <td>NEULANDLAB</td>\n",
       "      <td>14,300.00</td>\n",
       "      <td>14,899.70</td>\n",
       "      <td>13,900.00</td>\n",
       "      <td>14,247.35</td>\n",
       "      <td>14,840.00</td>\n",
       "      <td>-</td>\n",
       "      <td>592.65</td>\n",
       "      <td>4.16</td>\n",
       "      <td>28,767</td>\n",
       "      <td>41.22</td>\n",
       "      <td>18,100.00</td>\n",
       "      <td>5,540.10</td>\n",
       "      <td>1.44</td>\n",
       "      <td>110.45</td>\n",
       "    </tr>\n",
       "    <tr>\n",
       "      <th>4</th>\n",
       "      <td>SIGNATURE</td>\n",
       "      <td>1,265.90</td>\n",
       "      <td>1,339.50</td>\n",
       "      <td>1,250.50</td>\n",
       "      <td>1,262.55</td>\n",
       "      <td>1,311.00</td>\n",
       "      <td>-</td>\n",
       "      <td>48.45</td>\n",
       "      <td>3.84</td>\n",
       "      <td>14,07,759</td>\n",
       "      <td>182.66</td>\n",
       "      <td>1,647.00</td>\n",
       "      <td>1,040.00</td>\n",
       "      <td>0.77</td>\n",
       "      <td>-4.13</td>\n",
       "    </tr>\n",
       "  </tbody>\n",
       "</table>\n",
       "</div>"
      ],
      "text/plain": [
       "            SYMBOL \\n    OPEN \\n    HIGH \\n     LOW \\n PREV. CLOSE \\n  \\\n",
       "0  NIFTY TOTAL MARKET  12,191.65  12,204.90  11,995.85      12,196.25   \n",
       "1          GRWRHITECH   3,404.95   3,693.00   3,241.35       3,383.85   \n",
       "2           REDINGTON     233.00     244.80     229.40         231.80   \n",
       "3          NEULANDLAB  14,300.00  14,899.70  13,900.00      14,247.35   \n",
       "4           SIGNATURE   1,265.90   1,339.50   1,250.50       1,262.55   \n",
       "\n",
       "      LTP \\n INDICATIVE CLOSE \\n  CHNG \\n %CHNG \\n VOLUME \\n(shares)  \\\n",
       "0  12,035.90                   -  -160.35    -1.31    1,62,25,80,168   \n",
       "1   3,682.45                   -   298.60     8.82          4,34,925   \n",
       "2     242.50                   -    10.70     4.62       3,43,12,599   \n",
       "3  14,840.00                   -   592.65     4.16            28,767   \n",
       "4   1,311.00                   -    48.45     3.84         14,07,759   \n",
       "\n",
       "  VALUE \\n (₹ Crores)   52W H \\n  52W L \\n 30 D   %CHNG \\n 365 D % CHNG \\n -  \n",
       "0           64,436.13  13,842.60  6,252.10           -0.84              8.55  \n",
       "1              151.64   5,378.10  1,513.25          -21.05             74.01  \n",
       "2              821.44     244.80    158.61           13.57             21.81  \n",
       "3               41.22  18,100.00  5,540.10            1.44            110.45  \n",
       "4              182.66   1,647.00  1,040.00            0.77             -4.13  "
      ]
     },
     "execution_count": 4,
     "metadata": {},
     "output_type": "execute_result"
    }
   ],
   "source": [
    "df_niftyTotal=pd.read_csv(\"MW-NIFTY-TOTAL-MARKET-10-Feb-2025.csv\")\n",
    "df_niftyTotal.head()"
   ]
  },
  {
   "cell_type": "code",
   "execution_count": 6,
   "metadata": {},
   "outputs": [
    {
     "name": "stdout",
     "output_type": "stream",
     "text": [
      "['NIFTY TOTAL MARKET', 'GRWRHITECH', 'REDINGTON', 'NEULANDLAB', 'SIGNATURE', 'EMUDHRA', 'TARC', 'VARROC', 'AVANTIFEED', 'ANURAS', 'POWERMECH', 'ANANTRAJ', 'DOMS', 'BAJAJHLDNG', 'GULFOILLUB', 'FCL', 'ENGINERSIN', 'PNCINFRA', 'EPL', 'AKUMS', 'KOTAKBANK', 'PTCIL', 'DHANUKA', 'HATHWAY', 'WABAG', 'BERGEPAINT', 'UNOMINDA', 'HNDFDS', 'NIITMTS', 'BHARTIARTL', 'LATENTVIEW', 'BALRAMCHIN', 'JINDWORLD', 'ALLCARGO', 'PAGEIND', 'ESCORTS', 'BRITANNIA', 'ASKAUTOLTD', 'SOLARINDS', 'ISEC', 'TIMKEN', 'FLUOROCHEM', 'GAEL', 'SHAREINDIA', 'TATACONSUM', 'GREENPLY', 'GMMPFAUDLR', 'CUMMINSIND', 'HCLTECH', 'AMBER', 'UBL', 'TECHM', 'CGCL', 'CRAFTSMAN', 'DABUR', 'MAITHANALL', 'BATAINDIA', 'WIPRO', 'SHRIRAMFIN', 'PATANJALI', 'GOKEX', 'JBCHEPHARM', 'DCMSHRIRAM', 'ICICIBANK', 'DCXINDIA', 'TBOTEK', 'KIRLPNU', 'TCS', 'INDIAMART', 'GESHIP', 'PAISALO', '3MINDIA', 'ANANDRATHI', 'PTC', 'APOLLOHOSP', 'SONACOMS', 'SBCL', 'GODFRYPHLP', 'KEC', 'PIDILITIND', 'IRCTC', 'JUBLPHARMA', 'ASIANPAINT', 'NESTLEIND', 'OPTIEMUS', 'COCHINSHIP', 'RAMCOCEM', 'SBIN', 'BAJAJCON', 'TTML', 'JTLIND', 'INOXWIND', 'VINATIORGA', 'AMIORG', 'IRCON', 'GATEWAY', 'NCC', 'KSB', 'BHEL', 'ITDCEM', 'APLLTD', 'CAMPUS', 'HDFCLIFE', 'ADANIPORTS', 'ICICIGI', 'GNFC', 'CASTROLIND', 'HINDUNILVR', 'ZYDUSWELL', 'VMART', 'NAVINFLUOR', 'AIAENG', 'JINDALSTEL', 'METROBRAND', 'LT', 'BHARATFORG', 'ORIENTCEM', 'M&MFIN', 'NH', 'GOCOLORS', 'COROMANDEL', 'NAZARA', 'DEVYANI', 'BANKBARODA', 'KTKBANK', 'KIRLOSENG', 'EMAMILTD', 'AHLUCONT', 'BAJAJFINSV', 'SHREECEM', 'PIIND', 'GRSE', 'AAVAS', 'MANKIND', 'RAILTEL', 'POWERINDIA', 'JCHAC', 'FSL', 'BDL', 'SHRIPISTON', 'FEDERALBNK', 'JSFB', 'SANOFI', 'KPRMILL', 'PGHL', 'UNITDSPR', 'SEQUENT', 'NUVAMA', 'PETRONET', 'ABBOTINDIA', 'KPITTECH', 'ITC', 'DEN', 'CHENNPETRO', 'APOLLOTYRE', 'LTF', 'NAUKRI', 'CEATLTD', 'ARVINDFASN', 'TEGA', 'VGUARD', 'ADANIPOWER', 'AARTIPHARM', 'FINEORG', 'FIEMIND', 'ASTRAZEN', 'RRKABEL', 'GHCL', 'KSCL', 'JAMNAAUTO', 'EICHERMOT', 'MARICO', 'ASAHIINDIA', 'LTFOODS', 'TATAELXSI', 'TATATECH', 'SRF', 'INDUSINDBK', 'INDIGO', 'VENKEYS', 'GREENPANEL', 'SUNPHARMA', 'MAHLIFE', 'SUPRAJIT', 'HDFCBANK', 'CANBK', 'DMART', 'RELIANCE', 'GOPAL', 'ELECON', 'SANGHIIND', 'AUROPHARMA', 'BBTC', 'TATAINVEST', 'TITAGARH', 'TRIVENI', 'PNB', 'NSLNISP', 'LICI', 'KPIL', 'KESORAMIND', 'RENUKA', 'RAINBOW', 'JSWINFRA', 'MANYAVAR', 'HAL', 'HAVELLS', 'SAREGAMA', 'UPL', 'CIPLA', 'JUBLFOOD', 'BEL', 'ROUTE', 'MUTHOOTMF', 'JLHL', 'ZFCVINDIA', 'ULTRACEMCO', 'JISLJALEQS', 'TANLA', 'HINDPETRO', 'DELTACORP', 'AXISBANK', 'AMBUJACEM', 'INDIACEM', 'JPPOWER', 'MARUTI', 'HINDZINC', 'PVRINOX', 'BAJAJ-AUTO', 'FINPIPE', 'WELSPUNLIV', 'MMTC', 'INFY', 'SJVN', 'SCHNEIDER', 'MAZDOCK', 'PHOENIXLTD', 'GPIL', 'ABCAPITAL', 'DCAL', 'ATUL', 'SSWL', 'RAJESHEXPO', 'BOSCHLTD', 'GMRAIRPORT', 'CESC', 'SUZLON', 'RBLBANK', 'IFBIND', 'GODREJCP', 'INDIASHLTR', 'DRREDDY', 'ASHOKLEY', 'COLPAL', 'ALIVUS', 'DALBHARAT', 'OBEROIRLTY', 'AFFLE', 'GRASIM', 'IOC', 'SYRMA', 'SARDAEN', 'ASTERDM', 'JKCEMENT', 'KNRCON', 'CUB', 'ALKYLAMINE', 'OLECTRA', 'VAIBHAVGBL', 'VOLTAMP', 'MAHABANK', 'CELLO', 'NHPC', 'VOLTAS', 'LALPATHLAB', 'BSE', 'VESUVIUS', 'CHAMBLFERT', 'SYNGENE', 'EXIDEIND', 'TIINDIA', 'HARSHA', 'TRITURBINE', 'ABREL', 'GUJALKALI', 'PATELENG', 'TATAMOTORS', 'DBREALTY', 'BAJAJELEC', 'CYIENT', 'KAJARIACER', 'JAICORPLTD', 'RBA', 'CENTRALBK', 'MANINFRA', 'HEROMOTOCO', 'COFORGE', 'RAMKY', 'ASTRAL', 'LTTS', 'SPLPETRO', 'MRF', 'RELINFRA', 'ALOKINDS', 'BLUEJET', 'TEJASNET', 'NYKAA', 'PARAS', 'HDFCAMC', 'EIHOTEL', 'SPARC', 'KRBL', 'IOB', 'LUPIN', 'SBILIFE', 'HEG', 'ECLERX', 'MTARTECH', 'DCBBANK', 'ROLEXRINGS', 'IRFC', 'SKFINDIA', 'GILLETTE', 'SBFC', 'IDFCFIRSTB', 'HCG', 'GAIL', 'SOUTHBANK', 'PRESTIGE', 'LANDMARK', 'SWSOLAR', 'IGL', 'IIFL', 'BPCL', 'GODIGIT', 'ENDURANCE', 'KOLTEPATIL', 'CONCOR', 'BASF', 'UCOBANK', 'JSL', 'BEML', 'INOXINDIA', 'BSOFT', 'JYOTHYLAB', 'POLYPLEX', 'MOTHERSON', 'PRINCEPIPE', 'INDHOTEL', 'ZENSARTECH', 'CHEMPLASTS', 'JKIL', 'HINDALCO', 'VBL', 'NTPC', 'OFSS', 'JAIBALAJI', 'LXCHEM', 'COALINDIA', 'EASEMYTRIP', 'APLAPOLLO', 'PRICOLLTD', 'JKTYRE', 'RITES', 'MRPL', 'BALKRISIND', 'ACC', 'ISGEC', 'INDIGOPNTS', 'CSBBANK', 'MUTHOOTFIN', 'AUBANK', 'BANKINDIA', 'CIGNITITEC', 'EQUITASBNK', 'SCHAEFFLER', 'INDGN', 'GLAND', 'HEIDELBERG', 'LMW', 'MFSL', 'CONFIPET', 'FINCABLES', 'M&M', 'JSWENERGY', 'SFL', 'SPANDANA', 'MIDHANI', 'GSFC', 'JSWSTEEL', 'LEMONTREE', 'KARURVYSYA', 'RATNAMANI', 'TRIDENT', 'CHALET', 'VTL', 'CRISIL', 'ABB', 'ADANIENT', 'AARTIIND', 'TATACOMM', 'MASTEK', 'ADVENZYMES', 'TORNTPHARM', 'SBICARD', 'MSUMI', 'BAJFINANCE', 'HAPPSTMNDS', 'ENTERO', 'CCL', 'STLTECH', 'TVSMOTOR', 'TATACHEM', 'IREDA', 'RAYMOND', 'NESCO', 'JWL', 'BANDHANBNK', 'DIXON', 'VENUSPIPES', 'GLENMARK', 'METROPOLIS', 'VEEDOL', 'TIRUMALCHM', 'ICICIPRULI', 'IONEXCHANG', 'TATAPOWER', 'POONAWALLA', 'PEL', 'ELGIEQUIP', 'BIOCON', 'JUSTDIAL', 'ONGC', 'ACE', 'BALMLAWRIE', 'GRANULES', 'BAYERCROP', 'GVT&D', 'QUESS', 'LAURUSLABS', 'FDC', 'NETWORK18', 'RALLIS', 'PPLPHARMA', 'JIOFIN', 'MSTCLTD', 'MGL', 'J&KBANK', 'RADICO', 'SULA', 'CERA', 'YESBANK', 'CREDITACC', 'NEOGEN', 'BOMDYEING', 'NBCC', 'THOMASCOOK', 'PARADEEP', 'UTKARSHBNK', 'MANAPPURAM', 'APTUS', 'ANGELONE', 'SIEMENS', 'IRB', 'IFCI', 'HGINFRA', 'DEEPAKNTR', 'HOMEFIRST', 'CHOLAFIN', 'JUBLINGREA', 'SUPREMEIND', 'REDTAPE', 'HFCL', 'MOTILALOFS', 'CLEAN', 'VSTIND', 'SHYAMMETL', 'UNIONBANK', 'DATAPATTNS', 'ARE&M', 'NATCOPHARM', 'NUVOCO', 'SUBROS', 'PRAJIND', 'MAHSEAMLES', 'CDSL', 'GREAVESCOT', 'MEDPLUS', 'MARKSANS', 'PGHH', '360ONE', 'SANSERA', 'NIACL', 'RESPONIND', 'BEPL', 'MPHASIS', 'GRAVITA', 'WONDERLA', 'ELECTCAST', 'LICHSGFIN', 'BLUESTARCO', 'PFIZER', 'JTEKTINDIA', 'ZYDUSLIFE', 'RELIGARE', 'GPPL', 'LUXIND', 'IMAGICAA', 'IEX', 'PNBHOUSING', 'TITAN', 'KEI', 'GSPL', 'JKPAPER', 'MEDANTA', 'TIMETECHNO', 'SUNFLAG', 'HERITGFOOD', 'ZOMATO', 'AARTIDRUGS', 'GRINFRA', 'CYIENTDLM', 'SUNDARMFIN', 'LINDEINDIA', 'LTIM', 'KALYANKJIL', 'ZENTEC', 'KIRLOSBROS', 'PRUDENT', 'JINDALSAW', 'MAPMYINDIA', 'GABRIEL', 'INTELLECT', 'BLUEDART', 'KIMS', 'CHOLAHLDNG', 'MOIL', 'GRAPHITE', 'IDEAFORGE', 'BLS', 'NOCIL', 'POLYMED', 'IPL', 'HONASA', 'WESTLIFE', 'KALAMANDIR', 'RHIM', 'INDUSTOWER', 'NFL', 'BAJAJHIND', 'EMCURE', 'MHRIL', 'UTIAMC', 'SYMPHONY', 'HAPPYFORGE', 'HINDCOPPER', 'SUDARSCHEM', 'GANESHHOUC', 'STAR', 'TATASTEEL', 'KANSAINER', 'RTNINDIA', 'HUDCO', 'ROSSARI', 'HONAUT', 'HEMIPROP', 'BIKAJI', 'TCIEXP', 'CANFINHOME', 'GODREJAGRO', 'DISHTV', 'DIVISLAB', 'POWERGRID', 'WELCORP', 'TIIL', 'SHARDAMOTR', 'NAM-INDIA', 'MAHLOG', 'ABSLAMC', 'VIJAYA', 'TVSSCS', 'GLAXO', 'WELENT', 'AEGISLOG', 'INDIAGLYCO', 'EVEREADY', 'AWL', 'ORISSAMINE', 'RATEGAIN', 'SAPPHIRE', 'AETHER', 'PFC', 'YATHARTH', 'HSCL', 'CIEINDIA', 'RAIN', 'INOXGREEN', 'GODREJPROP', 'HINDWAREAP', 'SANDUMA', 'IIFLCAPS', 'KSL', 'IDBI', 'VIPIND', 'BIRLACORPN', 'AJANTPHARM', 'FORTIS', 'BECTORFOOD', 'ADANIGREEN', 'ESAFSFB', 'LLOYDSME', 'TEAMLEASE', 'DBL', 'IMFA', 'LLOYDSENGG', 'ATGL', 'BBL', 'JBMA', 'HINDOILEXP', 'GRINDWELL', 'INDIANB', 'BALAMINES', 'IDEA', 'DLF', 'RKFORGE', 'ORIENTELEC', 'RVNL', 'STARHEALTH', 'NLCINDIA', 'EPIGRAL', 'CAMS', 'TEXRAIL', 'NEWGEN', 'PCBL', 'CHOICEIN', 'BORORENEW', 'ITI', 'EDELWEISS', 'GUJGASLTD', 'POLICYBZR', 'AGI', 'MCX', 'POLYCAB', 'SAMHI', 'ASTRAMICRO', 'THERMAX', 'HBLENGINE', 'FACT', 'SUNDRMFAST', 'DEEPAKFERT', 'PERSISTENT', 'KAYNES', 'INGERRAND', 'HCC', 'RCF', 'NMDC', 'EMBDL', 'WSTCSTPAPR', 'DODLA', 'ICIL', 'ETHOSLTD', 'AADHARHFC', 'FORCEMOT', 'GODREJIND', 'TORNTPOWER', 'SUVENPHAR', 'SUNTV', 'BRIGADE', 'MINDACORP', 'IPCALAB', 'DATAMATICS', 'ZEEL', 'ADANIENSOL', 'AVALON', 'NAVA', 'CGPOWER', 'RECLTD', 'PAYTM', 'SWANENERGY', 'EIDPARRY', 'WHIRLPOOL', 'CMSINFO', 'GICRE', 'INFIBEAM', 'VEDL', 'SANGHVIMOV', 'SAMMAANCAP', 'USHAMART', 'ABFRL', 'GMDCLTD', 'TRENT', 'SURYAROSNI', 'SONATSOFTW', 'STARCEMENT', 'TIPSMUSIC', 'CROMPTON', 'JKLAKSHMI', 'TECHNOE', 'ASHOKA', 'LODHA', 'CAPLIPOINT', 'SAIL', 'CENTURYPLY', 'NATIONALUM', 'CONCORDBIO', 'ERIS', 'DHANI', 'SENCO', 'WOCKPHARMA', 'PURVA', 'SUNTECK', 'OIL', 'CARTRADE', 'JYOTICNC', 'DYNAMATECH', 'PGEL', 'AZAD', 'CARBORUNIV', 'DREAMFOLKS', 'SUMICHEM', 'APARINDS', 'JUNIPER', 'ACI', 'IXIGO', 'KFINTECH', 'HIKAL', 'DELHIVERY', 'SCI', 'FIVESTAR', 'PARKHOTELS', 'MAXHEALTH', 'NRBBEARING', 'SUPRIYA', 'SOBHA', 'SHILPAMED', 'BHARTIHEXA', 'TDPOWERSYS', 'ALKEM', 'UJJIVANSFB', 'ARVIND', 'SAFARI', 'ORCHPHARMA', 'JMFINANCIL', 'FUSION', 'EMIL', 'NETWEB', 'STYLAMIND', 'SINDHUTRAD', 'BOROLTD', 'TI', 'BANCOINDIA']\n"
     ]
    }
   ],
   "source": [
    "niftyTotalSymbols=list(df_niftyTotal[\"SYMBOL \\n\"])\n",
    "niftTotalSymbols=niftyTotalSymbols[1:] #removing NIFTY Total symbol\n",
    "print(niftyTotalSymbols)"
   ]
  },
  {
   "cell_type": "code",
   "execution_count": 7,
   "metadata": {},
   "outputs": [
    {
     "name": "stdout",
     "output_type": "stream",
     "text": [
      "['NIFTY TOTAL MARKET.ns', 'GRWRHITECH.ns', 'REDINGTON.ns', 'NEULANDLAB.ns', 'SIGNATURE.ns', 'EMUDHRA.ns', 'TARC.ns', 'VARROC.ns', 'AVANTIFEED.ns', 'ANURAS.ns', 'POWERMECH.ns', 'ANANTRAJ.ns', 'DOMS.ns', 'BAJAJHLDNG.ns', 'GULFOILLUB.ns', 'FCL.ns', 'ENGINERSIN.ns', 'PNCINFRA.ns', 'EPL.ns', 'AKUMS.ns', 'KOTAKBANK.ns', 'PTCIL.ns', 'DHANUKA.ns', 'HATHWAY.ns', 'WABAG.ns', 'BERGEPAINT.ns', 'UNOMINDA.ns', 'HNDFDS.ns', 'NIITMTS.ns', 'BHARTIARTL.ns', 'LATENTVIEW.ns', 'BALRAMCHIN.ns', 'JINDWORLD.ns', 'ALLCARGO.ns', 'PAGEIND.ns', 'ESCORTS.ns', 'BRITANNIA.ns', 'ASKAUTOLTD.ns', 'SOLARINDS.ns', 'ISEC.ns', 'TIMKEN.ns', 'FLUOROCHEM.ns', 'GAEL.ns', 'SHAREINDIA.ns', 'TATACONSUM.ns', 'GREENPLY.ns', 'GMMPFAUDLR.ns', 'CUMMINSIND.ns', 'HCLTECH.ns', 'AMBER.ns', 'UBL.ns', 'TECHM.ns', 'CGCL.ns', 'CRAFTSMAN.ns', 'DABUR.ns', 'MAITHANALL.ns', 'BATAINDIA.ns', 'WIPRO.ns', 'SHRIRAMFIN.ns', 'PATANJALI.ns', 'GOKEX.ns', 'JBCHEPHARM.ns', 'DCMSHRIRAM.ns', 'ICICIBANK.ns', 'DCXINDIA.ns', 'TBOTEK.ns', 'KIRLPNU.ns', 'TCS.ns', 'INDIAMART.ns', 'GESHIP.ns', 'PAISALO.ns', '3MINDIA.ns', 'ANANDRATHI.ns', 'PTC.ns', 'APOLLOHOSP.ns', 'SONACOMS.ns', 'SBCL.ns', 'GODFRYPHLP.ns', 'KEC.ns', 'PIDILITIND.ns', 'IRCTC.ns', 'JUBLPHARMA.ns', 'ASIANPAINT.ns', 'NESTLEIND.ns', 'OPTIEMUS.ns', 'COCHINSHIP.ns', 'RAMCOCEM.ns', 'SBIN.ns', 'BAJAJCON.ns', 'TTML.ns', 'JTLIND.ns', 'INOXWIND.ns', 'VINATIORGA.ns', 'AMIORG.ns', 'IRCON.ns', 'GATEWAY.ns', 'NCC.ns', 'KSB.ns', 'BHEL.ns', 'ITDCEM.ns', 'APLLTD.ns', 'CAMPUS.ns', 'HDFCLIFE.ns', 'ADANIPORTS.ns', 'ICICIGI.ns', 'GNFC.ns', 'CASTROLIND.ns', 'HINDUNILVR.ns', 'ZYDUSWELL.ns', 'VMART.ns', 'NAVINFLUOR.ns', 'AIAENG.ns', 'JINDALSTEL.ns', 'METROBRAND.ns', 'LT.ns', 'BHARATFORG.ns', 'ORIENTCEM.ns', 'M&MFIN.ns', 'NH.ns', 'GOCOLORS.ns', 'COROMANDEL.ns', 'NAZARA.ns', 'DEVYANI.ns', 'BANKBARODA.ns', 'KTKBANK.ns', 'KIRLOSENG.ns', 'EMAMILTD.ns', 'AHLUCONT.ns', 'BAJAJFINSV.ns', 'SHREECEM.ns', 'PIIND.ns', 'GRSE.ns', 'AAVAS.ns', 'MANKIND.ns', 'RAILTEL.ns', 'POWERINDIA.ns', 'JCHAC.ns', 'FSL.ns', 'BDL.ns', 'SHRIPISTON.ns', 'FEDERALBNK.ns', 'JSFB.ns', 'SANOFI.ns', 'KPRMILL.ns', 'PGHL.ns', 'UNITDSPR.ns', 'SEQUENT.ns', 'NUVAMA.ns', 'PETRONET.ns', 'ABBOTINDIA.ns', 'KPITTECH.ns', 'ITC.ns', 'DEN.ns', 'CHENNPETRO.ns', 'APOLLOTYRE.ns', 'LTF.ns', 'NAUKRI.ns', 'CEATLTD.ns', 'ARVINDFASN.ns', 'TEGA.ns', 'VGUARD.ns', 'ADANIPOWER.ns', 'AARTIPHARM.ns', 'FINEORG.ns', 'FIEMIND.ns', 'ASTRAZEN.ns', 'RRKABEL.ns', 'GHCL.ns', 'KSCL.ns', 'JAMNAAUTO.ns', 'EICHERMOT.ns', 'MARICO.ns', 'ASAHIINDIA.ns', 'LTFOODS.ns', 'TATAELXSI.ns', 'TATATECH.ns', 'SRF.ns', 'INDUSINDBK.ns', 'INDIGO.ns', 'VENKEYS.ns', 'GREENPANEL.ns', 'SUNPHARMA.ns', 'MAHLIFE.ns', 'SUPRAJIT.ns', 'HDFCBANK.ns', 'CANBK.ns', 'DMART.ns', 'RELIANCE.ns', 'GOPAL.ns', 'ELECON.ns', 'SANGHIIND.ns', 'AUROPHARMA.ns', 'BBTC.ns', 'TATAINVEST.ns', 'TITAGARH.ns', 'TRIVENI.ns', 'PNB.ns', 'NSLNISP.ns', 'LICI.ns', 'KPIL.ns', 'KESORAMIND.ns', 'RENUKA.ns', 'RAINBOW.ns', 'JSWINFRA.ns', 'MANYAVAR.ns', 'HAL.ns', 'HAVELLS.ns', 'SAREGAMA.ns', 'UPL.ns', 'CIPLA.ns', 'JUBLFOOD.ns', 'BEL.ns', 'ROUTE.ns', 'MUTHOOTMF.ns', 'JLHL.ns', 'ZFCVINDIA.ns', 'ULTRACEMCO.ns', 'JISLJALEQS.ns', 'TANLA.ns', 'HINDPETRO.ns', 'DELTACORP.ns', 'AXISBANK.ns', 'AMBUJACEM.ns', 'INDIACEM.ns', 'JPPOWER.ns', 'MARUTI.ns', 'HINDZINC.ns', 'PVRINOX.ns', 'BAJAJ-AUTO.ns', 'FINPIPE.ns', 'WELSPUNLIV.ns', 'MMTC.ns', 'INFY.ns', 'SJVN.ns', 'SCHNEIDER.ns', 'MAZDOCK.ns', 'PHOENIXLTD.ns', 'GPIL.ns', 'ABCAPITAL.ns', 'DCAL.ns', 'ATUL.ns', 'SSWL.ns', 'RAJESHEXPO.ns', 'BOSCHLTD.ns', 'GMRAIRPORT.ns', 'CESC.ns', 'SUZLON.ns', 'RBLBANK.ns', 'IFBIND.ns', 'GODREJCP.ns', 'INDIASHLTR.ns', 'DRREDDY.ns', 'ASHOKLEY.ns', 'COLPAL.ns', 'ALIVUS.ns', 'DALBHARAT.ns', 'OBEROIRLTY.ns', 'AFFLE.ns', 'GRASIM.ns', 'IOC.ns', 'SYRMA.ns', 'SARDAEN.ns', 'ASTERDM.ns', 'JKCEMENT.ns', 'KNRCON.ns', 'CUB.ns', 'ALKYLAMINE.ns', 'OLECTRA.ns', 'VAIBHAVGBL.ns', 'VOLTAMP.ns', 'MAHABANK.ns', 'CELLO.ns', 'NHPC.ns', 'VOLTAS.ns', 'LALPATHLAB.ns', 'BSE.ns', 'VESUVIUS.ns', 'CHAMBLFERT.ns', 'SYNGENE.ns', 'EXIDEIND.ns', 'TIINDIA.ns', 'HARSHA.ns', 'TRITURBINE.ns', 'ABREL.ns', 'GUJALKALI.ns', 'PATELENG.ns', 'TATAMOTORS.ns', 'DBREALTY.ns', 'BAJAJELEC.ns', 'CYIENT.ns', 'KAJARIACER.ns', 'JAICORPLTD.ns', 'RBA.ns', 'CENTRALBK.ns', 'MANINFRA.ns', 'HEROMOTOCO.ns', 'COFORGE.ns', 'RAMKY.ns', 'ASTRAL.ns', 'LTTS.ns', 'SPLPETRO.ns', 'MRF.ns', 'RELINFRA.ns', 'ALOKINDS.ns', 'BLUEJET.ns', 'TEJASNET.ns', 'NYKAA.ns', 'PARAS.ns', 'HDFCAMC.ns', 'EIHOTEL.ns', 'SPARC.ns', 'KRBL.ns', 'IOB.ns', 'LUPIN.ns', 'SBILIFE.ns', 'HEG.ns', 'ECLERX.ns', 'MTARTECH.ns', 'DCBBANK.ns', 'ROLEXRINGS.ns', 'IRFC.ns', 'SKFINDIA.ns', 'GILLETTE.ns', 'SBFC.ns', 'IDFCFIRSTB.ns', 'HCG.ns', 'GAIL.ns', 'SOUTHBANK.ns', 'PRESTIGE.ns', 'LANDMARK.ns', 'SWSOLAR.ns', 'IGL.ns', 'IIFL.ns', 'BPCL.ns', 'GODIGIT.ns', 'ENDURANCE.ns', 'KOLTEPATIL.ns', 'CONCOR.ns', 'BASF.ns', 'UCOBANK.ns', 'JSL.ns', 'BEML.ns', 'INOXINDIA.ns', 'BSOFT.ns', 'JYOTHYLAB.ns', 'POLYPLEX.ns', 'MOTHERSON.ns', 'PRINCEPIPE.ns', 'INDHOTEL.ns', 'ZENSARTECH.ns', 'CHEMPLASTS.ns', 'JKIL.ns', 'HINDALCO.ns', 'VBL.ns', 'NTPC.ns', 'OFSS.ns', 'JAIBALAJI.ns', 'LXCHEM.ns', 'COALINDIA.ns', 'EASEMYTRIP.ns', 'APLAPOLLO.ns', 'PRICOLLTD.ns', 'JKTYRE.ns', 'RITES.ns', 'MRPL.ns', 'BALKRISIND.ns', 'ACC.ns', 'ISGEC.ns', 'INDIGOPNTS.ns', 'CSBBANK.ns', 'MUTHOOTFIN.ns', 'AUBANK.ns', 'BANKINDIA.ns', 'CIGNITITEC.ns', 'EQUITASBNK.ns', 'SCHAEFFLER.ns', 'INDGN.ns', 'GLAND.ns', 'HEIDELBERG.ns', 'LMW.ns', 'MFSL.ns', 'CONFIPET.ns', 'FINCABLES.ns', 'M&M.ns', 'JSWENERGY.ns', 'SFL.ns', 'SPANDANA.ns', 'MIDHANI.ns', 'GSFC.ns', 'JSWSTEEL.ns', 'LEMONTREE.ns', 'KARURVYSYA.ns', 'RATNAMANI.ns', 'TRIDENT.ns', 'CHALET.ns', 'VTL.ns', 'CRISIL.ns', 'ABB.ns', 'ADANIENT.ns', 'AARTIIND.ns', 'TATACOMM.ns', 'MASTEK.ns', 'ADVENZYMES.ns', 'TORNTPHARM.ns', 'SBICARD.ns', 'MSUMI.ns', 'BAJFINANCE.ns', 'HAPPSTMNDS.ns', 'ENTERO.ns', 'CCL.ns', 'STLTECH.ns', 'TVSMOTOR.ns', 'TATACHEM.ns', 'IREDA.ns', 'RAYMOND.ns', 'NESCO.ns', 'JWL.ns', 'BANDHANBNK.ns', 'DIXON.ns', 'VENUSPIPES.ns', 'GLENMARK.ns', 'METROPOLIS.ns', 'VEEDOL.ns', 'TIRUMALCHM.ns', 'ICICIPRULI.ns', 'IONEXCHANG.ns', 'TATAPOWER.ns', 'POONAWALLA.ns', 'PEL.ns', 'ELGIEQUIP.ns', 'BIOCON.ns', 'JUSTDIAL.ns', 'ONGC.ns', 'ACE.ns', 'BALMLAWRIE.ns', 'GRANULES.ns', 'BAYERCROP.ns', 'GVT&D.ns', 'QUESS.ns', 'LAURUSLABS.ns', 'FDC.ns', 'NETWORK18.ns', 'RALLIS.ns', 'PPLPHARMA.ns', 'JIOFIN.ns', 'MSTCLTD.ns', 'MGL.ns', 'J&KBANK.ns', 'RADICO.ns', 'SULA.ns', 'CERA.ns', 'YESBANK.ns', 'CREDITACC.ns', 'NEOGEN.ns', 'BOMDYEING.ns', 'NBCC.ns', 'THOMASCOOK.ns', 'PARADEEP.ns', 'UTKARSHBNK.ns', 'MANAPPURAM.ns', 'APTUS.ns', 'ANGELONE.ns', 'SIEMENS.ns', 'IRB.ns', 'IFCI.ns', 'HGINFRA.ns', 'DEEPAKNTR.ns', 'HOMEFIRST.ns', 'CHOLAFIN.ns', 'JUBLINGREA.ns', 'SUPREMEIND.ns', 'REDTAPE.ns', 'HFCL.ns', 'MOTILALOFS.ns', 'CLEAN.ns', 'VSTIND.ns', 'SHYAMMETL.ns', 'UNIONBANK.ns', 'DATAPATTNS.ns', 'ARE&M.ns', 'NATCOPHARM.ns', 'NUVOCO.ns', 'SUBROS.ns', 'PRAJIND.ns', 'MAHSEAMLES.ns', 'CDSL.ns', 'GREAVESCOT.ns', 'MEDPLUS.ns', 'MARKSANS.ns', 'PGHH.ns', '360ONE.ns', 'SANSERA.ns', 'NIACL.ns', 'RESPONIND.ns', 'BEPL.ns', 'MPHASIS.ns', 'GRAVITA.ns', 'WONDERLA.ns', 'ELECTCAST.ns', 'LICHSGFIN.ns', 'BLUESTARCO.ns', 'PFIZER.ns', 'JTEKTINDIA.ns', 'ZYDUSLIFE.ns', 'RELIGARE.ns', 'GPPL.ns', 'LUXIND.ns', 'IMAGICAA.ns', 'IEX.ns', 'PNBHOUSING.ns', 'TITAN.ns', 'KEI.ns', 'GSPL.ns', 'JKPAPER.ns', 'MEDANTA.ns', 'TIMETECHNO.ns', 'SUNFLAG.ns', 'HERITGFOOD.ns', 'ZOMATO.ns', 'AARTIDRUGS.ns', 'GRINFRA.ns', 'CYIENTDLM.ns', 'SUNDARMFIN.ns', 'LINDEINDIA.ns', 'LTIM.ns', 'KALYANKJIL.ns', 'ZENTEC.ns', 'KIRLOSBROS.ns', 'PRUDENT.ns', 'JINDALSAW.ns', 'MAPMYINDIA.ns', 'GABRIEL.ns', 'INTELLECT.ns', 'BLUEDART.ns', 'KIMS.ns', 'CHOLAHLDNG.ns', 'MOIL.ns', 'GRAPHITE.ns', 'IDEAFORGE.ns', 'BLS.ns', 'NOCIL.ns', 'POLYMED.ns', 'IPL.ns', 'HONASA.ns', 'WESTLIFE.ns', 'KALAMANDIR.ns', 'RHIM.ns', 'INDUSTOWER.ns', 'NFL.ns', 'BAJAJHIND.ns', 'EMCURE.ns', 'MHRIL.ns', 'UTIAMC.ns', 'SYMPHONY.ns', 'HAPPYFORGE.ns', 'HINDCOPPER.ns', 'SUDARSCHEM.ns', 'GANESHHOUC.ns', 'STAR.ns', 'TATASTEEL.ns', 'KANSAINER.ns', 'RTNINDIA.ns', 'HUDCO.ns', 'ROSSARI.ns', 'HONAUT.ns', 'HEMIPROP.ns', 'BIKAJI.ns', 'TCIEXP.ns', 'CANFINHOME.ns', 'GODREJAGRO.ns', 'DISHTV.ns', 'DIVISLAB.ns', 'POWERGRID.ns', 'WELCORP.ns', 'TIIL.ns', 'SHARDAMOTR.ns', 'NAM-INDIA.ns', 'MAHLOG.ns', 'ABSLAMC.ns', 'VIJAYA.ns', 'TVSSCS.ns', 'GLAXO.ns', 'WELENT.ns', 'AEGISLOG.ns', 'INDIAGLYCO.ns', 'EVEREADY.ns', 'AWL.ns', 'ORISSAMINE.ns', 'RATEGAIN.ns', 'SAPPHIRE.ns', 'AETHER.ns', 'PFC.ns', 'YATHARTH.ns', 'HSCL.ns', 'CIEINDIA.ns', 'RAIN.ns', 'INOXGREEN.ns', 'GODREJPROP.ns', 'HINDWAREAP.ns', 'SANDUMA.ns', 'IIFLCAPS.ns', 'KSL.ns', 'IDBI.ns', 'VIPIND.ns', 'BIRLACORPN.ns', 'AJANTPHARM.ns', 'FORTIS.ns', 'BECTORFOOD.ns', 'ADANIGREEN.ns', 'ESAFSFB.ns', 'LLOYDSME.ns', 'TEAMLEASE.ns', 'DBL.ns', 'IMFA.ns', 'LLOYDSENGG.ns', 'ATGL.ns', 'BBL.ns', 'JBMA.ns', 'HINDOILEXP.ns', 'GRINDWELL.ns', 'INDIANB.ns', 'BALAMINES.ns', 'IDEA.ns', 'DLF.ns', 'RKFORGE.ns', 'ORIENTELEC.ns', 'RVNL.ns', 'STARHEALTH.ns', 'NLCINDIA.ns', 'EPIGRAL.ns', 'CAMS.ns', 'TEXRAIL.ns', 'NEWGEN.ns', 'PCBL.ns', 'CHOICEIN.ns', 'BORORENEW.ns', 'ITI.ns', 'EDELWEISS.ns', 'GUJGASLTD.ns', 'POLICYBZR.ns', 'AGI.ns', 'MCX.ns', 'POLYCAB.ns', 'SAMHI.ns', 'ASTRAMICRO.ns', 'THERMAX.ns', 'HBLENGINE.ns', 'FACT.ns', 'SUNDRMFAST.ns', 'DEEPAKFERT.ns', 'PERSISTENT.ns', 'KAYNES.ns', 'INGERRAND.ns', 'HCC.ns', 'RCF.ns', 'NMDC.ns', 'EMBDL.ns', 'WSTCSTPAPR.ns', 'DODLA.ns', 'ICIL.ns', 'ETHOSLTD.ns', 'AADHARHFC.ns', 'FORCEMOT.ns', 'GODREJIND.ns', 'TORNTPOWER.ns', 'SUVENPHAR.ns', 'SUNTV.ns', 'BRIGADE.ns', 'MINDACORP.ns', 'IPCALAB.ns', 'DATAMATICS.ns', 'ZEEL.ns', 'ADANIENSOL.ns', 'AVALON.ns', 'NAVA.ns', 'CGPOWER.ns', 'RECLTD.ns', 'PAYTM.ns', 'SWANENERGY.ns', 'EIDPARRY.ns', 'WHIRLPOOL.ns', 'CMSINFO.ns', 'GICRE.ns', 'INFIBEAM.ns', 'VEDL.ns', 'SANGHVIMOV.ns', 'SAMMAANCAP.ns', 'USHAMART.ns', 'ABFRL.ns', 'GMDCLTD.ns', 'TRENT.ns', 'SURYAROSNI.ns', 'SONATSOFTW.ns', 'STARCEMENT.ns', 'TIPSMUSIC.ns', 'CROMPTON.ns', 'JKLAKSHMI.ns', 'TECHNOE.ns', 'ASHOKA.ns', 'LODHA.ns', 'CAPLIPOINT.ns', 'SAIL.ns', 'CENTURYPLY.ns', 'NATIONALUM.ns', 'CONCORDBIO.ns', 'ERIS.ns', 'DHANI.ns', 'SENCO.ns', 'WOCKPHARMA.ns', 'PURVA.ns', 'SUNTECK.ns', 'OIL.ns', 'CARTRADE.ns', 'JYOTICNC.ns', 'DYNAMATECH.ns', 'PGEL.ns', 'AZAD.ns', 'CARBORUNIV.ns', 'DREAMFOLKS.ns', 'SUMICHEM.ns', 'APARINDS.ns', 'JUNIPER.ns', 'ACI.ns', 'IXIGO.ns', 'KFINTECH.ns', 'HIKAL.ns', 'DELHIVERY.ns', 'SCI.ns', 'FIVESTAR.ns', 'PARKHOTELS.ns', 'MAXHEALTH.ns', 'NRBBEARING.ns', 'SUPRIYA.ns', 'SOBHA.ns', 'SHILPAMED.ns', 'BHARTIHEXA.ns', 'TDPOWERSYS.ns', 'ALKEM.ns', 'UJJIVANSFB.ns', 'ARVIND.ns', 'SAFARI.ns', 'ORCHPHARMA.ns', 'JMFINANCIL.ns', 'FUSION.ns', 'EMIL.ns', 'NETWEB.ns', 'STYLAMIND.ns', 'SINDHUTRAD.ns', 'BOROLTD.ns', 'TI.ns', 'BANCOINDIA.ns']\n"
     ]
    }
   ],
   "source": [
    "#converting every stock name as .NSE to get yahoo finance info\n",
    "for i in range(len(niftyTotalSymbols)):\n",
    "    niftyTotalSymbols[i]+='.ns'\n",
    "    \n",
    "print(niftyTotalSymbols)  "
   ]
  },
  {
   "cell_type": "code",
   "execution_count": 8,
   "metadata": {},
   "outputs": [],
   "source": [
    "#checking the stock details\n",
    "def get_info(ticker):\n",
    "    stock=yf.Ticker(ticker)\n",
    "    print(stock.info)"
   ]
  },
  {
   "cell_type": "code",
   "execution_count": 9,
   "metadata": {},
   "outputs": [],
   "source": [
    "# for i in nifty500Symbols:\n",
    "#     print(get_info(i))"
   ]
  },
  {
   "cell_type": "code",
   "execution_count": 10,
   "metadata": {},
   "outputs": [],
   "source": [
    "def save_csv(stock_name):\n",
    "    stock=yf.Ticker(stock_name)\n",
    "    df=stock.history(period=\"20y\")[\"Close\"]\n",
    "    file=stock_name.replace(\".\",\"_\")+\".csv\"\n",
    "    df.to_csv(file)"
   ]
  },
  {
   "cell_type": "code",
   "execution_count": 12,
   "metadata": {},
   "outputs": [
    {
     "name": "stderr",
     "output_type": "stream",
     "text": [
      "$NIFTY TOTAL MARKET.NS: possibly delisted; no price data found  (period=20y) (Yahoo error = \"No data found, symbol may be delisted\")\n",
      "Could not get exchangeTimezoneName for ticker 'EASEMYTRIP.NS' reason: 'chart'\n",
      "$EASEMYTRIP.NS: possibly delisted; no price data found  (period=20y)\n"
     ]
    }
   ],
   "source": [
    "for stock in niftyTotalSymbols:\n",
    "    save_csv(stock)"
   ]
  }
 ],
 "metadata": {
  "kernelspec": {
   "display_name": "Python 3",
   "language": "python",
   "name": "python3"
  },
  "language_info": {
   "codemirror_mode": {
    "name": "ipython",
    "version": 3
   },
   "file_extension": ".py",
   "mimetype": "text/x-python",
   "name": "python",
   "nbconvert_exporter": "python",
   "pygments_lexer": "ipython3",
   "version": "3.12.0"
  }
 },
 "nbformat": 4,
 "nbformat_minor": 2
}
