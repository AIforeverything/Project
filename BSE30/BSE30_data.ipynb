{
 "cells": [
  {
   "cell_type": "code",
   "execution_count": 1,
   "metadata": {},
   "outputs": [],
   "source": [
    "# %pip install -r requirements.txt"
   ]
  },
  {
   "cell_type": "code",
   "execution_count": 1,
   "metadata": {},
   "outputs": [],
   "source": [
    "import datetime as dt\n",
    "import pandas as pd\n",
    "import pandas_datareader as pdr\n",
    "import datetime as dt\n",
    "import time\n",
    "import yfinance as yf"
   ]
  },
  {
   "cell_type": "code",
   "execution_count": 10,
   "metadata": {},
   "outputs": [
    {
     "data": {
      "text/html": [
       "<div>\n",
       "<style scoped>\n",
       "    .dataframe tbody tr th:only-of-type {\n",
       "        vertical-align: middle;\n",
       "    }\n",
       "\n",
       "    .dataframe tbody tr th {\n",
       "        vertical-align: top;\n",
       "    }\n",
       "\n",
       "    .dataframe thead th {\n",
       "        text-align: right;\n",
       "    }\n",
       "</style>\n",
       "<table border=\"1\" class=\"dataframe\">\n",
       "  <thead>\n",
       "    <tr style=\"text-align: right;\">\n",
       "      <th></th>\n",
       "      <th>Security Code</th>\n",
       "      <th>Security Name</th>\n",
       "      <th>Security Group</th>\n",
       "      <th>Open</th>\n",
       "      <th>High</th>\n",
       "      <th>Low</th>\n",
       "      <th>LTP</th>\n",
       "      <th>No. of Shares Traded</th>\n",
       "      <th>Total Turnover (my image Lac)</th>\n",
       "      <th>No. of Trades</th>\n",
       "    </tr>\n",
       "  </thead>\n",
       "  <tbody>\n",
       "    <tr>\n",
       "      <th>0</th>\n",
       "      <td>500325</td>\n",
       "      <td>RELIANCE</td>\n",
       "      <td>A</td>\n",
       "      <td>1263.80</td>\n",
       "      <td>1266.00</td>\n",
       "      <td>1245.85</td>\n",
       "      <td>1249.60</td>\n",
       "      <td>444087</td>\n",
       "      <td>5553.0</td>\n",
       "      <td>13653</td>\n",
       "    </tr>\n",
       "    <tr>\n",
       "      <th>1</th>\n",
       "      <td>500112</td>\n",
       "      <td>SBIN</td>\n",
       "      <td>A</td>\n",
       "      <td>740.55</td>\n",
       "      <td>744.05</td>\n",
       "      <td>733.60</td>\n",
       "      <td>737.25</td>\n",
       "      <td>530383</td>\n",
       "      <td>3912.0</td>\n",
       "      <td>21018</td>\n",
       "    </tr>\n",
       "    <tr>\n",
       "      <th>2</th>\n",
       "      <td>500209</td>\n",
       "      <td>INFY</td>\n",
       "      <td>A</td>\n",
       "      <td>1908.50</td>\n",
       "      <td>1908.50</td>\n",
       "      <td>1881.15</td>\n",
       "      <td>1884.40</td>\n",
       "      <td>179494</td>\n",
       "      <td>3384.0</td>\n",
       "      <td>4903</td>\n",
       "    </tr>\n",
       "    <tr>\n",
       "      <th>3</th>\n",
       "      <td>500520</td>\n",
       "      <td>M&amp;M</td>\n",
       "      <td>A</td>\n",
       "      <td>3200.05</td>\n",
       "      <td>3276.30</td>\n",
       "      <td>3145.70</td>\n",
       "      <td>3156.05</td>\n",
       "      <td>101693</td>\n",
       "      <td>3259.0</td>\n",
       "      <td>8845</td>\n",
       "    </tr>\n",
       "    <tr>\n",
       "      <th>4</th>\n",
       "      <td>500570</td>\n",
       "      <td>TATAMOTORS</td>\n",
       "      <td>A</td>\n",
       "      <td>711.65</td>\n",
       "      <td>711.65</td>\n",
       "      <td>694.40</td>\n",
       "      <td>696.00</td>\n",
       "      <td>396171</td>\n",
       "      <td>2770.0</td>\n",
       "      <td>11781</td>\n",
       "    </tr>\n",
       "  </tbody>\n",
       "</table>\n",
       "</div>"
      ],
      "text/plain": [
       "   Security Code Security Name Security Group     Open     High      Low  \\\n",
       "0         500325      RELIANCE              A  1263.80  1266.00  1245.85   \n",
       "1         500112          SBIN              A   740.55   744.05   733.60   \n",
       "2         500209          INFY              A  1908.50  1908.50  1881.15   \n",
       "3         500520           M&M              A  3200.05  3276.30  3145.70   \n",
       "4         500570    TATAMOTORS              A   711.65   711.65   694.40   \n",
       "\n",
       "       LTP  No. of Shares Traded  Total Turnover (my image Lac)  No. of Trades  \n",
       "0  1249.60                444087                         5553.0          13653  \n",
       "1   737.25                530383                         3912.0          21018  \n",
       "2  1884.40                179494                         3384.0           4903  \n",
       "3  3156.05                101693                         3259.0           8845  \n",
       "4   696.00                396171                         2770.0          11781  "
      ]
     },
     "execution_count": 10,
     "metadata": {},
     "output_type": "execute_result"
    }
   ],
   "source": [
    "df_BSE30=pd.read_csv(\"BSE30Stocks_Feb2025.csv\")\n",
    "df_BSE30.head()"
   ]
  },
  {
   "cell_type": "code",
   "execution_count": 11,
   "metadata": {},
   "outputs": [
    {
     "name": "stdout",
     "output_type": "stream",
     "text": [
      "<class 'pandas.core.frame.DataFrame'>\n",
      "RangeIndex: 30 entries, 0 to 29\n",
      "Data columns (total 10 columns):\n",
      " #   Column                         Non-Null Count  Dtype  \n",
      "---  ------                         --------------  -----  \n",
      " 0   Security Code                  30 non-null     int64  \n",
      " 1   Security Name                  30 non-null     object \n",
      " 2   Security Group                 30 non-null     object \n",
      " 3   Open                           30 non-null     float64\n",
      " 4   High                           30 non-null     float64\n",
      " 5   Low                            30 non-null     float64\n",
      " 6   LTP                            30 non-null     float64\n",
      " 7   No. of Shares Traded           30 non-null     int64  \n",
      " 8   Total Turnover (my image Lac)  30 non-null     float64\n",
      " 9   No. of Trades                  30 non-null     int64  \n",
      "dtypes: float64(5), int64(3), object(2)\n",
      "memory usage: 2.5+ KB\n"
     ]
    }
   ],
   "source": [
    "df_BSE30.info()"
   ]
  },
  {
   "cell_type": "code",
   "execution_count": 12,
   "metadata": {},
   "outputs": [],
   "source": [
    "BSE30Symbols=list(df_BSE30[\"Security Name\"])\n"
   ]
  },
  {
   "cell_type": "code",
   "execution_count": 13,
   "metadata": {},
   "outputs": [
    {
     "name": "stdout",
     "output_type": "stream",
     "text": [
      "['RELIANCE', 'SBIN', 'INFY', 'M&M', 'TATAMOTORS', 'ICICIBANK', 'HDFCBANK', 'KOTAKBANK', 'TCS', 'ZOMATO', 'BHARTIARTL', 'ITC', 'ASIANPAINT', 'BAJFINANCE', 'LT', 'NESTLEIND', 'TATASTEEL', 'MARUTI', 'ADANIPORTS', 'INDUSINDBK', 'POWERGRID', 'BAJAJFINSV', 'HINDUNILVR', 'HCLTECH', 'NTPC', 'AXISBANK', 'TITAN', 'SUNPHARMA', 'ULTRACEMCO', 'TECHM']\n"
     ]
    }
   ],
   "source": [
    "print(BSE30Symbols)"
   ]
  },
  {
   "cell_type": "code",
   "execution_count": 14,
   "metadata": {},
   "outputs": [
    {
     "name": "stdout",
     "output_type": "stream",
     "text": [
      "['RELIANCE.BO', 'SBIN.BO', 'INFY.BO', 'M&M.BO', 'TATAMOTORS.BO', 'ICICIBANK.BO', 'HDFCBANK.BO', 'KOTAKBANK.BO', 'TCS.BO', 'ZOMATO.BO', 'BHARTIARTL.BO', 'ITC.BO', 'ASIANPAINT.BO', 'BAJFINANCE.BO', 'LT.BO', 'NESTLEIND.BO', 'TATASTEEL.BO', 'MARUTI.BO', 'ADANIPORTS.BO', 'INDUSINDBK.BO', 'POWERGRID.BO', 'BAJAJFINSV.BO', 'HINDUNILVR.BO', 'HCLTECH.BO', 'NTPC.BO', 'AXISBANK.BO', 'TITAN.BO', 'SUNPHARMA.BO', 'ULTRACEMCO.BO', 'TECHM.BO']\n"
     ]
    }
   ],
   "source": [
    "#converting every stock name as .NSE to get yahoo finance info\n",
    "for i in range(len(BSE30Symbols)):\n",
    "    BSE30Symbols[i]+='.BO'\n",
    "print(BSE30Symbols)   "
   ]
  },
  {
   "cell_type": "code",
   "execution_count": 15,
   "metadata": {},
   "outputs": [],
   "source": [
    "#checking the stock details\n",
    "def get_info(ticker):\n",
    "    stock=yf.Ticker(ticker)\n",
    "    print(stock.info)"
   ]
  },
  {
   "cell_type": "code",
   "execution_count": 16,
   "metadata": {},
   "outputs": [],
   "source": [
    "# for i in nifty50Symbols:\n",
    "#     print(get_info(i))"
   ]
  },
  {
   "cell_type": "code",
   "execution_count": 17,
   "metadata": {},
   "outputs": [],
   "source": [
    "def save_csv(stock_name):\n",
    "    stock=yf.Ticker(stock_name)\n",
    "    df=stock.history(period=\"20y\")[\"Close\"]\n",
    "    file=stock_name.replace(\".\",\"_\")+\".csv\"\n",
    "    df.to_csv(file)"
   ]
  },
  {
   "cell_type": "code",
   "execution_count": 18,
   "metadata": {},
   "outputs": [],
   "source": [
    "for stock in BSE30Symbols:\n",
    "    save_csv(stock)"
   ]
  }
 ],
 "metadata": {
  "kernelspec": {
   "display_name": "Python 3",
   "language": "python",
   "name": "python3"
  },
  "language_info": {
   "codemirror_mode": {
    "name": "ipython",
    "version": 3
   },
   "file_extension": ".py",
   "mimetype": "text/x-python",
   "name": "python",
   "nbconvert_exporter": "python",
   "pygments_lexer": "ipython3",
   "version": "3.12.0"
  }
 },
 "nbformat": 4,
 "nbformat_minor": 2
}
