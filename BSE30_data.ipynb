{
 "cells": [
  {
   "cell_type": "code",
   "execution_count": 1,
   "metadata": {},
   "outputs": [],
   "source": [
    "# %pip install -r requirements.txt"
   ]
  },
  {
   "cell_type": "code",
   "execution_count": 2,
   "metadata": {},
   "outputs": [],
   "source": [
    "import datetime as dt\n",
    "import pandas as pd\n",
    "import pandas_datareader as pdr\n",
    "import datetime as dt\n",
    "import time\n",
    "import yfinance as yf"
   ]
  },
  {
   "cell_type": "code",
   "execution_count": null,
   "metadata": {},
   "outputs": [
    {
     "data": {
      "text/html": [
       "<div>\n",
       "<style scoped>\n",
       "    .dataframe tbody tr th:only-of-type {\n",
       "        vertical-align: middle;\n",
       "    }\n",
       "\n",
       "    .dataframe tbody tr th {\n",
       "        vertical-align: top;\n",
       "    }\n",
       "\n",
       "    .dataframe thead th {\n",
       "        text-align: right;\n",
       "    }\n",
       "</style>\n",
       "<table border=\"1\" class=\"dataframe\">\n",
       "  <thead>\n",
       "    <tr style=\"text-align: right;\">\n",
       "      <th></th>\n",
       "      <th>SYMBOL \\n</th>\n",
       "      <th>OPEN \\n</th>\n",
       "      <th>HIGH \\n</th>\n",
       "      <th>LOW \\n</th>\n",
       "      <th>PREV. CLOSE \\n</th>\n",
       "      <th>LTP \\n</th>\n",
       "      <th>INDICATIVE CLOSE \\n</th>\n",
       "      <th>CHNG \\n</th>\n",
       "      <th>%CHNG \\n</th>\n",
       "      <th>VOLUME \\n(shares)</th>\n",
       "      <th>VALUE \\n (₹ Crores)</th>\n",
       "      <th>52W H \\n</th>\n",
       "      <th>52W L \\n</th>\n",
       "      <th>30 D   %CHNG \\n</th>\n",
       "      <th>365 D % CHNG \\n 25-Jan-2024</th>\n",
       "    </tr>\n",
       "  </thead>\n",
       "  <tbody>\n",
       "    <tr>\n",
       "      <th>0</th>\n",
       "      <td>NIFTY 50</td>\n",
       "      <td>23,183.90</td>\n",
       "      <td>23,347.30</td>\n",
       "      <td>23,050.00</td>\n",
       "      <td>23,205.35</td>\n",
       "      <td>23,092.20</td>\n",
       "      <td>-</td>\n",
       "      <td>-113.15</td>\n",
       "      <td>-0.49</td>\n",
       "      <td>26,43,36,332</td>\n",
       "      <td>24,412.33</td>\n",
       "      <td>26,277.35</td>\n",
       "      <td>21,281.45</td>\n",
       "      <td>-2.68</td>\n",
       "      <td>8.15</td>\n",
       "    </tr>\n",
       "    <tr>\n",
       "      <th>1</th>\n",
       "      <td>HINDUNILVR</td>\n",
       "      <td>2,332.85</td>\n",
       "      <td>2,380.80</td>\n",
       "      <td>2,323.00</td>\n",
       "      <td>2,321.70</td>\n",
       "      <td>2,380.10</td>\n",
       "      <td>-</td>\n",
       "      <td>58.40</td>\n",
       "      <td>2.52</td>\n",
       "      <td>16,88,664</td>\n",
       "      <td>398.35</td>\n",
       "      <td>3,035.00</td>\n",
       "      <td>2,172.05</td>\n",
       "      <td>1.39</td>\n",
       "      <td>-2.48</td>\n",
       "    </tr>\n",
       "    <tr>\n",
       "      <th>2</th>\n",
       "      <td>BRITANNIA</td>\n",
       "      <td>5,037.70</td>\n",
       "      <td>5,108.00</td>\n",
       "      <td>5,013.15</td>\n",
       "      <td>5,012.60</td>\n",
       "      <td>5,100.00</td>\n",
       "      <td>-</td>\n",
       "      <td>87.40</td>\n",
       "      <td>1.74</td>\n",
       "      <td>5,09,954</td>\n",
       "      <td>258.96</td>\n",
       "      <td>6,469.90</td>\n",
       "      <td>4,641.00</td>\n",
       "      <td>7.53</td>\n",
       "      <td>-0.78</td>\n",
       "    </tr>\n",
       "    <tr>\n",
       "      <th>3</th>\n",
       "      <td>EICHERMOT</td>\n",
       "      <td>5,134.00</td>\n",
       "      <td>5,224.50</td>\n",
       "      <td>5,115.05</td>\n",
       "      <td>5,116.20</td>\n",
       "      <td>5,190.25</td>\n",
       "      <td>-</td>\n",
       "      <td>74.05</td>\n",
       "      <td>1.45</td>\n",
       "      <td>7,30,641</td>\n",
       "      <td>378.67</td>\n",
       "      <td>5,385.70</td>\n",
       "      <td>3,562.45</td>\n",
       "      <td>8.63</td>\n",
       "      <td>43.96</td>\n",
       "    </tr>\n",
       "    <tr>\n",
       "      <th>4</th>\n",
       "      <td>GRASIM</td>\n",
       "      <td>2,466.35</td>\n",
       "      <td>2,514.05</td>\n",
       "      <td>2,453.45</td>\n",
       "      <td>2,461.15</td>\n",
       "      <td>2,495.00</td>\n",
       "      <td>-</td>\n",
       "      <td>33.85</td>\n",
       "      <td>1.38</td>\n",
       "      <td>15,10,105</td>\n",
       "      <td>375.85</td>\n",
       "      <td>2,877.75</td>\n",
       "      <td>2,016.55</td>\n",
       "      <td>-0.44</td>\n",
       "      <td>19.95</td>\n",
       "    </tr>\n",
       "  </tbody>\n",
       "</table>\n",
       "</div>"
      ],
      "text/plain": [
       "    SYMBOL \\n    OPEN \\n    HIGH \\n     LOW \\n PREV. CLOSE \\n     LTP \\n  \\\n",
       "0    NIFTY 50  23,183.90  23,347.30  23,050.00      23,205.35  23,092.20   \n",
       "1  HINDUNILVR   2,332.85   2,380.80   2,323.00       2,321.70   2,380.10   \n",
       "2   BRITANNIA   5,037.70   5,108.00   5,013.15       5,012.60   5,100.00   \n",
       "3   EICHERMOT   5,134.00   5,224.50   5,115.05       5,116.20   5,190.25   \n",
       "4      GRASIM   2,466.35   2,514.05   2,453.45       2,461.15   2,495.00   \n",
       "\n",
       "  INDICATIVE CLOSE \\n  CHNG \\n  %CHNG \\n VOLUME \\n(shares)  \\\n",
       "0                   -  -113.15     -0.49      26,43,36,332   \n",
       "1                   -    58.40      2.52         16,88,664   \n",
       "2                   -    87.40      1.74          5,09,954   \n",
       "3                   -    74.05      1.45          7,30,641   \n",
       "4                   -    33.85      1.38         15,10,105   \n",
       "\n",
       "  VALUE \\n (₹ Crores)   52W H \\n   52W L \\n  30 D   %CHNG \\n  \\\n",
       "0           24,412.33  26,277.35  21,281.45            -2.68   \n",
       "1              398.35   3,035.00   2,172.05             1.39   \n",
       "2              258.96   6,469.90   4,641.00             7.53   \n",
       "3              378.67   5,385.70   3,562.45             8.63   \n",
       "4              375.85   2,877.75   2,016.55            -0.44   \n",
       "\n",
       "   365 D % CHNG \\n 25-Jan-2024  \n",
       "0                         8.15  \n",
       "1                        -2.48  \n",
       "2                        -0.78  \n",
       "3                        43.96  \n",
       "4                        19.95  "
      ]
     },
     "execution_count": 4,
     "metadata": {},
     "output_type": "execute_result"
    }
   ],
   "source": [
    "df_BSE30=pd.read_csv(\"MW-NIFTY-50-26-Jan-2025.csv\")\n",
    "df_nifty50.head()"
   ]
  },
  {
   "cell_type": "code",
   "execution_count": 6,
   "metadata": {},
   "outputs": [
    {
     "name": "stdout",
     "output_type": "stream",
     "text": [
      "['HINDUNILVR', 'BRITANNIA', 'EICHERMOT', 'GRASIM', 'ICICIBANK', 'TATACONSUM', 'WIPRO', 'TECHM', 'POWERGRID', 'INFY', 'NESTLEIND', 'BHARTIARTL', 'ITC', 'JSWSTEEL', 'TCS', 'NTPC', 'BAJAJ-AUTO', 'TATASTEEL', 'HDFCLIFE', 'TITAN', 'HINDALCO', 'BAJFINANCE', 'SBIN', 'AXISBANK', 'COALINDIA', 'ASIANPAINT', 'KOTAKBANK', 'HCLTECH', 'MARUTI', 'SUNPHARMA', 'BAJAJFINSV', 'ADANIPORTS', 'SHRIRAMFIN', 'SBILIFE', 'ULTRACEMCO', 'HDFCBANK', 'HEROMOTOCO', 'LT', 'BEL', 'RELIANCE', 'ONGC', 'INDUSINDBK', 'CIPLA', 'TATAMOTORS', 'APOLLOHOSP', 'BPCL', 'ADANIENT', 'M&M', 'TRENT', 'DRREDDY']\n"
     ]
    }
   ],
   "source": [
    "nifty50Symbols=list(df_nifty50[\"SYMBOL \\n\"])\n",
    "nifty50Symbols=nifty50Symbols[1:] #removing NIFTY 50 symbol\n",
    "print(nifty50Symbols)"
   ]
  },
  {
   "cell_type": "code",
   "execution_count": null,
   "metadata": {},
   "outputs": [],
   "source": [
    "bse30=list(nifty50Symbols.pop())"
   ]
  },
  {
   "cell_type": "code",
   "execution_count": 5,
   "metadata": {},
   "outputs": [
    {
     "data": {
      "text/plain": [
       "['HINDUNILVR.ns',\n",
       " 'BRITANNIA.ns',\n",
       " 'EICHERMOT.ns',\n",
       " 'GRASIM.ns',\n",
       " 'ICICIBANK.ns',\n",
       " 'TATACONSUM.ns',\n",
       " 'WIPRO.ns',\n",
       " 'TECHM.ns',\n",
       " 'POWERGRID.ns',\n",
       " 'INFY.ns',\n",
       " 'NESTLEIND.ns',\n",
       " 'BHARTIARTL.ns',\n",
       " 'ITC.ns',\n",
       " 'JSWSTEEL.ns',\n",
       " 'TCS.ns',\n",
       " 'NTPC.ns',\n",
       " 'BAJAJ-AUTO.ns',\n",
       " 'TATASTEEL.ns',\n",
       " 'HDFCLIFE.ns',\n",
       " 'TITAN.ns',\n",
       " 'HINDALCO.ns',\n",
       " 'BAJFINANCE.ns',\n",
       " 'SBIN.ns',\n",
       " 'AXISBANK.ns',\n",
       " 'COALINDIA.ns',\n",
       " 'ASIANPAINT.ns',\n",
       " 'KOTAKBANK.ns',\n",
       " 'HCLTECH.ns',\n",
       " 'MARUTI.ns',\n",
       " 'SUNPHARMA.ns',\n",
       " 'BAJAJFINSV.ns',\n",
       " 'ADANIPORTS.ns',\n",
       " 'SHRIRAMFIN.ns',\n",
       " 'SBILIFE.ns',\n",
       " 'ULTRACEMCO.ns',\n",
       " 'HDFCBANK.ns',\n",
       " 'HEROMOTOCO.ns',\n",
       " 'LT.ns',\n",
       " 'BEL.ns',\n",
       " 'RELIANCE.ns',\n",
       " 'ONGC.ns',\n",
       " 'INDUSINDBK.ns',\n",
       " 'CIPLA.ns',\n",
       " 'TATAMOTORS.ns',\n",
       " 'APOLLOHOSP.ns',\n",
       " 'BPCL.ns',\n",
       " 'ADANIENT.ns',\n",
       " 'M&M.ns',\n",
       " 'TRENT.ns',\n",
       " 'DRREDDY.ns']"
      ]
     },
     "execution_count": 5,
     "metadata": {},
     "output_type": "execute_result"
    }
   ],
   "source": [
    "#converting every stock name as .NSE to get yahoo finance info\n",
    "for i in range(len(nifty50Symbols)):\n",
    "    nifty50Symbols[i]+='.ns'\n",
    "    \n",
    "nifty50Symbols    "
   ]
  },
  {
   "cell_type": "code",
   "execution_count": 6,
   "metadata": {},
   "outputs": [],
   "source": [
    "#checking the stock details\n",
    "def get_info(ticker):\n",
    "    stock=yf.Ticker(ticker)\n",
    "    print(stock.info)"
   ]
  },
  {
   "cell_type": "code",
   "execution_count": 7,
   "metadata": {},
   "outputs": [],
   "source": [
    "# for i in nifty50Symbols:\n",
    "#     print(get_info(i))"
   ]
  },
  {
   "cell_type": "code",
   "execution_count": 8,
   "metadata": {},
   "outputs": [],
   "source": [
    "def save_csv(stock_name):\n",
    "    stock=yf.Ticker(stock_name)\n",
    "    df=stock.history(period=\"20y\")[\"Close\"]\n",
    "    file=stock_name.replace(\".\",\"_\")+\".csv\"\n",
    "    df.to_csv(file)"
   ]
  },
  {
   "cell_type": "code",
   "execution_count": 9,
   "metadata": {},
   "outputs": [],
   "source": [
    "for stock in nifty50Symbols:\n",
    "    save_csv(stock)"
   ]
  },
  {
   "cell_type": "code",
   "execution_count": 4,
   "metadata": {},
   "outputs": [
    {
     "name": "stdout",
     "output_type": "stream",
     "text": [
      "0.26\n",
      "0.2.52\n"
     ]
    }
   ],
   "source": [
    "import jugaad_data as jd\n",
    "import yfinance as yf\n",
    "\n",
    "print(jd.__version__)\n",
    "print(yf.__version__)"
   ]
  },
  {
   "cell_type": "code",
   "execution_count": 7,
   "metadata": {},
   "outputs": [],
   "source": [
    "# import nsetools\n",
    "# n = NSELive()\n",
    "# nifty_data = n.live_index('NIFTY 50')\n",
    "# print(nifty_data['name'], nifty_data['timestamp'], nifty_data['data'][0]['lastPrice'])\n"
   ]
  },
  {
   "cell_type": "markdown",
   "metadata": {},
   "source": [
    "Historical Nifty Data"
   ]
  },
  {
   "cell_type": "code",
   "execution_count": 9,
   "metadata": {},
   "outputs": [],
   "source": [
    "from nselib import capital_market\n",
    "import pandas as pd"
   ]
  },
  {
   "cell_type": "code",
   "execution_count": 10,
   "metadata": {},
   "outputs": [],
   "source": [
    "from_date_str = '05-05-2021'\n",
    "to_date_str = '03-05-2024'"
   ]
  },
  {
   "cell_type": "code",
   "execution_count": 12,
   "metadata": {},
   "outputs": [],
   "source": [
    "# index_data = capital_market.index_data(index='Nifty 500', from_date=from_date_str, to_date=to_date_str)\n",
    "# index_data['TIMESTAMP'] = pd.to_datetime(index_data['TIMESTAMP'], format='%d-%m-%Y')\n",
    "# index_data = index_data.sort_values('TIMESTAMP').reset_index(drop=True)\n",
    "# index_data"
   ]
  },
  {
   "cell_type": "markdown",
   "metadata": {},
   "source": [
    "Here’s a sample code for 5 years of Nifty Midcap 150 index data:"
   ]
  },
  {
   "cell_type": "code",
   "execution_count": 14,
   "metadata": {},
   "outputs": [],
   "source": [
    "# time_periods = [('06-05-2019', '04-05-2021'), ('05-05-2021', '03-05-2024')]\n",
    "# index_data = pd.DataFrame()\n",
    "\n",
    "# for (from_date_str, to_date_str) in time_periods:\n",
    "#     temp_index_data = capital_market.index_data(index='Nifty Midcap 150', from_date=from_date_str, to_date=to_date_str)\n",
    "#     temp_index_data['TIMESTAMP'] = pd.to_datetime(temp_index_data['TIMESTAMP'], format='%d-%m-%Y')\n",
    "#     index_data = pd.concat([index_data, temp_index_data])\n",
    "    \n",
    "# index_data = index_data.sort_values('TIMESTAMP').reset_index(drop=True)\n",
    "# index_data"
   ]
  },
  {
   "cell_type": "markdown",
   "metadata": {},
   "source": [
    "plot the meteoric rise of the midcap index in India."
   ]
  },
  {
   "cell_type": "code",
   "execution_count": 15,
   "metadata": {},
   "outputs": [
    {
     "data": {
      "image/png": "[encoded data removed]",
      "text/plain": [
       "<Figure size 1200x600 with 1 Axes>"
      ]
     },
     "metadata": {},
     "output_type": "display_data"
    }
   ],
   "source": [
    "import pandas as pd\n",
    "import numpy as np\n",
    "import matplotlib.pyplot as plt\n",
    "\n",
    "plt.figure(figsize=(12, 6))\n",
    "plt.plot(index_data['TIMESTAMP'].values, index_data['CLOSE_INDEX_VAL'].values, color='green')\n",
    "plt.title('Nifty Midcap 150')\n",
    "plt.xlabel('Date')\n",
    "plt.ylabel('Closing Price')\n",
    "plt.show()"
   ]
  },
  {
   "cell_type": "code",
   "execution_count": 17,
   "metadata": {},
   "outputs": [
    {
     "name": "stdout",
     "output_type": "stream",
     "text": [
      "2022-02-09 2025-02-09\n"
     ]
    },
    {
     "ename": "KeyError",
     "evalue": "'d'",
     "output_type": "error",
     "traceback": [
      "\u001b[1;31m---------------------------------------------------------------------------\u001b[0m",
      "\u001b[1;31mKeyError\u001b[0m                                  Traceback (most recent call last)",
      "Cell \u001b[1;32mIn[17], line 18\u001b[0m\n\u001b[0;32m     15\u001b[0m \u001b[38;5;28mprint\u001b[39m(from_date, to_date)\n\u001b[0;32m     17\u001b[0m \u001b[38;5;66;03m# Fetch the index data \u001b[39;00m\n\u001b[1;32m---> 18\u001b[0m raw_index_data \u001b[38;5;241m=\u001b[39m \u001b[43mindex_raw\u001b[49m\u001b[43m(\u001b[49m\u001b[43msymbol\u001b[49m\u001b[38;5;241;43m=\u001b[39;49m\u001b[38;5;124;43m\"\u001b[39;49m\u001b[38;5;124;43mNIFTY 50\u001b[39;49m\u001b[38;5;124;43m\"\u001b[39;49m\u001b[43m,\u001b[49m\u001b[43m \u001b[49m\u001b[43mfrom_date\u001b[49m\u001b[38;5;241;43m=\u001b[39;49m\u001b[43mfrom_date\u001b[49m\u001b[43m,\u001b[49m\u001b[43m \u001b[49m\u001b[43mto_date\u001b[49m\u001b[38;5;241;43m=\u001b[39;49m\u001b[43mto_date\u001b[49m\u001b[43m)\u001b[49m\n\u001b[0;32m     20\u001b[0m \u001b[38;5;66;03m# Converting into dataframe and processing the data\u001b[39;00m\n\u001b[0;32m     21\u001b[0m nifty_historical_df \u001b[38;5;241m=\u001b[39m (pd\u001b[38;5;241m.\u001b[39mDataFrame(raw_index_data)\\\n\u001b[0;32m     22\u001b[0m                             \u001b[38;5;241m.\u001b[39massign(HistoricalDate\u001b[38;5;241m=\u001b[39m\u001b[38;5;28;01mlambda\u001b[39;00m x: x[\u001b[38;5;124m'\u001b[39m\u001b[38;5;124mHistoricalDate\u001b[39m\u001b[38;5;124m'\u001b[39m]\u001b[38;5;241m.\u001b[39mapply(convert_to_date))\\\n\u001b[0;32m     23\u001b[0m                             \u001b[38;5;241m.\u001b[39msort_values(\u001b[38;5;124m'\u001b[39m\u001b[38;5;124mHistoricalDate\u001b[39m\u001b[38;5;124m'\u001b[39m)\\\n\u001b[0;32m     24\u001b[0m                             \u001b[38;5;241m.\u001b[39mdrop_duplicates()\\\n\u001b[0;32m     25\u001b[0m                             \u001b[38;5;241m.\u001b[39mloc[\u001b[38;5;28;01mlambda\u001b[39;00m x: x[\u001b[38;5;124m'\u001b[39m\u001b[38;5;124mIndex Name\u001b[39m\u001b[38;5;124m'\u001b[39m] \u001b[38;5;241m==\u001b[39m \u001b[38;5;124m'\u001b[39m\u001b[38;5;124mNifty 50\u001b[39m\u001b[38;5;124m'\u001b[39m]\\\n\u001b[0;32m     26\u001b[0m                             \u001b[38;5;241m.\u001b[39mreset_index(drop\u001b[38;5;241m=\u001b[39m\u001b[38;5;28;01mTrue\u001b[39;00m))\n",
      "File \u001b[1;32mc:\\Users\\om\\AppData\\Local\\Programs\\Python\\Python312\\Lib\\site-packages\\jugaad_data\\nse\\history.py:319\u001b[0m, in \u001b[0;36mNSEIndexHistory.index_raw\u001b[1;34m(self, symbol, from_date, to_date)\u001b[0m\n\u001b[0;32m    317\u001b[0m params \u001b[38;5;241m=\u001b[39m [(symbol, x[\u001b[38;5;241m0\u001b[39m], x[\u001b[38;5;241m1\u001b[39m]) \u001b[38;5;28;01mfor\u001b[39;00m x \u001b[38;5;129;01min\u001b[39;00m \u001b[38;5;28mreversed\u001b[39m(date_ranges)]\n\u001b[0;32m    318\u001b[0m chunks \u001b[38;5;241m=\u001b[39m ut\u001b[38;5;241m.\u001b[39mpool(\u001b[38;5;28mself\u001b[39m\u001b[38;5;241m.\u001b[39m_index, params, max_workers\u001b[38;5;241m=\u001b[39m\u001b[38;5;28mself\u001b[39m\u001b[38;5;241m.\u001b[39mworkers)\n\u001b[1;32m--> 319\u001b[0m \u001b[38;5;28;01mreturn\u001b[39;00m \u001b[38;5;28;43mlist\u001b[39;49m\u001b[43m(\u001b[49m\u001b[43mitertools\u001b[49m\u001b[38;5;241;43m.\u001b[39;49m\u001b[43mchain\u001b[49m\u001b[38;5;241;43m.\u001b[39;49m\u001b[43mfrom_iterable\u001b[49m\u001b[43m(\u001b[49m\u001b[43mchunks\u001b[49m\u001b[43m)\u001b[49m\u001b[43m)\u001b[49m\n",
      "File \u001b[1;32mc:\\Users\\om\\AppData\\Local\\Programs\\Python\\Python312\\Lib\\concurrent\\futures\\_base.py:619\u001b[0m, in \u001b[0;36mExecutor.map.<locals>.result_iterator\u001b[1;34m()\u001b[0m\n\u001b[0;32m    616\u001b[0m \u001b[38;5;28;01mwhile\u001b[39;00m fs:\n\u001b[0;32m    617\u001b[0m     \u001b[38;5;66;03m# Careful not to keep a reference to the popped future\u001b[39;00m\n\u001b[0;32m    618\u001b[0m     \u001b[38;5;28;01mif\u001b[39;00m timeout \u001b[38;5;129;01mis\u001b[39;00m \u001b[38;5;28;01mNone\u001b[39;00m:\n\u001b[1;32m--> 619\u001b[0m         \u001b[38;5;28;01myield\u001b[39;00m \u001b[43m_result_or_cancel\u001b[49m\u001b[43m(\u001b[49m\u001b[43mfs\u001b[49m\u001b[38;5;241;43m.\u001b[39;49m\u001b[43mpop\u001b[49m\u001b[43m(\u001b[49m\u001b[43m)\u001b[49m\u001b[43m)\u001b[49m\n\u001b[0;32m    620\u001b[0m     \u001b[38;5;28;01melse\u001b[39;00m:\n\u001b[0;32m    621\u001b[0m         \u001b[38;5;28;01myield\u001b[39;00m _result_or_cancel(fs\u001b[38;5;241m.\u001b[39mpop(), end_time \u001b[38;5;241m-\u001b[39m time\u001b[38;5;241m.\u001b[39mmonotonic())\n",
      "File \u001b[1;32mc:\\Users\\om\\AppData\\Local\\Programs\\Python\\Python312\\Lib\\concurrent\\futures\\_base.py:317\u001b[0m, in \u001b[0;36m_result_or_cancel\u001b[1;34m(***failed resolving arguments***)\u001b[0m\n\u001b[0;32m    315\u001b[0m \u001b[38;5;28;01mtry\u001b[39;00m:\n\u001b[0;32m    316\u001b[0m     \u001b[38;5;28;01mtry\u001b[39;00m:\n\u001b[1;32m--> 317\u001b[0m         \u001b[38;5;28;01mreturn\u001b[39;00m \u001b[43mfut\u001b[49m\u001b[38;5;241;43m.\u001b[39;49m\u001b[43mresult\u001b[49m\u001b[43m(\u001b[49m\u001b[43mtimeout\u001b[49m\u001b[43m)\u001b[49m\n\u001b[0;32m    318\u001b[0m     \u001b[38;5;28;01mfinally\u001b[39;00m:\n\u001b[0;32m    319\u001b[0m         fut\u001b[38;5;241m.\u001b[39mcancel()\n",
      "File \u001b[1;32mc:\\Users\\om\\AppData\\Local\\Programs\\Python\\Python312\\Lib\\concurrent\\futures\\_base.py:449\u001b[0m, in \u001b[0;36mFuture.result\u001b[1;34m(self, timeout)\u001b[0m\n\u001b[0;32m    447\u001b[0m     \u001b[38;5;28;01mraise\u001b[39;00m CancelledError()\n\u001b[0;32m    448\u001b[0m \u001b[38;5;28;01melif\u001b[39;00m \u001b[38;5;28mself\u001b[39m\u001b[38;5;241m.\u001b[39m_state \u001b[38;5;241m==\u001b[39m FINISHED:\n\u001b[1;32m--> 449\u001b[0m     \u001b[38;5;28;01mreturn\u001b[39;00m \u001b[38;5;28;43mself\u001b[39;49m\u001b[38;5;241;43m.\u001b[39;49m\u001b[43m__get_result\u001b[49m\u001b[43m(\u001b[49m\u001b[43m)\u001b[49m\n\u001b[0;32m    451\u001b[0m \u001b[38;5;28mself\u001b[39m\u001b[38;5;241m.\u001b[39m_condition\u001b[38;5;241m.\u001b[39mwait(timeout)\n\u001b[0;32m    453\u001b[0m \u001b[38;5;28;01mif\u001b[39;00m \u001b[38;5;28mself\u001b[39m\u001b[38;5;241m.\u001b[39m_state \u001b[38;5;129;01min\u001b[39;00m [CANCELLED, CANCELLED_AND_NOTIFIED]:\n",
      "File \u001b[1;32mc:\\Users\\om\\AppData\\Local\\Programs\\Python\\Python312\\Lib\\concurrent\\futures\\_base.py:401\u001b[0m, in \u001b[0;36mFuture.__get_result\u001b[1;34m(self)\u001b[0m\n\u001b[0;32m    399\u001b[0m \u001b[38;5;28;01mif\u001b[39;00m \u001b[38;5;28mself\u001b[39m\u001b[38;5;241m.\u001b[39m_exception:\n\u001b[0;32m    400\u001b[0m     \u001b[38;5;28;01mtry\u001b[39;00m:\n\u001b[1;32m--> 401\u001b[0m         \u001b[38;5;28;01mraise\u001b[39;00m \u001b[38;5;28mself\u001b[39m\u001b[38;5;241m.\u001b[39m_exception\n\u001b[0;32m    402\u001b[0m     \u001b[38;5;28;01mfinally\u001b[39;00m:\n\u001b[0;32m    403\u001b[0m         \u001b[38;5;66;03m# Break a reference cycle with the exception in self._exception\u001b[39;00m\n\u001b[0;32m    404\u001b[0m         \u001b[38;5;28mself\u001b[39m \u001b[38;5;241m=\u001b[39m \u001b[38;5;28;01mNone\u001b[39;00m\n",
      "File \u001b[1;32mc:\\Users\\om\\AppData\\Local\\Programs\\Python\\Python312\\Lib\\concurrent\\futures\\thread.py:58\u001b[0m, in \u001b[0;36m_WorkItem.run\u001b[1;34m(self)\u001b[0m\n\u001b[0;32m     55\u001b[0m     \u001b[38;5;28;01mreturn\u001b[39;00m\n\u001b[0;32m     57\u001b[0m \u001b[38;5;28;01mtry\u001b[39;00m:\n\u001b[1;32m---> 58\u001b[0m     result \u001b[38;5;241m=\u001b[39m \u001b[38;5;28;43mself\u001b[39;49m\u001b[38;5;241;43m.\u001b[39;49m\u001b[43mfn\u001b[49m\u001b[43m(\u001b[49m\u001b[38;5;241;43m*\u001b[39;49m\u001b[38;5;28;43mself\u001b[39;49m\u001b[38;5;241;43m.\u001b[39;49m\u001b[43margs\u001b[49m\u001b[43m,\u001b[49m\u001b[43m \u001b[49m\u001b[38;5;241;43m*\u001b[39;49m\u001b[38;5;241;43m*\u001b[39;49m\u001b[38;5;28;43mself\u001b[39;49m\u001b[38;5;241;43m.\u001b[39;49m\u001b[43mkwargs\u001b[49m\u001b[43m)\u001b[49m\n\u001b[0;32m     59\u001b[0m \u001b[38;5;28;01mexcept\u001b[39;00m \u001b[38;5;167;01mBaseException\u001b[39;00m \u001b[38;5;28;01mas\u001b[39;00m exc:\n\u001b[0;32m     60\u001b[0m     \u001b[38;5;28mself\u001b[39m\u001b[38;5;241m.\u001b[39mfuture\u001b[38;5;241m.\u001b[39mset_exception(exc)\n",
      "File \u001b[1;32mc:\\Users\\om\\AppData\\Local\\Programs\\Python\\Python312\\Lib\\site-packages\\jugaad_data\\util.py:109\u001b[0m, in \u001b[0;36mcached.<locals>._cached.<locals>.wrapper\u001b[1;34m(*args, **kw)\u001b[0m\n\u001b[0;32m    107\u001b[0m \u001b[38;5;28;01mif\u001b[39;00m \u001b[38;5;129;01mnot\u001b[39;00m os\u001b[38;5;241m.\u001b[39mpath\u001b[38;5;241m.\u001b[39mexists(cache_dir):\n\u001b[0;32m    108\u001b[0m     os\u001b[38;5;241m.\u001b[39mmakedirs(cache_dir)\n\u001b[1;32m--> 109\u001b[0m j \u001b[38;5;241m=\u001b[39m \u001b[43mfunction\u001b[49m\u001b[43m(\u001b[49m\u001b[38;5;241;43m*\u001b[39;49m\u001b[38;5;241;43m*\u001b[39;49m\u001b[43mkw\u001b[49m\u001b[43m)\u001b[49m\n\u001b[0;32m    110\u001b[0m \u001b[38;5;28;01mwith\u001b[39;00m \u001b[38;5;28mopen\u001b[39m(path, \u001b[38;5;124m'\u001b[39m\u001b[38;5;124mwb\u001b[39m\u001b[38;5;124m'\u001b[39m) \u001b[38;5;28;01mas\u001b[39;00m fp:\n\u001b[0;32m    111\u001b[0m     pickle\u001b[38;5;241m.\u001b[39mdump(j, fp)        \n",
      "File \u001b[1;32mc:\\Users\\om\\AppData\\Local\\Programs\\Python\\Python312\\Lib\\site-packages\\jugaad_data\\nse\\history.py:313\u001b[0m, in \u001b[0;36mNSEIndexHistory._index\u001b[1;34m(self, symbol, from_date, to_date)\u001b[0m\n\u001b[0;32m    308\u001b[0m params \u001b[38;5;241m=\u001b[39m {\u001b[38;5;124m'\u001b[39m\u001b[38;5;124mname\u001b[39m\u001b[38;5;124m'\u001b[39m: symbol,\n\u001b[0;32m    309\u001b[0m         \u001b[38;5;124m'\u001b[39m\u001b[38;5;124mstartDate\u001b[39m\u001b[38;5;124m'\u001b[39m: from_date\u001b[38;5;241m.\u001b[39mstrftime(\u001b[38;5;124m\"\u001b[39m\u001b[38;5;132;01m%d\u001b[39;00m\u001b[38;5;124m-\u001b[39m\u001b[38;5;124m%\u001b[39m\u001b[38;5;124mb-\u001b[39m\u001b[38;5;124m%\u001b[39m\u001b[38;5;124mY\u001b[39m\u001b[38;5;124m\"\u001b[39m),\n\u001b[0;32m    310\u001b[0m         \u001b[38;5;124m'\u001b[39m\u001b[38;5;124mendDate\u001b[39m\u001b[38;5;124m'\u001b[39m: to_date\u001b[38;5;241m.\u001b[39mstrftime(\u001b[38;5;124m\"\u001b[39m\u001b[38;5;132;01m%d\u001b[39;00m\u001b[38;5;124m-\u001b[39m\u001b[38;5;124m%\u001b[39m\u001b[38;5;124mb-\u001b[39m\u001b[38;5;124m%\u001b[39m\u001b[38;5;124mY\u001b[39m\u001b[38;5;124m\"\u001b[39m)\n\u001b[0;32m    311\u001b[0m }\n\u001b[0;32m    312\u001b[0m r \u001b[38;5;241m=\u001b[39m \u001b[38;5;28mself\u001b[39m\u001b[38;5;241m.\u001b[39m_post_json(\u001b[38;5;124m\"\u001b[39m\u001b[38;5;124mindex_history\u001b[39m\u001b[38;5;124m\"\u001b[39m, params\u001b[38;5;241m=\u001b[39mparams)\n\u001b[1;32m--> 313\u001b[0m \u001b[38;5;28;01mreturn\u001b[39;00m json\u001b[38;5;241m.\u001b[39mloads(\u001b[38;5;28;43mself\u001b[39;49m\u001b[38;5;241;43m.\u001b[39;49m\u001b[43mr\u001b[49m\u001b[38;5;241;43m.\u001b[39;49m\u001b[43mjson\u001b[49m\u001b[43m(\u001b[49m\u001b[43m)\u001b[49m\u001b[43m[\u001b[49m\u001b[38;5;124;43m'\u001b[39;49m\u001b[38;5;124;43md\u001b[39;49m\u001b[38;5;124;43m'\u001b[39;49m\u001b[43m]\u001b[49m)\n",
      "\u001b[1;31mKeyError\u001b[0m: 'd'"
     ]
    }
   ],
   "source": [
    "import datetime\n",
    "import pandas as pd\n",
    "from dateutil.relativedelta import relativedelta\n",
    "from jugaad_data.nse import index_raw\n",
    "\n",
    "n_years = 3 # Parameter for historical years\n",
    "\n",
    "def convert_to_date(date_str):\n",
    "    date_obj = datetime.datetime.strptime(date_str, '%d %b %Y')\n",
    "    return date_obj\n",
    "\n",
    "# Get from and to dates\n",
    "to_date = datetime.date.today()\n",
    "from_date = to_date - relativedelta(years=n_years)\n",
    "print(from_date, to_date)\n",
    "\n",
    "# Fetch the index data \n",
    "raw_index_data = index_raw(symbol=\"NIFTY 50\", from_date=from_date, to_date=to_date)\n",
    "\n",
    "# Converting into dataframe and processing the data\n",
    "nifty_historical_df = (pd.DataFrame(raw_index_data)\\\n",
    "                            .assign(HistoricalDate=lambda x: x['HistoricalDate'].apply(convert_to_date))\\\n",
    "                            .sort_values('HistoricalDate')\\\n",
    "                            .drop_duplicates()\\\n",
    "                            .loc[lambda x: x['Index Name'] == 'Nifty 50']\\\n",
    "                            .reset_index(drop=True))\n",
    "nifty_historical_df"
   ]
  },
  {
   "cell_type": "markdown",
   "metadata": {},
   "source": [
    "Stocks & ETFs\n",
    "\n",
    "2.1. Using jugaad_data package"
   ]
  },
  {
   "cell_type": "code",
   "execution_count": 18,
   "metadata": {},
   "outputs": [
    {
     "name": "stdout",
     "output_type": "stream",
     "text": [
      "706.75 210.49\n"
     ]
    }
   ],
   "source": [
    "from jugaad_data.nse import NSELive\n",
    "n = NSELive()\n",
    "tata_motors_price, mon100_etf = n.stock_quote('TATAMOTORS')['priceInfo']['lastPrice'], \\\n",
    "                          n.stock_quote('MON100')['priceInfo']['lastPrice']\n",
    "\n",
    "print(tata_motors_price, mon100_etf)"
   ]
  },
  {
   "cell_type": "code",
   "execution_count": 21,
   "metadata": {},
   "outputs": [
    {
     "data": {
      "text/html": [
       "<div>\n",
       "<style scoped>\n",
       "    .dataframe tbody tr th:only-of-type {\n",
       "        vertical-align: middle;\n",
       "    }\n",
       "\n",
       "    .dataframe tbody tr th {\n",
       "        vertical-align: top;\n",
       "    }\n",
       "\n",
       "    .dataframe thead th {\n",
       "        text-align: right;\n",
       "    }\n",
       "</style>\n",
       "<table border=\"1\" class=\"dataframe\">\n",
       "  <thead>\n",
       "    <tr style=\"text-align: right;\">\n",
       "      <th></th>\n",
       "      <th>DATE</th>\n",
       "      <th>SERIES</th>\n",
       "      <th>OPEN</th>\n",
       "      <th>HIGH</th>\n",
       "      <th>LOW</th>\n",
       "      <th>PREV. CLOSE</th>\n",
       "      <th>LTP</th>\n",
       "      <th>CLOSE</th>\n",
       "      <th>VWAP</th>\n",
       "      <th>52W H</th>\n",
       "      <th>52W L</th>\n",
       "      <th>VOLUME</th>\n",
       "      <th>VALUE</th>\n",
       "      <th>NO OF TRADES</th>\n",
       "      <th>SYMBOL</th>\n",
       "    </tr>\n",
       "  </thead>\n",
       "  <tbody>\n",
       "    <tr>\n",
       "      <th>0</th>\n",
       "      <td>2023-01-05</td>\n",
       "      <td>EQ</td>\n",
       "      <td>387.9</td>\n",
       "      <td>388.75</td>\n",
       "      <td>382.5</td>\n",
       "      <td>385.60</td>\n",
       "      <td>387.00</td>\n",
       "      <td>386.9</td>\n",
       "      <td>386.13</td>\n",
       "      <td>528.5</td>\n",
       "      <td>366.2</td>\n",
       "      <td>10443908</td>\n",
       "      <td>4.032692e+09</td>\n",
       "      <td>130918</td>\n",
       "      <td>TATAMOTORS</td>\n",
       "    </tr>\n",
       "    <tr>\n",
       "      <th>1</th>\n",
       "      <td>2023-01-04</td>\n",
       "      <td>EQ</td>\n",
       "      <td>394.8</td>\n",
       "      <td>394.80</td>\n",
       "      <td>385.0</td>\n",
       "      <td>393.90</td>\n",
       "      <td>385.75</td>\n",
       "      <td>385.6</td>\n",
       "      <td>387.30</td>\n",
       "      <td>528.5</td>\n",
       "      <td>366.2</td>\n",
       "      <td>16121049</td>\n",
       "      <td>6.243666e+09</td>\n",
       "      <td>172074</td>\n",
       "      <td>TATAMOTORS</td>\n",
       "    </tr>\n",
       "    <tr>\n",
       "      <th>2</th>\n",
       "      <td>2023-01-03</td>\n",
       "      <td>EQ</td>\n",
       "      <td>396.0</td>\n",
       "      <td>398.35</td>\n",
       "      <td>393.0</td>\n",
       "      <td>394.80</td>\n",
       "      <td>393.90</td>\n",
       "      <td>393.9</td>\n",
       "      <td>395.21</td>\n",
       "      <td>528.5</td>\n",
       "      <td>366.2</td>\n",
       "      <td>9431220</td>\n",
       "      <td>3.727287e+09</td>\n",
       "      <td>133270</td>\n",
       "      <td>TATAMOTORS</td>\n",
       "    </tr>\n",
       "    <tr>\n",
       "      <th>3</th>\n",
       "      <td>2023-01-02</td>\n",
       "      <td>EQ</td>\n",
       "      <td>392.5</td>\n",
       "      <td>396.00</td>\n",
       "      <td>391.0</td>\n",
       "      <td>387.95</td>\n",
       "      <td>395.00</td>\n",
       "      <td>394.8</td>\n",
       "      <td>394.17</td>\n",
       "      <td>528.5</td>\n",
       "      <td>366.2</td>\n",
       "      <td>10501357</td>\n",
       "      <td>4.139355e+09</td>\n",
       "      <td>142685</td>\n",
       "      <td>TATAMOTORS</td>\n",
       "    </tr>\n",
       "  </tbody>\n",
       "</table>\n",
       "</div>"
      ],
      "text/plain": [
       "        DATE SERIES   OPEN    HIGH    LOW  PREV. CLOSE     LTP  CLOSE    VWAP  \\\n",
       "0 2023-01-05     EQ  387.9  388.75  382.5       385.60  387.00  386.9  386.13   \n",
       "1 2023-01-04     EQ  394.8  394.80  385.0       393.90  385.75  385.6  387.30   \n",
       "2 2023-01-03     EQ  396.0  398.35  393.0       394.80  393.90  393.9  395.21   \n",
       "3 2023-01-02     EQ  392.5  396.00  391.0       387.95  395.00  394.8  394.17   \n",
       "\n",
       "   52W H  52W L    VOLUME         VALUE  NO OF TRADES      SYMBOL  \n",
       "0  528.5  366.2  10443908  4.032692e+09        130918  TATAMOTORS  \n",
       "1  528.5  366.2  16121049  6.243666e+09        172074  TATAMOTORS  \n",
       "2  528.5  366.2   9431220  3.727287e+09        133270  TATAMOTORS  \n",
       "3  528.5  366.2  10501357  4.139355e+09        142685  TATAMOTORS  "
      ]
     },
     "execution_count": 21,
     "metadata": {},
     "output_type": "execute_result"
    }
   ],
   "source": [
    "import datetime\n",
    "from jugaad_data.nse import stock_df\n",
    "tata_motors_stock_df = stock_df(symbol='TATAMOTORS', \n",
    "                                from_date=datetime.date(2023,1,1), \n",
    "                                to_date=datetime.date(2023,1,5), \n",
    "                                series=\"EQ\")\n",
    "tata_motors_stock_df"
   ]
  },
  {
   "cell_type": "code",
   "execution_count": 22,
   "metadata": {},
   "outputs": [
    {
     "name": "stderr",
     "output_type": "stream",
     "text": [
      "[*********************100%***********************]  1 of 1 completed\n"
     ]
    },
    {
     "data": {
      "text/html": [
       "<div>\n",
       "<style scoped>\n",
       "    .dataframe tbody tr th:only-of-type {\n",
       "        vertical-align: middle;\n",
       "    }\n",
       "\n",
       "    .dataframe tbody tr th {\n",
       "        vertical-align: top;\n",
       "    }\n",
       "\n",
       "    .dataframe thead tr th {\n",
       "        text-align: left;\n",
       "    }\n",
       "\n",
       "    .dataframe thead tr:last-of-type th {\n",
       "        text-align: right;\n",
       "    }\n",
       "</style>\n",
       "<table border=\"1\" class=\"dataframe\">\n",
       "  <thead>\n",
       "    <tr>\n",
       "      <th>Price</th>\n",
       "      <th>Close</th>\n",
       "      <th>High</th>\n",
       "      <th>Low</th>\n",
       "      <th>Open</th>\n",
       "      <th>Volume</th>\n",
       "    </tr>\n",
       "    <tr>\n",
       "      <th>Ticker</th>\n",
       "      <th>TATAMOTORS.NS</th>\n",
       "      <th>TATAMOTORS.NS</th>\n",
       "      <th>TATAMOTORS.NS</th>\n",
       "      <th>TATAMOTORS.NS</th>\n",
       "      <th>TATAMOTORS.NS</th>\n",
       "    </tr>\n",
       "    <tr>\n",
       "      <th>Date</th>\n",
       "      <th></th>\n",
       "      <th></th>\n",
       "      <th></th>\n",
       "      <th></th>\n",
       "      <th></th>\n",
       "    </tr>\n",
       "  </thead>\n",
       "  <tbody>\n",
       "    <tr>\n",
       "      <th>2023-01-02</th>\n",
       "      <td>392.362518</td>\n",
       "      <td>393.555122</td>\n",
       "      <td>388.585991</td>\n",
       "      <td>390.076730</td>\n",
       "      <td>10501357</td>\n",
       "    </tr>\n",
       "    <tr>\n",
       "      <th>2023-01-03</th>\n",
       "      <td>391.468109</td>\n",
       "      <td>395.890648</td>\n",
       "      <td>390.573672</td>\n",
       "      <td>393.555150</td>\n",
       "      <td>9431220</td>\n",
       "    </tr>\n",
       "    <tr>\n",
       "      <th>2023-01-04</th>\n",
       "      <td>383.219360</td>\n",
       "      <td>392.362543</td>\n",
       "      <td>382.623059</td>\n",
       "      <td>392.362543</td>\n",
       "      <td>16121049</td>\n",
       "    </tr>\n",
       "    <tr>\n",
       "      <th>2023-01-05</th>\n",
       "      <td>384.511322</td>\n",
       "      <td>386.349906</td>\n",
       "      <td>380.138493</td>\n",
       "      <td>385.505148</td>\n",
       "      <td>10443908</td>\n",
       "    </tr>\n",
       "  </tbody>\n",
       "</table>\n",
       "</div>"
      ],
      "text/plain": [
       "Price              Close          High           Low          Open  \\\n",
       "Ticker     TATAMOTORS.NS TATAMOTORS.NS TATAMOTORS.NS TATAMOTORS.NS   \n",
       "Date                                                                 \n",
       "2023-01-02    392.362518    393.555122    388.585991    390.076730   \n",
       "2023-01-03    391.468109    395.890648    390.573672    393.555150   \n",
       "2023-01-04    383.219360    392.362543    382.623059    392.362543   \n",
       "2023-01-05    384.511322    386.349906    380.138493    385.505148   \n",
       "\n",
       "Price             Volume  \n",
       "Ticker     TATAMOTORS.NS  \n",
       "Date                      \n",
       "2023-01-02      10501357  \n",
       "2023-01-03       9431220  \n",
       "2023-01-04      16121049  \n",
       "2023-01-05      10443908  "
      ]
     },
     "execution_count": 22,
     "metadata": {},
     "output_type": "execute_result"
    }
   ],
   "source": [
    "import yfinance as yf\n",
    "\n",
    "# end date data is excluded \n",
    "stock_data = yf.download('TATAMOTORS.NS', start='2023-01-01', end='2023-01-06')\n",
    "stock_data"
   ]
  },
  {
   "cell_type": "code",
   "execution_count": 23,
   "metadata": {},
   "outputs": [
    {
     "data": {
      "text/plain": [
       "(3681189888, 1874246759, 706.75)"
      ]
     },
     "execution_count": 23,
     "metadata": {},
     "output_type": "execute_result"
    }
   ],
   "source": [
    "info = yf.Ticker('TATAMOTORS.NS').info\n",
    "info['sharesOutstanding'], info['floatShares'], info['currentPrice']"
   ]
  },
  {
   "cell_type": "code",
   "execution_count": null,
   "metadata": {},
   "outputs": [
    {
     "name": "stderr",
     "output_type": "stream",
     "text": [
      "[*********************100%***********************]  3 of 3 completed\n"
     ]
    }
   ],
   "source": [
    "# import yfinance as yf # pip install yfinance\n",
    "# import pandas as pd # pip install pandas\n",
    "\n",
    "# start = \"2020-01-01\"\n",
    "# end= \"2020-07-31\"\n",
    "# tickers = 'GOOG TSLA MMM'\n",
    "\n",
    "# df = yf.download(tickers, start=start, end=end)\n",
    "# df.index = df.index.strftime('%Y-%m-%d')\n",
    "# df.to_excel('stocks.xlsx')"
   ]
  },
  {
   "cell_type": "markdown",
   "metadata": {},
   "source": [
    "## Fetch the list from the NSE:\n",
    "simple requests get was not working. Turns out it needed a session may be for setting cookies etc."
   ]
  },
  {
   "cell_type": "code",
   "execution_count": 4,
   "metadata": {},
   "outputs": [],
   "source": [
    "import requests\n",
    "import pandas as pd\n",
    "import io\n",
    "\n",
    "nse_url = \"https://nsearchives.nseindia.com/content/equities/EQUITY_L.csv\"\n",
    "\n",
    "# create Session from 'real' browser\n",
    "headers = {\n",
    "    'User-Agent': 'Mozilla/5.0'\n",
    "}\n",
    "\n",
    "s = requests.Session()\n",
    "s.headers.update(headers)\n",
    "\n",
    "# do a get call now\n",
    "url = 'https://nsearchives.nseindia.com/content/equities/EQUITY_L.csv'\n",
    "r = s.get(nse_url)\n",
    "s.close()\n",
    "\n",
    "# saving it to pd df for further preprocessing\n",
    "df_nse = pd.read_csv(io.BytesIO(r.content))\n",
    "df_nse.to_csv(\"nse_all_stocks.csv\")"
   ]
  },
  {
   "cell_type": "code",
   "execution_count": 3,
   "metadata": {},
   "outputs": [
    {
     "name": "stdout",
     "output_type": "stream",
     "text": [
      "<class 'pandas.core.frame.DataFrame'>\n",
      "RangeIndex: 2105 entries, 0 to 2104\n",
      "Data columns (total 8 columns):\n",
      " #   Column            Non-Null Count  Dtype \n",
      "---  ------            --------------  ----- \n",
      " 0   SYMBOL            2105 non-null   object\n",
      " 1   NAME OF COMPANY   2105 non-null   object\n",
      " 2    SERIES           2105 non-null   object\n",
      " 3    DATE OF LISTING  2105 non-null   object\n",
      " 4    PAID UP VALUE    2105 non-null   int64 \n",
      " 5    MARKET LOT       2105 non-null   int64 \n",
      " 6    ISIN NUMBER      2105 non-null   object\n",
      " 7    FACE VALUE       2105 non-null   int64 \n",
      "dtypes: int64(3), object(5)\n",
      "memory usage: 131.7+ KB\n"
     ]
    }
   ],
   "source": [
    "df_nse.info()"
   ]
  },
  {
   "cell_type": "markdown",
   "metadata": {},
   "source": []
  },
  {
   "cell_type": "markdown",
   "metadata": {},
   "source": [
    "## Fetch the list from BSE. \n",
    "Used selenium and splinter library to automate this."
   ]
  },
  {
   "cell_type": "code",
   "execution_count": 6,
   "metadata": {},
   "outputs": [
    {
     "name": "stdout",
     "output_type": "stream",
     "text": [
      "Collecting splinter\n",
      "  Downloading splinter-0.21.0-py3-none-any.whl.metadata (3.9 kB)\n",
      "Collecting selenium\n",
      "  Downloading selenium-4.28.1-py3-none-any.whl.metadata (7.1 kB)\n",
      "Requirement already satisfied: urllib3<3.0,>=1.26.14 in c:\\users\\om\\appdata\\local\\programs\\python\\python312\\lib\\site-packages (from splinter) (2.2.3)\n",
      "Collecting trio~=0.17 (from selenium)\n",
      "  Downloading trio-0.28.0-py3-none-any.whl.metadata (8.5 kB)\n",
      "Collecting trio-websocket~=0.9 (from selenium)\n",
      "  Downloading trio_websocket-0.11.1-py3-none-any.whl.metadata (4.7 kB)\n",
      "Requirement already satisfied: certifi>=2021.10.8 in c:\\users\\om\\appdata\\local\\programs\\python\\python312\\lib\\site-packages (from selenium) (2024.8.30)\n",
      "Requirement already satisfied: typing_extensions~=4.9 in c:\\users\\om\\appdata\\local\\programs\\python\\python312\\lib\\site-packages (from selenium) (4.12.2)\n",
      "Requirement already satisfied: websocket-client~=1.8 in c:\\users\\om\\appdata\\local\\programs\\python\\python312\\lib\\site-packages (from selenium) (1.8.0)\n",
      "Requirement already satisfied: attrs>=23.2.0 in c:\\users\\om\\appdata\\local\\programs\\python\\python312\\lib\\site-packages (from trio~=0.17->selenium) (24.2.0)\n",
      "Collecting sortedcontainers (from trio~=0.17->selenium)\n",
      "  Downloading sortedcontainers-2.4.0-py2.py3-none-any.whl.metadata (10 kB)\n",
      "Requirement already satisfied: idna in c:\\users\\om\\appdata\\local\\programs\\python\\python312\\lib\\site-packages (from trio~=0.17->selenium) (3.10)\n",
      "Collecting outcome (from trio~=0.17->selenium)\n",
      "  Downloading outcome-1.3.0.post0-py2.py3-none-any.whl.metadata (2.6 kB)\n",
      "Requirement already satisfied: sniffio>=1.3.0 in c:\\users\\om\\appdata\\local\\programs\\python\\python312\\lib\\site-packages (from trio~=0.17->selenium) (1.3.1)\n",
      "Requirement already satisfied: cffi>=1.14 in c:\\users\\om\\appdata\\local\\programs\\python\\python312\\lib\\site-packages (from trio~=0.17->selenium) (1.17.1)\n",
      "Collecting wsproto>=0.14 (from trio-websocket~=0.9->selenium)\n",
      "  Downloading wsproto-1.2.0-py3-none-any.whl.metadata (5.6 kB)\n",
      "Collecting pysocks!=1.5.7,<2.0,>=1.5.6 (from urllib3[socks]<3,>=1.26->selenium)\n",
      "  Downloading PySocks-1.7.1-py3-none-any.whl.metadata (13 kB)\n",
      "Requirement already satisfied: pycparser in c:\\users\\om\\appdata\\local\\programs\\python\\python312\\lib\\site-packages (from cffi>=1.14->trio~=0.17->selenium) (2.22)\n",
      "Requirement already satisfied: h11<1,>=0.9.0 in c:\\users\\om\\appdata\\local\\programs\\python\\python312\\lib\\site-packages (from wsproto>=0.14->trio-websocket~=0.9->selenium) (0.14.0)\n",
      "Downloading splinter-0.21.0-py3-none-any.whl (40 kB)\n",
      "Downloading selenium-4.28.1-py3-none-any.whl (9.5 MB)\n",
      "   ---------------------------------------- 0.0/9.5 MB ? eta -:--:--\n",
      "   ---------------------------------------- 0.0/9.5 MB ? eta -:--:--\n",
      "   - -------------------------------------- 0.3/9.5 MB ? eta -:--:--\n",
      "   -- ------------------------------------- 0.5/9.5 MB 762.0 kB/s eta 0:00:12\n",
      "   -- ------------------------------------- 0.5/9.5 MB 762.0 kB/s eta 0:00:12\n",
      "   --- ------------------------------------ 0.8/9.5 MB 713.3 kB/s eta 0:00:13\n",
      "   --- ------------------------------------ 0.8/9.5 MB 713.3 kB/s eta 0:00:13\n",
      "   ---- ----------------------------------- 1.0/9.5 MB 679.7 kB/s eta 0:00:13\n",
      "   ---- ----------------------------------- 1.0/9.5 MB 679.7 kB/s eta 0:00:13\n",
      "   ----- ---------------------------------- 1.3/9.5 MB 664.1 kB/s eta 0:00:13\n",
      "   ----- ---------------------------------- 1.3/9.5 MB 664.1 kB/s eta 0:00:13\n",
      "   ------ --------------------------------- 1.6/9.5 MB 670.8 kB/s eta 0:00:12\n",
      "   ------ --------------------------------- 1.6/9.5 MB 670.8 kB/s eta 0:00:12\n",
      "   ------- -------------------------------- 1.8/9.5 MB 671.0 kB/s eta 0:00:12\n",
      "   ------- -------------------------------- 1.8/9.5 MB 671.0 kB/s eta 0:00:12\n",
      "   -------- ------------------------------- 2.1/9.5 MB 674.9 kB/s eta 0:00:12\n",
      "   -------- ------------------------------- 2.1/9.5 MB 674.9 kB/s eta 0:00:12\n",
      "   -------- ------------------------------- 2.1/9.5 MB 674.9 kB/s eta 0:00:12\n",
      "   -------- ------------------------------- 2.1/9.5 MB 674.9 kB/s eta 0:00:12\n",
      "   --------- ------------------------------ 2.4/9.5 MB 573.5 kB/s eta 0:00:13\n",
      "   ----------- ---------------------------- 2.6/9.5 MB 599.1 kB/s eta 0:00:12\n",
      "   ----------- ---------------------------- 2.6/9.5 MB 599.1 kB/s eta 0:00:12\n",
      "   ------------ --------------------------- 2.9/9.5 MB 610.1 kB/s eta 0:00:11\n",
      "   ------------ --------------------------- 2.9/9.5 MB 610.1 kB/s eta 0:00:11\n",
      "   ------------- -------------------------- 3.1/9.5 MB 615.1 kB/s eta 0:00:11\n",
      "   ------------- -------------------------- 3.1/9.5 MB 615.1 kB/s eta 0:00:11\n",
      "   -------------- ------------------------- 3.4/9.5 MB 619.4 kB/s eta 0:00:10\n",
      "   -------------- ------------------------- 3.4/9.5 MB 619.4 kB/s eta 0:00:10\n",
      "   --------------- ------------------------ 3.7/9.5 MB 621.3 kB/s eta 0:00:10\n",
      "   ---------------- ----------------------- 3.9/9.5 MB 623.0 kB/s eta 0:00:09\n",
      "   ---------------- ----------------------- 3.9/9.5 MB 623.0 kB/s eta 0:00:09\n",
      "   ----------------- ---------------------- 4.2/9.5 MB 629.1 kB/s eta 0:00:09\n",
      "   ----------------- ---------------------- 4.2/9.5 MB 629.1 kB/s eta 0:00:09\n",
      "   ------------------ --------------------- 4.5/9.5 MB 631.6 kB/s eta 0:00:09\n",
      "   ------------------ --------------------- 4.5/9.5 MB 631.6 kB/s eta 0:00:09\n",
      "   ------------------- -------------------- 4.7/9.5 MB 629.5 kB/s eta 0:00:08\n",
      "   ------------------- -------------------- 4.7/9.5 MB 629.5 kB/s eta 0:00:08\n",
      "   -------------------- ------------------- 5.0/9.5 MB 633.0 kB/s eta 0:00:08\n",
      "   -------------------- ------------------- 5.0/9.5 MB 633.0 kB/s eta 0:00:08\n",
      "   ---------------------- ----------------- 5.2/9.5 MB 633.7 kB/s eta 0:00:07\n",
      "   ---------------------- ----------------- 5.2/9.5 MB 633.7 kB/s eta 0:00:07\n",
      "   ----------------------- ---------------- 5.5/9.5 MB 635.5 kB/s eta 0:00:07\n",
      "   ------------------------ --------------- 5.8/9.5 MB 637.1 kB/s eta 0:00:06\n",
      "   ------------------------ --------------- 5.8/9.5 MB 637.1 kB/s eta 0:00:06\n",
      "   ------------------------- -------------- 6.0/9.5 MB 637.5 kB/s eta 0:00:06\n",
      "   ------------------------- -------------- 6.0/9.5 MB 637.5 kB/s eta 0:00:06\n",
      "   -------------------------- ------------- 6.3/9.5 MB 640.9 kB/s eta 0:00:06\n",
      "   -------------------------- ------------- 6.3/9.5 MB 640.9 kB/s eta 0:00:06\n",
      "   --------------------------- ------------ 6.6/9.5 MB 639.1 kB/s eta 0:00:05\n",
      "   --------------------------- ------------ 6.6/9.5 MB 639.1 kB/s eta 0:00:05\n",
      "   ---------------------------- ----------- 6.8/9.5 MB 641.3 kB/s eta 0:00:05\n",
      "   ---------------------------- ----------- 6.8/9.5 MB 641.3 kB/s eta 0:00:05\n",
      "   ----------------------------- ---------- 7.1/9.5 MB 642.4 kB/s eta 0:00:04\n",
      "   ----------------------------- ---------- 7.1/9.5 MB 642.4 kB/s eta 0:00:04\n",
      "   ------------------------------ --------- 7.3/9.5 MB 642.5 kB/s eta 0:00:04\n",
      "   ------------------------------- -------- 7.6/9.5 MB 644.4 kB/s eta 0:00:03\n",
      "   ------------------------------- -------- 7.6/9.5 MB 644.4 kB/s eta 0:00:03\n",
      "   --------------------------------- ------ 7.9/9.5 MB 644.4 kB/s eta 0:00:03\n",
      "   --------------------------------- ------ 7.9/9.5 MB 644.4 kB/s eta 0:00:03\n",
      "   ---------------------------------- ----- 8.1/9.5 MB 645.3 kB/s eta 0:00:03\n",
      "   ---------------------------------- ----- 8.1/9.5 MB 645.3 kB/s eta 0:00:03\n",
      "   ----------------------------------- ---- 8.4/9.5 MB 646.0 kB/s eta 0:00:02\n",
      "   ----------------------------------- ---- 8.4/9.5 MB 646.0 kB/s eta 0:00:02\n",
      "   ------------------------------------ --- 8.7/9.5 MB 646.0 kB/s eta 0:00:02\n",
      "   ------------------------------------ --- 8.7/9.5 MB 646.0 kB/s eta 0:00:02\n",
      "   ------------------------------------- -- 8.9/9.5 MB 646.8 kB/s eta 0:00:01\n",
      "   ------------------------------------- -- 8.9/9.5 MB 646.8 kB/s eta 0:00:01\n",
      "   -------------------------------------- - 9.2/9.5 MB 647.5 kB/s eta 0:00:01\n",
      "   -------------------------------------- - 9.2/9.5 MB 647.5 kB/s eta 0:00:01\n",
      "   ---------------------------------------- 9.5/9.5 MB 646.8 kB/s eta 0:00:00\n",
      "Downloading trio-0.28.0-py3-none-any.whl (486 kB)\n",
      "Downloading trio_websocket-0.11.1-py3-none-any.whl (17 kB)\n",
      "Downloading PySocks-1.7.1-py3-none-any.whl (16 kB)\n",
      "Downloading wsproto-1.2.0-py3-none-any.whl (24 kB)\n",
      "Downloading outcome-1.3.0.post0-py2.py3-none-any.whl (10 kB)\n",
      "Downloading sortedcontainers-2.4.0-py2.py3-none-any.whl (29 kB)\n",
      "Installing collected packages: sortedcontainers, wsproto, splinter, pysocks, outcome, trio, trio-websocket, selenium\n",
      "Successfully installed outcome-1.3.0.post0 pysocks-1.7.1 selenium-4.28.1 sortedcontainers-2.4.0 splinter-0.21.0 trio-0.28.0 trio-websocket-0.11.1 wsproto-1.2.0\n",
      "Note: you may need to restart the kernel to use updated packages.\n"
     ]
    },
    {
     "name": "stderr",
     "output_type": "stream",
     "text": [
      "\n",
      "[notice] A new release of pip is available: 25.0 -> 25.0.1\n",
      "[notice] To update, run: python.exe -m pip install --upgrade pip\n"
     ]
    }
   ],
   "source": [
    "%pip install splinter selenium"
   ]
  },
  {
   "cell_type": "code",
   "execution_count": 8,
   "metadata": {},
   "outputs": [],
   "source": [
    "# from splinter import Browser\n",
    "# from selenium import webdriver\n",
    "# import time, os\n",
    "\n",
    "# download_dir = \"/tmp\"\n",
    "# bse_link = \"'https://mock.bseindia.com/corporates/List_Scrips.html'\"\n",
    "\n",
    "# # change download directory if required\n",
    "# prefs = {\"download.default_directory\": download_dir};\n",
    "\n",
    "# options = webdriver.ChromeOptions()\n",
    "# options.add_experimental_option(\"prefs\", prefs)\n",
    "\n",
    "# # intiate browser \n",
    "# browser = Browser('chrome', options=options, headless=True)\n",
    "\n",
    "# # visit link\n",
    "# browser.visit(bse_link)\n",
    "\n",
    "# # fill out form fields\n",
    "# browser.find_by_id('ddlsegment').select(\"Equity\")\n",
    "# browser.find_by_id('ddlstatus').select(\"Active\")\n",
    "\n",
    "# # hit submit button\n",
    "# browser.find_by_id('btnSubmit').click()\n",
    "\n",
    "# # let the table load \n",
    "# browser.is_element_present_by_text(\"Issuer Name\")\n",
    "# time.sleep(5)\n",
    "\n",
    "# # download\n",
    "# browser.find_by_id('lnkDownload').click()\n",
    "\n",
    "# df_bse = pd.read_csv(os.path.join(download_dir, \"Equity.csv\"))\n",
    "# df_bse.to_csv(\"BSe_allStocks.csv\")"
   ]
  },
  {
   "cell_type": "code",
   "execution_count": 9,
   "metadata": {},
   "outputs": [
    {
     "name": "stdout",
     "output_type": "stream",
     "text": [
      "Collecting bse\n",
      "  Downloading bse-2.0.1-py3-none-any.whl.metadata (2.8 kB)\n",
      "Collecting mthrottle>=0.0.1 (from bse)\n",
      "  Downloading mthrottle-0.0.2-py3-none-any.whl.metadata (2.6 kB)\n",
      "Requirement already satisfied: requests>=2.31.0 in c:\\users\\om\\appdata\\local\\programs\\python\\python312\\lib\\site-packages (from bse) (2.32.3)\n",
      "Requirement already satisfied: charset-normalizer<4,>=2 in c:\\users\\om\\appdata\\local\\programs\\python\\python312\\lib\\site-packages (from requests>=2.31.0->bse) (3.3.2)\n",
      "Requirement already satisfied: idna<4,>=2.5 in c:\\users\\om\\appdata\\local\\programs\\python\\python312\\lib\\site-packages (from requests>=2.31.0->bse) (3.10)\n",
      "Requirement already satisfied: urllib3<3,>=1.21.1 in c:\\users\\om\\appdata\\local\\programs\\python\\python312\\lib\\site-packages (from requests>=2.31.0->bse) (2.2.3)\n",
      "Requirement already satisfied: certifi>=2017.4.17 in c:\\users\\om\\appdata\\local\\programs\\python\\python312\\lib\\site-packages (from requests>=2.31.0->bse) (2024.8.30)\n",
      "Downloading bse-2.0.1-py3-none-any.whl (24 kB)\n",
      "Downloading mthrottle-0.0.2-py3-none-any.whl (15 kB)\n",
      "Installing collected packages: mthrottle, bse\n",
      "Successfully installed bse-2.0.1 mthrottle-0.0.2\n",
      "Note: you may need to restart the kernel to use updated packages.\n"
     ]
    },
    {
     "name": "stderr",
     "output_type": "stream",
     "text": [
      "\n",
      "[notice] A new release of pip is available: 25.0 -> 25.0.1\n",
      "[notice] To update, run: python.exe -m pip install --upgrade pip\n"
     ]
    }
   ],
   "source": [
    "%pip install -U bse"
   ]
  },
  {
   "cell_type": "code",
   "execution_count": null,
   "metadata": {},
   "outputs": [],
   "source": [
    "# from bse import BSE\n",
    "# from bse.constants import INDEX\n",
    "\n",
    "# bse = BSE(download_folder='./')\n",
    "\n",
    "# code = bse.getScripCode('tcs')  # 532540 bse scrip code\n",
    "\n",
    "# gainers = bse.gainers(by='index', name=INDEX.BSE500)\n",
    "\n",
    "# bse.exit()  # close the request session"
   ]
  },
  {
   "cell_type": "code",
   "execution_count": null,
   "metadata": {},
   "outputs": [],
   "source": []
  }
 ],
 "metadata": {
  "kernelspec": {
   "display_name": "Python 3",
   "language": "python",
   "name": "python3"
  },
  "language_info": {
   "codemirror_mode": {
    "name": "ipython",
    "version": 3
   },
   "file_extension": ".py",
   "mimetype": "text/x-python",
   "name": "python",
   "nbconvert_exporter": "python",
   "pygments_lexer": "ipython3",
   "version": "3.12.0"
  }
 },
 "nbformat": 4,
 "nbformat_minor": 2
}
