{
 "cells": [
  {
   "cell_type": "code",
   "execution_count": 1,
   "metadata": {},
   "outputs": [],
   "source": [
    "# %pip install -r requirements.txt"
   ]
  },
  {
   "cell_type": "code",
   "execution_count": 1,
   "metadata": {},
   "outputs": [],
   "source": [
    "import datetime as dt\n",
    "import pandas as pd\n",
    "import pandas_datareader as pdr\n",
    "import datetime as dt\n",
    "import time\n",
    "import yfinance as yf"
   ]
  },
  {
   "cell_type": "code",
   "execution_count": 3,
   "metadata": {},
   "outputs": [
    {
     "data": {
      "text/html": [
       "<div>\n",
       "<style scoped>\n",
       "    .dataframe tbody tr th:only-of-type {\n",
       "        vertical-align: middle;\n",
       "    }\n",
       "\n",
       "    .dataframe tbody tr th {\n",
       "        vertical-align: top;\n",
       "    }\n",
       "\n",
       "    .dataframe thead th {\n",
       "        text-align: right;\n",
       "    }\n",
       "</style>\n",
       "<table border=\"1\" class=\"dataframe\">\n",
       "  <thead>\n",
       "    <tr style=\"text-align: right;\">\n",
       "      <th></th>\n",
       "      <th>SYMBOL \\n</th>\n",
       "      <th>OPEN \\n</th>\n",
       "      <th>HIGH \\n</th>\n",
       "      <th>LOW \\n</th>\n",
       "      <th>PREV. CLOSE \\n</th>\n",
       "      <th>LTP \\n</th>\n",
       "      <th>INDICATIVE CLOSE \\n</th>\n",
       "      <th>CHNG \\n</th>\n",
       "      <th>%CHNG \\n</th>\n",
       "      <th>VOLUME \\n(shares)</th>\n",
       "      <th>VALUE \\n (₹ Crores)</th>\n",
       "      <th>52W H \\n</th>\n",
       "      <th>52W L \\n</th>\n",
       "      <th>30 D   %CHNG \\n</th>\n",
       "      <th>365 D % CHNG \\n 09-Feb-2024</th>\n",
       "    </tr>\n",
       "  </thead>\n",
       "  <tbody>\n",
       "    <tr>\n",
       "      <th>0</th>\n",
       "      <td>NIFTY MIDCAP 150</td>\n",
       "      <td>19,817.25</td>\n",
       "      <td>19,843.20</td>\n",
       "      <td>19,348.05</td>\n",
       "      <td>19,819.60</td>\n",
       "      <td>19,406.95</td>\n",
       "      <td>-</td>\n",
       "      <td>-412.65</td>\n",
       "      <td>-2.08</td>\n",
       "      <td>61,81,22,179</td>\n",
       "      <td>16,202.41</td>\n",
       "      <td>22,515.40</td>\n",
       "      <td>16,717.95</td>\n",
       "      <td>-2.14</td>\n",
       "      <td>10.09</td>\n",
       "    </tr>\n",
       "    <tr>\n",
       "      <th>1</th>\n",
       "      <td>BERGEPAINT</td>\n",
       "      <td>479.35</td>\n",
       "      <td>487.50</td>\n",
       "      <td>473.10</td>\n",
       "      <td>479.35</td>\n",
       "      <td>485.65</td>\n",
       "      <td>-</td>\n",
       "      <td>6.30</td>\n",
       "      <td>1.31</td>\n",
       "      <td>8,65,565</td>\n",
       "      <td>41.68</td>\n",
       "      <td>629.50</td>\n",
       "      <td>437.75</td>\n",
       "      <td>4.01</td>\n",
       "      <td>-13.47</td>\n",
       "    </tr>\n",
       "    <tr>\n",
       "      <th>2</th>\n",
       "      <td>UNOMINDA</td>\n",
       "      <td>1,061.60</td>\n",
       "      <td>1,078.90</td>\n",
       "      <td>1,037.70</td>\n",
       "      <td>1,052.75</td>\n",
       "      <td>1,066.50</td>\n",
       "      <td>-</td>\n",
       "      <td>13.75</td>\n",
       "      <td>1.31</td>\n",
       "      <td>9,39,612</td>\n",
       "      <td>99.24</td>\n",
       "      <td>1,255.00</td>\n",
       "      <td>604.55</td>\n",
       "      <td>-4.09</td>\n",
       "      <td>64.49</td>\n",
       "    </tr>\n",
       "    <tr>\n",
       "      <th>3</th>\n",
       "      <td>PAGEIND</td>\n",
       "      <td>42,983.05</td>\n",
       "      <td>43,941.15</td>\n",
       "      <td>42,801.95</td>\n",
       "      <td>42,983.05</td>\n",
       "      <td>43,400.00</td>\n",
       "      <td>-</td>\n",
       "      <td>416.95</td>\n",
       "      <td>0.97</td>\n",
       "      <td>47,493</td>\n",
       "      <td>206.39</td>\n",
       "      <td>49,849.95</td>\n",
       "      <td>33,070.05</td>\n",
       "      <td>-8.05</td>\n",
       "      <td>18.40</td>\n",
       "    </tr>\n",
       "    <tr>\n",
       "      <th>4</th>\n",
       "      <td>ESCORTS</td>\n",
       "      <td>3,303.00</td>\n",
       "      <td>3,349.00</td>\n",
       "      <td>3,270.00</td>\n",
       "      <td>3,269.70</td>\n",
       "      <td>3,300.00</td>\n",
       "      <td>-</td>\n",
       "      <td>30.30</td>\n",
       "      <td>0.93</td>\n",
       "      <td>2,91,281</td>\n",
       "      <td>96.69</td>\n",
       "      <td>4,420.00</td>\n",
       "      <td>2,648.40</td>\n",
       "      <td>-4.00</td>\n",
       "      <td>16.47</td>\n",
       "    </tr>\n",
       "  </tbody>\n",
       "</table>\n",
       "</div>"
      ],
      "text/plain": [
       "          SYMBOL \\n    OPEN \\n    HIGH \\n     LOW \\n PREV. CLOSE \\n  \\\n",
       "0  NIFTY MIDCAP 150  19,817.25  19,843.20  19,348.05      19,819.60   \n",
       "1        BERGEPAINT     479.35     487.50     473.10         479.35   \n",
       "2          UNOMINDA   1,061.60   1,078.90   1,037.70       1,052.75   \n",
       "3           PAGEIND  42,983.05  43,941.15  42,801.95      42,983.05   \n",
       "4           ESCORTS   3,303.00   3,349.00   3,270.00       3,269.70   \n",
       "\n",
       "      LTP \\n INDICATIVE CLOSE \\n  CHNG \\n  %CHNG \\n VOLUME \\n(shares)  \\\n",
       "0  19,406.95                   -  -412.65     -2.08      61,81,22,179   \n",
       "1     485.65                   -     6.30      1.31          8,65,565   \n",
       "2   1,066.50                   -    13.75      1.31          9,39,612   \n",
       "3  43,400.00                   -   416.95      0.97            47,493   \n",
       "4   3,300.00                   -    30.30      0.93          2,91,281   \n",
       "\n",
       "  VALUE \\n (₹ Crores)   52W H \\n   52W L \\n 30 D   %CHNG \\n  \\\n",
       "0           16,202.41  22,515.40  16,717.95           -2.14   \n",
       "1               41.68     629.50     437.75            4.01   \n",
       "2               99.24   1,255.00     604.55           -4.09   \n",
       "3              206.39  49,849.95  33,070.05           -8.05   \n",
       "4               96.69   4,420.00   2,648.40           -4.00   \n",
       "\n",
       "  365 D % CHNG \\n 09-Feb-2024  \n",
       "0                       10.09  \n",
       "1                      -13.47  \n",
       "2                       64.49  \n",
       "3                       18.40  \n",
       "4                       16.47  "
      ]
     },
     "execution_count": 3,
     "metadata": {},
     "output_type": "execute_result"
    }
   ],
   "source": [
    "df_nifty150=pd.read_csv(\"MW-NIFTY-MIDCAP-150-10-Feb-2025.csv\")\n",
    "df_nifty150.head()"
   ]
  },
  {
   "cell_type": "code",
   "execution_count": 4,
   "metadata": {},
   "outputs": [
    {
     "name": "stdout",
     "output_type": "stream",
     "text": [
      "['BERGEPAINT', 'UNOMINDA', 'PAGEIND', 'ESCORTS', 'SOLARINDS', 'TIMKEN', 'FLUOROCHEM', 'CUMMINSIND', 'UBL', 'PATANJALI', '3MINDIA', 'SONACOMS', 'COCHINSHIP', 'AIAENG', 'METROBRAND', 'BHARATFORG', 'M&MFIN', 'COROMANDEL', 'EMAMILTD', 'PIIND', 'MANKIND', 'POWERINDIA', 'BDL', 'FEDERALBNK', 'KPRMILL', 'PETRONET', 'ABBOTINDIA', 'KPITTECH', 'APOLLOTYRE', 'LTF', 'MARICO', 'TATAELXSI', 'TATATECH', 'SRF', 'AUROPHARMA', 'TATAINVEST', 'JSWINFRA', 'UPL', 'JUBLFOOD', 'ZFCVINDIA', 'HINDPETRO', 'HINDZINC', 'SJVN', 'MAZDOCK', 'PHOENIXLTD', 'ABCAPITAL', 'GMRAIRPORT', 'SUZLON', 'ASHOKLEY', 'COLPAL', 'DALBHARAT', 'OBEROIRLTY', 'JKCEMENT', 'MAHABANK', 'VOLTAS', 'BSE', 'SYNGENE', 'EXIDEIND', 'TIINDIA', 'COFORGE', 'ASTRAL', 'LTTS', 'MRF', 'NYKAA', 'HDFCAMC', 'IOB', 'LUPIN', 'SKFINDIA', 'IDFCFIRSTB', 'PRESTIGE', 'IGL', 'ENDURANCE', 'CONCOR', 'JSL', 'INDHOTEL', 'OFSS', 'APLAPOLLO', 'MRPL', 'BALKRISIND', 'ACC', 'MUTHOOTFIN', 'AUBANK', 'BANKINDIA', 'SCHAEFFLER', 'GLAND', 'MFSL', 'CRISIL', 'TATACOMM', 'SBICARD', 'MSUMI', 'TATACHEM', 'IREDA', 'BANDHANBNK', 'DIXON', 'POONAWALLA', 'BIOCON', 'BAYERCROP', 'YESBANK', 'IRB', 'DEEPAKNTR', 'SUPREMEIND', 'PGHH', 'NIACL', 'MPHASIS', 'LICHSGFIN', 'KEI', 'MEDANTA', 'SUNDARMFIN', 'LINDEINDIA', 'KALYANKJIL', 'INDUSTOWER', 'HUDCO', 'HONAUT', 'NAM-INDIA', 'GLAXO', 'AWL', 'GODREJPROP', 'IDBI', 'AJANTPHARM', 'FORTIS', 'LLOYDSME', 'GRINDWELL', 'INDIANB', 'IDEA', 'RVNL', 'STARHEALTH', 'NLCINDIA', 'GUJGASLTD', 'POLICYBZR', 'POLYCAB', 'THERMAX', 'FACT', 'SUNDRMFAST', 'PERSISTENT', 'NMDC', 'GODREJIND', 'TORNTPOWER', 'SUNTV', 'IPCALAB', 'CGPOWER', 'PAYTM', 'GICRE', 'ABFRL', 'SAIL', 'OIL', 'CARBORUNIV', 'DELHIVERY', 'MAXHEALTH', 'BHARTIHEXA', 'ALKEM']\n"
     ]
    }
   ],
   "source": [
    "nifty150Symbols=list(df_nifty150[\"SYMBOL \\n\"])\n",
    "nifty150Symbols=nifty150Symbols[1:] #removing NIFTY 500 symbol\n",
    "print(nifty150Symbols)"
   ]
  },
  {
   "cell_type": "code",
   "execution_count": 5,
   "metadata": {},
   "outputs": [
    {
     "name": "stdout",
     "output_type": "stream",
     "text": [
      "['BERGEPAINT.ns', 'UNOMINDA.ns', 'PAGEIND.ns', 'ESCORTS.ns', 'SOLARINDS.ns', 'TIMKEN.ns', 'FLUOROCHEM.ns', 'CUMMINSIND.ns', 'UBL.ns', 'PATANJALI.ns', '3MINDIA.ns', 'SONACOMS.ns', 'COCHINSHIP.ns', 'AIAENG.ns', 'METROBRAND.ns', 'BHARATFORG.ns', 'M&MFIN.ns', 'COROMANDEL.ns', 'EMAMILTD.ns', 'PIIND.ns', 'MANKIND.ns', 'POWERINDIA.ns', 'BDL.ns', 'FEDERALBNK.ns', 'KPRMILL.ns', 'PETRONET.ns', 'ABBOTINDIA.ns', 'KPITTECH.ns', 'APOLLOTYRE.ns', 'LTF.ns', 'MARICO.ns', 'TATAELXSI.ns', 'TATATECH.ns', 'SRF.ns', 'AUROPHARMA.ns', 'TATAINVEST.ns', 'JSWINFRA.ns', 'UPL.ns', 'JUBLFOOD.ns', 'ZFCVINDIA.ns', 'HINDPETRO.ns', 'HINDZINC.ns', 'SJVN.ns', 'MAZDOCK.ns', 'PHOENIXLTD.ns', 'ABCAPITAL.ns', 'GMRAIRPORT.ns', 'SUZLON.ns', 'ASHOKLEY.ns', 'COLPAL.ns', 'DALBHARAT.ns', 'OBEROIRLTY.ns', 'JKCEMENT.ns', 'MAHABANK.ns', 'VOLTAS.ns', 'BSE.ns', 'SYNGENE.ns', 'EXIDEIND.ns', 'TIINDIA.ns', 'COFORGE.ns', 'ASTRAL.ns', 'LTTS.ns', 'MRF.ns', 'NYKAA.ns', 'HDFCAMC.ns', 'IOB.ns', 'LUPIN.ns', 'SKFINDIA.ns', 'IDFCFIRSTB.ns', 'PRESTIGE.ns', 'IGL.ns', 'ENDURANCE.ns', 'CONCOR.ns', 'JSL.ns', 'INDHOTEL.ns', 'OFSS.ns', 'APLAPOLLO.ns', 'MRPL.ns', 'BALKRISIND.ns', 'ACC.ns', 'MUTHOOTFIN.ns', 'AUBANK.ns', 'BANKINDIA.ns', 'SCHAEFFLER.ns', 'GLAND.ns', 'MFSL.ns', 'CRISIL.ns', 'TATACOMM.ns', 'SBICARD.ns', 'MSUMI.ns', 'TATACHEM.ns', 'IREDA.ns', 'BANDHANBNK.ns', 'DIXON.ns', 'POONAWALLA.ns', 'BIOCON.ns', 'BAYERCROP.ns', 'YESBANK.ns', 'IRB.ns', 'DEEPAKNTR.ns', 'SUPREMEIND.ns', 'PGHH.ns', 'NIACL.ns', 'MPHASIS.ns', 'LICHSGFIN.ns', 'KEI.ns', 'MEDANTA.ns', 'SUNDARMFIN.ns', 'LINDEINDIA.ns', 'KALYANKJIL.ns', 'INDUSTOWER.ns', 'HUDCO.ns', 'HONAUT.ns', 'NAM-INDIA.ns', 'GLAXO.ns', 'AWL.ns', 'GODREJPROP.ns', 'IDBI.ns', 'AJANTPHARM.ns', 'FORTIS.ns', 'LLOYDSME.ns', 'GRINDWELL.ns', 'INDIANB.ns', 'IDEA.ns', 'RVNL.ns', 'STARHEALTH.ns', 'NLCINDIA.ns', 'GUJGASLTD.ns', 'POLICYBZR.ns', 'POLYCAB.ns', 'THERMAX.ns', 'FACT.ns', 'SUNDRMFAST.ns', 'PERSISTENT.ns', 'NMDC.ns', 'GODREJIND.ns', 'TORNTPOWER.ns', 'SUNTV.ns', 'IPCALAB.ns', 'CGPOWER.ns', 'PAYTM.ns', 'GICRE.ns', 'ABFRL.ns', 'SAIL.ns', 'OIL.ns', 'CARBORUNIV.ns', 'DELHIVERY.ns', 'MAXHEALTH.ns', 'BHARTIHEXA.ns', 'ALKEM.ns']\n"
     ]
    }
   ],
   "source": [
    "#converting every stock name as .NSE to get yahoo finance info\n",
    "for i in range(len(nifty150Symbols)):\n",
    "    nifty150Symbols[i]+='.ns'\n",
    "    \n",
    "print(nifty150Symbols)  "
   ]
  },
  {
   "cell_type": "code",
   "execution_count": 6,
   "metadata": {},
   "outputs": [],
   "source": [
    "#checking the stock details\n",
    "def get_info(ticker):\n",
    "    stock=yf.Ticker(ticker)\n",
    "    print(stock.info)"
   ]
  },
  {
   "cell_type": "code",
   "execution_count": 7,
   "metadata": {},
   "outputs": [],
   "source": [
    "# for i in nifty500Symbols:\n",
    "#     print(get_info(i))"
   ]
  },
  {
   "cell_type": "code",
   "execution_count": 8,
   "metadata": {},
   "outputs": [],
   "source": [
    "def save_csv(stock_name):\n",
    "    stock=yf.Ticker(stock_name)\n",
    "    df=stock.history(period=\"20y\")[\"Close\"]\n",
    "    file=stock_name.replace(\".\",\"_\")+\".csv\"\n",
    "    df.to_csv(file)"
   ]
  },
  {
   "cell_type": "code",
   "execution_count": 9,
   "metadata": {},
   "outputs": [],
   "source": [
    "for stock in nifty150Symbols:\n",
    "    save_csv(stock)"
   ]
  }
 ],
 "metadata": {
  "kernelspec": {
   "display_name": "Python 3",
   "language": "python",
   "name": "python3"
  },
  "language_info": {
   "codemirror_mode": {
    "name": "ipython",
    "version": 3
   },
   "file_extension": ".py",
   "mimetype": "text/x-python",
   "name": "python",
   "nbconvert_exporter": "python",
   "pygments_lexer": "ipython3",
   "version": "3.12.0"
  }
 },
 "nbformat": 4,
 "nbformat_minor": 2
}
