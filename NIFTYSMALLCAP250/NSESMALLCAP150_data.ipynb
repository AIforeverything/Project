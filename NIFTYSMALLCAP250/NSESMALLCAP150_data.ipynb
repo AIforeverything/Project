{
 "cells": [
  {
   "cell_type": "code",
   "execution_count": 1,
   "metadata": {},
   "outputs": [],
   "source": [
    "# %pip install -r requirements.txt"
   ]
  },
  {
   "cell_type": "code",
   "execution_count": 1,
   "metadata": {},
   "outputs": [],
   "source": [
    "import datetime as dt\n",
    "import pandas as pd\n",
    "import pandas_datareader as pdr\n",
    "import datetime as dt\n",
    "import time\n",
    "import yfinance as yf"
   ]
  },
  {
   "cell_type": "code",
   "execution_count": 3,
   "metadata": {},
   "outputs": [
    {
     "data": {
      "text/html": [
       "<div>\n",
       "<style scoped>\n",
       "    .dataframe tbody tr th:only-of-type {\n",
       "        vertical-align: middle;\n",
       "    }\n",
       "\n",
       "    .dataframe tbody tr th {\n",
       "        vertical-align: top;\n",
       "    }\n",
       "\n",
       "    .dataframe thead th {\n",
       "        text-align: right;\n",
       "    }\n",
       "</style>\n",
       "<table border=\"1\" class=\"dataframe\">\n",
       "  <thead>\n",
       "    <tr style=\"text-align: right;\">\n",
       "      <th></th>\n",
       "      <th>SYMBOL \\n</th>\n",
       "      <th>OPEN \\n</th>\n",
       "      <th>HIGH \\n</th>\n",
       "      <th>LOW \\n</th>\n",
       "      <th>PREV. CLOSE \\n</th>\n",
       "      <th>LTP \\n</th>\n",
       "      <th>INDICATIVE CLOSE \\n</th>\n",
       "      <th>CHNG \\n</th>\n",
       "      <th>%CHNG \\n</th>\n",
       "      <th>VOLUME \\n(shares)</th>\n",
       "      <th>VALUE \\n (₹ Crores)</th>\n",
       "      <th>52W H \\n</th>\n",
       "      <th>52W L \\n</th>\n",
       "      <th>30 D   %CHNG \\n</th>\n",
       "      <th>365 D % CHNG \\n 09-Feb-2024</th>\n",
       "    </tr>\n",
       "  </thead>\n",
       "  <tbody>\n",
       "    <tr>\n",
       "      <th>0</th>\n",
       "      <td>NIFTY SMALLCAP 250</td>\n",
       "      <td>16,024.05</td>\n",
       "      <td>16,066.90</td>\n",
       "      <td>15,602.05</td>\n",
       "      <td>16,035.75</td>\n",
       "      <td>15,693.60</td>\n",
       "      <td>-</td>\n",
       "      <td>-342.15</td>\n",
       "      <td>-2.13</td>\n",
       "      <td>36,94,60,452</td>\n",
       "      <td>13,073.83</td>\n",
       "      <td>18,688.30</td>\n",
       "      <td>13,284.30</td>\n",
       "      <td>-4.74</td>\n",
       "      <td>6.00</td>\n",
       "    </tr>\n",
       "    <tr>\n",
       "      <th>1</th>\n",
       "      <td>REDINGTON</td>\n",
       "      <td>233.00</td>\n",
       "      <td>244.80</td>\n",
       "      <td>229.40</td>\n",
       "      <td>231.80</td>\n",
       "      <td>242.50</td>\n",
       "      <td>-</td>\n",
       "      <td>10.70</td>\n",
       "      <td>4.62</td>\n",
       "      <td>3,43,10,073</td>\n",
       "      <td>821.38</td>\n",
       "      <td>244.80</td>\n",
       "      <td>158.61</td>\n",
       "      <td>13.57</td>\n",
       "      <td>21.81</td>\n",
       "    </tr>\n",
       "    <tr>\n",
       "      <th>2</th>\n",
       "      <td>SIGNATURE</td>\n",
       "      <td>1,265.90</td>\n",
       "      <td>1,339.50</td>\n",
       "      <td>1,250.50</td>\n",
       "      <td>1,262.55</td>\n",
       "      <td>1,311.00</td>\n",
       "      <td>-</td>\n",
       "      <td>48.45</td>\n",
       "      <td>3.84</td>\n",
       "      <td>14,07,600</td>\n",
       "      <td>182.64</td>\n",
       "      <td>1,647.00</td>\n",
       "      <td>1,040.00</td>\n",
       "      <td>0.77</td>\n",
       "      <td>-4.13</td>\n",
       "    </tr>\n",
       "    <tr>\n",
       "      <th>3</th>\n",
       "      <td>VARROC</td>\n",
       "      <td>540.00</td>\n",
       "      <td>573.75</td>\n",
       "      <td>492.85</td>\n",
       "      <td>543.50</td>\n",
       "      <td>561.00</td>\n",
       "      <td>-</td>\n",
       "      <td>17.50</td>\n",
       "      <td>3.22</td>\n",
       "      <td>14,16,591</td>\n",
       "      <td>74.38</td>\n",
       "      <td>716.90</td>\n",
       "      <td>433.00</td>\n",
       "      <td>-9.93</td>\n",
       "      <td>2.06</td>\n",
       "    </tr>\n",
       "    <tr>\n",
       "      <th>4</th>\n",
       "      <td>AVANTIFEED</td>\n",
       "      <td>720.05</td>\n",
       "      <td>750.00</td>\n",
       "      <td>718.55</td>\n",
       "      <td>720.10</td>\n",
       "      <td>742.60</td>\n",
       "      <td>-</td>\n",
       "      <td>22.50</td>\n",
       "      <td>3.12</td>\n",
       "      <td>12,52,783</td>\n",
       "      <td>92.04</td>\n",
       "      <td>793.00</td>\n",
       "      <td>472.00</td>\n",
       "      <td>19.04</td>\n",
       "      <td>35.34</td>\n",
       "    </tr>\n",
       "  </tbody>\n",
       "</table>\n",
       "</div>"
      ],
      "text/plain": [
       "            SYMBOL \\n    OPEN \\n    HIGH \\n     LOW \\n PREV. CLOSE \\n  \\\n",
       "0  NIFTY SMALLCAP 250  16,024.05  16,066.90  15,602.05      16,035.75   \n",
       "1           REDINGTON     233.00     244.80     229.40         231.80   \n",
       "2           SIGNATURE   1,265.90   1,339.50   1,250.50       1,262.55   \n",
       "3              VARROC     540.00     573.75     492.85         543.50   \n",
       "4          AVANTIFEED     720.05     750.00     718.55         720.10   \n",
       "\n",
       "      LTP \\n INDICATIVE CLOSE \\n  CHNG \\n  %CHNG \\n VOLUME \\n(shares)  \\\n",
       "0  15,693.60                   -  -342.15     -2.13      36,94,60,452   \n",
       "1     242.50                   -    10.70      4.62       3,43,10,073   \n",
       "2   1,311.00                   -    48.45      3.84         14,07,600   \n",
       "3     561.00                   -    17.50      3.22         14,16,591   \n",
       "4     742.60                   -    22.50      3.12         12,52,783   \n",
       "\n",
       "  VALUE \\n (₹ Crores)   52W H \\n   52W L \\n 30 D   %CHNG \\n  \\\n",
       "0           13,073.83  18,688.30  13,284.30           -4.74   \n",
       "1              821.38     244.80     158.61           13.57   \n",
       "2              182.64   1,647.00   1,040.00            0.77   \n",
       "3               74.38     716.90     433.00           -9.93   \n",
       "4               92.04     793.00     472.00           19.04   \n",
       "\n",
       "  365 D % CHNG \\n 09-Feb-2024  \n",
       "0                        6.00  \n",
       "1                       21.81  \n",
       "2                       -4.13  \n",
       "3                        2.06  \n",
       "4                       35.34  "
      ]
     },
     "execution_count": 3,
     "metadata": {},
     "output_type": "execute_result"
    }
   ],
   "source": [
    "df_nifty150=pd.read_csv(\"MW-NIFTY-SMALLCAP-250-10-Feb-2025.csv\")\n",
    "df_nifty150.head()"
   ]
  },
  {
   "cell_type": "code",
   "execution_count": 4,
   "metadata": {},
   "outputs": [
    {
     "name": "stdout",
     "output_type": "stream",
     "text": [
      "['REDINGTON', 'SIGNATURE', 'VARROC', 'AVANTIFEED', 'ANANTRAJ', 'DOMS', 'ENGINERSIN', 'PNCINFRA', 'AKUMS', 'PTCIL', 'LATENTVIEW', 'BALRAMCHIN', 'ISEC', 'GAEL', 'AMBER', 'CGCL', 'CRAFTSMAN', 'BATAINDIA', 'JBCHEPHARM', 'TBOTEK', 'INDIAMART', 'GESHIP', 'ANANDRATHI', 'GODFRYPHLP', 'KEC', 'JUBLPHARMA', 'RAMCOCEM', 'TTML', 'INOXWIND', 'VINATIORGA', 'IRCON', 'NCC', 'KSB', 'APLLTD', 'CAMPUS', 'GNFC', 'CASTROLIND', 'NAVINFLUOR', 'NH', 'DEVYANI', 'KIRLOSENG', 'GRSE', 'AAVAS', 'RAILTEL', 'FSL', 'SANOFI', 'NUVAMA', 'CHENNPETRO', 'CEATLTD', 'VGUARD', 'FINEORG', 'ASTRAZEN', 'RRKABEL', 'ASAHIINDIA', 'MAHLIFE', 'ELECON', 'BBTC', 'TITAGARH', 'TRIVENI', 'NSLNISP', 'KPIL', 'RENUKA', 'RAINBOW', 'MANYAVAR', 'SAREGAMA', 'ROUTE', 'TANLA', 'INDIACEM', 'JPPOWER', 'PVRINOX', 'FINPIPE', 'WELSPUNLIV', 'MMTC', 'SCHNEIDER', 'GPIL', 'ATUL', 'RAJESHEXPO', 'CESC', 'RBLBANK', 'AFFLE', 'SYRMA', 'ASTERDM', 'KNRCON', 'CUB', 'ALKYLAMINE', 'OLECTRA', 'CELLO', 'LALPATHLAB', 'CHAMBLFERT', 'TRITURBINE', 'ABREL', 'DBREALTY', 'CYIENT', 'KAJARIACER', 'CENTRALBK', 'ALOKINDS', 'TEJASNET', 'EIHOTEL', 'SPARC', 'HEG', 'ECLERX', 'GILLETTE', 'SBFC', 'SWSOLAR', 'IIFL', 'GODIGIT', 'BASF', 'UCOBANK', 'BEML', 'INOXINDIA', 'BSOFT', 'JYOTHYLAB', 'ZENSARTECH', 'CHEMPLASTS', 'EASEMYTRIP', 'JKTYRE', 'RITES', 'EQUITASBNK', 'INDGN', 'FINCABLES', 'GSFC', 'LEMONTREE', 'KARURVYSYA', 'RATNAMANI', 'TRIDENT', 'CHALET', 'VTL', 'AARTIIND', 'MASTEK', 'HAPPSTMNDS', 'CCL', 'RAYMOND', 'JWL', 'GLENMARK', 'METROPOLIS', 'PEL', 'ELGIEQUIP', 'JUSTDIAL', 'ACE', 'GRANULES', 'GVT&D', 'QUESS', 'LAURUSLABS', 'NETWORK18', 'PPLPHARMA', 'MGL', 'J&KBANK', 'RADICO', 'CERA', 'CREDITACC', 'NBCC', 'MANAPPURAM', 'APTUS', 'ANGELONE', 'IFCI', 'HOMEFIRST', 'JUBLINGREA', 'HFCL', 'MOTILALOFS', 'CLEAN', 'SHYAMMETL', 'DATAPATTNS', 'ARE&M', 'NATCOPHARM', 'NUVOCO', 'PRAJIND', 'MAHSEAMLES', 'CDSL', '360ONE', 'BLUESTARCO', 'PFIZER', 'GPPL', 'IEX', 'PNBHOUSING', 'GSPL', 'GRINFRA', 'KIRLOSBROS', 'JINDALSAW', 'MAPMYINDIA', 'INTELLECT', 'BLUEDART', 'KIMS', 'CHOLAHLDNG', 'GRAPHITE', 'BLS', 'POLYMED', 'HONASA', 'WESTLIFE', 'RHIM', 'EMCURE', 'UTIAMC', 'HINDCOPPER', 'KANSAINER', 'RTNINDIA', 'BIKAJI', 'CANFINHOME', 'GODREJAGRO', 'WELCORP', 'ABSLAMC', 'VIJAYA', 'TVSSCS', 'AEGISLOG', 'SAPPHIRE', 'HSCL', 'CIEINDIA', 'VIPIND', 'BIRLACORPN', 'JBMA', 'BALAMINES', 'RKFORGE', 'CAMS', 'NEWGEN', 'PCBL', 'ITI', 'MCX', 'HBLENGINE', 'DEEPAKFERT', 'KAYNES', 'RCF', 'AADHARHFC', 'SUVENPHAR', 'BRIGADE', 'MINDACORP', 'ZEEL', 'SWANENERGY', 'EIDPARRY', 'WHIRLPOOL', 'SAMMAANCAP', 'USHAMART', 'GMDCLTD', 'SONATSOFTW', 'CROMPTON', 'JKLAKSHMI', 'TECHNOE', 'CAPLIPOINT', 'CENTURYPLY', 'NATIONALUM', 'CONCORDBIO', 'ERIS', 'JYOTICNC', 'SUMICHEM', 'APARINDS', 'ACI', 'KFINTECH', 'SCI', 'FIVESTAR', 'SOBHA', 'UJJIVANSFB', 'JMFINANCIL', 'NETWEB']\n"
     ]
    }
   ],
   "source": [
    "nifty150Symbols=list(df_nifty150[\"SYMBOL \\n\"])\n",
    "nifty150Symbols=nifty150Symbols[1:] #removing NIFTY 500 symbol\n",
    "print(nifty150Symbols)"
   ]
  },
  {
   "cell_type": "code",
   "execution_count": 5,
   "metadata": {},
   "outputs": [
    {
     "name": "stdout",
     "output_type": "stream",
     "text": [
      "['REDINGTON.ns', 'SIGNATURE.ns', 'VARROC.ns', 'AVANTIFEED.ns', 'ANANTRAJ.ns', 'DOMS.ns', 'ENGINERSIN.ns', 'PNCINFRA.ns', 'AKUMS.ns', 'PTCIL.ns', 'LATENTVIEW.ns', 'BALRAMCHIN.ns', 'ISEC.ns', 'GAEL.ns', 'AMBER.ns', 'CGCL.ns', 'CRAFTSMAN.ns', 'BATAINDIA.ns', 'JBCHEPHARM.ns', 'TBOTEK.ns', 'INDIAMART.ns', 'GESHIP.ns', 'ANANDRATHI.ns', 'GODFRYPHLP.ns', 'KEC.ns', 'JUBLPHARMA.ns', 'RAMCOCEM.ns', 'TTML.ns', 'INOXWIND.ns', 'VINATIORGA.ns', 'IRCON.ns', 'NCC.ns', 'KSB.ns', 'APLLTD.ns', 'CAMPUS.ns', 'GNFC.ns', 'CASTROLIND.ns', 'NAVINFLUOR.ns', 'NH.ns', 'DEVYANI.ns', 'KIRLOSENG.ns', 'GRSE.ns', 'AAVAS.ns', 'RAILTEL.ns', 'FSL.ns', 'SANOFI.ns', 'NUVAMA.ns', 'CHENNPETRO.ns', 'CEATLTD.ns', 'VGUARD.ns', 'FINEORG.ns', 'ASTRAZEN.ns', 'RRKABEL.ns', 'ASAHIINDIA.ns', 'MAHLIFE.ns', 'ELECON.ns', 'BBTC.ns', 'TITAGARH.ns', 'TRIVENI.ns', 'NSLNISP.ns', 'KPIL.ns', 'RENUKA.ns', 'RAINBOW.ns', 'MANYAVAR.ns', 'SAREGAMA.ns', 'ROUTE.ns', 'TANLA.ns', 'INDIACEM.ns', 'JPPOWER.ns', 'PVRINOX.ns', 'FINPIPE.ns', 'WELSPUNLIV.ns', 'MMTC.ns', 'SCHNEIDER.ns', 'GPIL.ns', 'ATUL.ns', 'RAJESHEXPO.ns', 'CESC.ns', 'RBLBANK.ns', 'AFFLE.ns', 'SYRMA.ns', 'ASTERDM.ns', 'KNRCON.ns', 'CUB.ns', 'ALKYLAMINE.ns', 'OLECTRA.ns', 'CELLO.ns', 'LALPATHLAB.ns', 'CHAMBLFERT.ns', 'TRITURBINE.ns', 'ABREL.ns', 'DBREALTY.ns', 'CYIENT.ns', 'KAJARIACER.ns', 'CENTRALBK.ns', 'ALOKINDS.ns', 'TEJASNET.ns', 'EIHOTEL.ns', 'SPARC.ns', 'HEG.ns', 'ECLERX.ns', 'GILLETTE.ns', 'SBFC.ns', 'SWSOLAR.ns', 'IIFL.ns', 'GODIGIT.ns', 'BASF.ns', 'UCOBANK.ns', 'BEML.ns', 'INOXINDIA.ns', 'BSOFT.ns', 'JYOTHYLAB.ns', 'ZENSARTECH.ns', 'CHEMPLASTS.ns', 'EASEMYTRIP.ns', 'JKTYRE.ns', 'RITES.ns', 'EQUITASBNK.ns', 'INDGN.ns', 'FINCABLES.ns', 'GSFC.ns', 'LEMONTREE.ns', 'KARURVYSYA.ns', 'RATNAMANI.ns', 'TRIDENT.ns', 'CHALET.ns', 'VTL.ns', 'AARTIIND.ns', 'MASTEK.ns', 'HAPPSTMNDS.ns', 'CCL.ns', 'RAYMOND.ns', 'JWL.ns', 'GLENMARK.ns', 'METROPOLIS.ns', 'PEL.ns', 'ELGIEQUIP.ns', 'JUSTDIAL.ns', 'ACE.ns', 'GRANULES.ns', 'GVT&D.ns', 'QUESS.ns', 'LAURUSLABS.ns', 'NETWORK18.ns', 'PPLPHARMA.ns', 'MGL.ns', 'J&KBANK.ns', 'RADICO.ns', 'CERA.ns', 'CREDITACC.ns', 'NBCC.ns', 'MANAPPURAM.ns', 'APTUS.ns', 'ANGELONE.ns', 'IFCI.ns', 'HOMEFIRST.ns', 'JUBLINGREA.ns', 'HFCL.ns', 'MOTILALOFS.ns', 'CLEAN.ns', 'SHYAMMETL.ns', 'DATAPATTNS.ns', 'ARE&M.ns', 'NATCOPHARM.ns', 'NUVOCO.ns', 'PRAJIND.ns', 'MAHSEAMLES.ns', 'CDSL.ns', '360ONE.ns', 'BLUESTARCO.ns', 'PFIZER.ns', 'GPPL.ns', 'IEX.ns', 'PNBHOUSING.ns', 'GSPL.ns', 'GRINFRA.ns', 'KIRLOSBROS.ns', 'JINDALSAW.ns', 'MAPMYINDIA.ns', 'INTELLECT.ns', 'BLUEDART.ns', 'KIMS.ns', 'CHOLAHLDNG.ns', 'GRAPHITE.ns', 'BLS.ns', 'POLYMED.ns', 'HONASA.ns', 'WESTLIFE.ns', 'RHIM.ns', 'EMCURE.ns', 'UTIAMC.ns', 'HINDCOPPER.ns', 'KANSAINER.ns', 'RTNINDIA.ns', 'BIKAJI.ns', 'CANFINHOME.ns', 'GODREJAGRO.ns', 'WELCORP.ns', 'ABSLAMC.ns', 'VIJAYA.ns', 'TVSSCS.ns', 'AEGISLOG.ns', 'SAPPHIRE.ns', 'HSCL.ns', 'CIEINDIA.ns', 'VIPIND.ns', 'BIRLACORPN.ns', 'JBMA.ns', 'BALAMINES.ns', 'RKFORGE.ns', 'CAMS.ns', 'NEWGEN.ns', 'PCBL.ns', 'ITI.ns', 'MCX.ns', 'HBLENGINE.ns', 'DEEPAKFERT.ns', 'KAYNES.ns', 'RCF.ns', 'AADHARHFC.ns', 'SUVENPHAR.ns', 'BRIGADE.ns', 'MINDACORP.ns', 'ZEEL.ns', 'SWANENERGY.ns', 'EIDPARRY.ns', 'WHIRLPOOL.ns', 'SAMMAANCAP.ns', 'USHAMART.ns', 'GMDCLTD.ns', 'SONATSOFTW.ns', 'CROMPTON.ns', 'JKLAKSHMI.ns', 'TECHNOE.ns', 'CAPLIPOINT.ns', 'CENTURYPLY.ns', 'NATIONALUM.ns', 'CONCORDBIO.ns', 'ERIS.ns', 'JYOTICNC.ns', 'SUMICHEM.ns', 'APARINDS.ns', 'ACI.ns', 'KFINTECH.ns', 'SCI.ns', 'FIVESTAR.ns', 'SOBHA.ns', 'UJJIVANSFB.ns', 'JMFINANCIL.ns', 'NETWEB.ns']\n"
     ]
    }
   ],
   "source": [
    "#converting every stock name as .NSE to get yahoo finance info\n",
    "for i in range(len(nifty150Symbols)):\n",
    "    nifty150Symbols[i]+='.ns'\n",
    "    \n",
    "print(nifty150Symbols)  "
   ]
  },
  {
   "cell_type": "code",
   "execution_count": 6,
   "metadata": {},
   "outputs": [],
   "source": [
    "#checking the stock details\n",
    "def get_info(ticker):\n",
    "    stock=yf.Ticker(ticker)\n",
    "    print(stock.info)"
   ]
  },
  {
   "cell_type": "code",
   "execution_count": null,
   "metadata": {},
   "outputs": [],
   "source": [
    "# for i in nifty150Symbols:\n",
    "#     print(get_info(i))"
   ]
  },
  {
   "cell_type": "code",
   "execution_count": 8,
   "metadata": {},
   "outputs": [],
   "source": [
    "def save_csv(stock_name):\n",
    "    stock=yf.Ticker(stock_name)\n",
    "    df=stock.history(period=\"20y\")[\"Close\"]\n",
    "    file=stock_name.replace(\".\",\"_\")+\".csv\"\n",
    "    df.to_csv(file)"
   ]
  },
  {
   "cell_type": "code",
   "execution_count": 9,
   "metadata": {},
   "outputs": [
    {
     "name": "stderr",
     "output_type": "stream",
     "text": [
      "Could not get exchangeTimezoneName for ticker 'EASEMYTRIP.NS' reason: 'chart'\n",
      "$EASEMYTRIP.NS: possibly delisted; no price data found  (period=20y)\n"
     ]
    }
   ],
   "source": [
    "for stock in nifty150Symbols:\n",
    "    save_csv(stock)"
   ]
  }
 ],
 "metadata": {
  "kernelspec": {
   "display_name": "Python 3",
   "language": "python",
   "name": "python3"
  },
  "language_info": {
   "codemirror_mode": {
    "name": "ipython",
    "version": 3
   },
   "file_extension": ".py",
   "mimetype": "text/x-python",
   "name": "python",
   "nbconvert_exporter": "python",
   "pygments_lexer": "ipython3",
   "version": "3.12.0"
  }
 },
 "nbformat": 4,
 "nbformat_minor": 2
}
